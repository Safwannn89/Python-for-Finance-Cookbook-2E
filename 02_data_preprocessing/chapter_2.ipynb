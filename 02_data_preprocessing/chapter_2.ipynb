{
 "cells": [
  {
   "cell_type": "markdown",
   "id": "3ddbb763",
   "metadata": {},
   "source": [
    "Please run those two cells before running the Notebook!\n",
    "\n",
    "As those plotting settings are standard throughout the book, we do not show them in the book every time we plot something."
   ]
  },
  {
   "cell_type": "code",
   "execution_count": null,
   "id": "ad411993",
   "metadata": {
    "ExecuteTime": {
     "end_time": "2020-01-29T10:48:06.120195Z",
     "start_time": "2020-01-29T10:48:05.814125Z"
    }
   },
   "outputs": [],
   "source": [
    "# %matplotlib inline\n",
    "%config InlineBackend.figure_format = \"retina\""
   ]
  },
  {
   "cell_type": "code",
   "execution_count": null,
   "id": "280fdc8a",
   "metadata": {
    "ExecuteTime": {
     "end_time": "2020-01-29T10:48:13.141309Z",
     "start_time": "2020-01-29T10:48:13.137453Z"
    }
   },
   "outputs": [],
   "source": [
    "import matplotlib.pyplot as plt\n",
    "import seaborn as sns\n",
    "\n",
    "import warnings\n",
    "warnings.simplefilter(action=\"ignore\", category=FutureWarning)\n",
    "\n",
    "# feel free to modify, for example, change the context to \"notebook\"\n",
    "sns.set_theme(context=\"talk\", style=\"whitegrid\", \n",
    "              palette=\"colorblind\", color_codes=True, \n",
    "              rc={\"figure.figsize\": [12, 8]})"
   ]
  },
  {
   "cell_type": "markdown",
   "id": "cb741acf",
   "metadata": {},
   "source": [
    "# Chapter 2 - Data Preprocessing"
   ]
  },
  {
   "cell_type": "markdown",
   "id": "faea99ff",
   "metadata": {},
   "source": [
    "## 2.1 Converting prices to returns"
   ]
  },
  {
   "cell_type": "markdown",
   "id": "0648f324",
   "metadata": {},
   "source": [
    "### How to do it..."
   ]
  },
  {
   "cell_type": "markdown",
   "id": "9b30f602",
   "metadata": {},
   "source": [
    "1. Import the libraries:"
   ]
  },
  {
   "cell_type": "code",
   "execution_count": null,
   "id": "e89ce710",
   "metadata": {
    "ExecuteTime": {
     "end_time": "2019-11-30T14:56:23.665431Z",
     "start_time": "2019-11-30T14:56:23.662859Z"
    }
   },
   "outputs": [],
   "source": [
    "import pandas as pd \n",
    "import numpy as np\n",
    "import yfinance as yf"
   ]
  },
  {
   "cell_type": "markdown",
   "id": "64894ff5",
   "metadata": {},
   "source": [
    "2. Download the data and keep the adjusted close prices only:"
   ]
  },
  {
   "cell_type": "code",
   "execution_count": null,
   "id": "86e62b2c",
   "metadata": {
    "ExecuteTime": {
     "end_time": "2019-11-30T14:56:26.081194Z",
     "start_time": "2019-11-30T14:56:25.792578Z"
    }
   },
   "outputs": [],
   "source": [
    "df = yf.download(\"AAPL\", \n",
    "                 start=\"2010-01-01\", \n",
    "                 end=\"2020-12-31\",\n",
    "                 progress=False)\n",
    "\n",
    "df = df.loc[:, [\"Adj Close\"]]"
   ]
  },
  {
   "cell_type": "markdown",
   "id": "d5661ba5",
   "metadata": {},
   "source": [
    "3. Convert adjusted close prices to simple and log returns:"
   ]
  },
  {
   "cell_type": "code",
   "execution_count": null,
   "id": "247a5c59",
   "metadata": {
    "ExecuteTime": {
     "end_time": "2019-11-30T14:56:27.550400Z",
     "start_time": "2019-11-30T14:56:27.543542Z"
    }
   },
   "outputs": [],
   "source": [
    "df[\"simple_rtn\"] = df[\"Adj Close\"].pct_change()\n",
    "df[\"log_rtn\"] = np.log(df[\"Adj Close\"]/df[\"Adj Close\"].shift(1))"
   ]
  },
  {
   "cell_type": "markdown",
   "id": "af126e0c",
   "metadata": {},
   "source": [
    "4. Inspect the output:"
   ]
  },
  {
   "cell_type": "code",
   "execution_count": null,
   "id": "947ad1fa",
   "metadata": {
    "ExecuteTime": {
     "end_time": "2019-11-30T14:56:28.623109Z",
     "start_time": "2019-11-30T14:56:28.615548Z"
    }
   },
   "outputs": [],
   "source": [
    "df.head()"
   ]
  },
  {
   "cell_type": "markdown",
   "id": "d8a02afe",
   "metadata": {},
   "source": [
    "## 2.2 Adjusting the returns for inflation"
   ]
  },
  {
   "cell_type": "markdown",
   "id": "94d42f4f",
   "metadata": {},
   "source": [
    "### How to do it..."
   ]
  },
  {
   "cell_type": "markdown",
   "id": "ca1c2ba9",
   "metadata": {},
   "source": [
    "0. Recreating the steps from the previous recipe:"
   ]
  },
  {
   "cell_type": "code",
   "execution_count": null,
   "id": "f0fddc43-7094-4df9-9b7c-acd0210bd4a8",
   "metadata": {},
   "outputs": [],
   "source": [
    "!pip install pandas-datareader"
   ]
  },
  {
   "cell_type": "code",
   "execution_count": null,
   "id": "c2e7539f-eefb-4360-813b-7930e1374430",
   "metadata": {},
   "outputs": [],
   "source": [
    "!pip install cpi"
   ]
  },
  {
   "cell_type": "code",
   "execution_count": null,
   "id": "4aa8d547",
   "metadata": {},
   "outputs": [],
   "source": [
    "import yfinance as yf\n",
    "\n",
    "df = yf.download(\"AAPL\", \n",
    "                 start=\"2010-01-01\", \n",
    "                 end=\"2020-12-31\",\n",
    "                 progress=False)\n",
    "\n",
    "df = df.loc[:, [\"Close\"]]"
   ]
  },
  {
   "cell_type": "markdown",
   "id": "9c1c6a95",
   "metadata": {},
   "source": [
    "1. Import libraries and authenticate:"
   ]
  },
  {
   "cell_type": "code",
   "execution_count": null,
   "id": "fe12d8e3",
   "metadata": {
    "ExecuteTime": {
     "end_time": "2019-11-30T14:52:47.939066Z",
     "start_time": "2019-11-30T14:52:47.902169Z"
    }
   },
   "outputs": [],
   "source": [
    "import pandas_datareader.data as web\n",
    "\n",
    "# Download CPI data from FRED\n",
    "df_cpi = web.DataReader(\"CPIAUCSL\", \"fred\",\n",
    "                        start=\"2009-12-01\",\n",
    "                        end=\"2020-12-31\")\n",
    "\n",
    "# Rename the column for consistency\n",
    "df_cpi = df_cpi.rename(columns={\"CPIAUCSL\": \"cpi\"})\n",
    "\n",
    "df_cpi.head()"
   ]
  },
  {
   "cell_type": "markdown",
   "id": "f161eda5",
   "metadata": {
    "ExecuteTime": {
     "end_time": "2019-04-17T19:59:22.672136Z",
     "start_time": "2019-04-17T19:59:21.804305Z"
    }
   },
   "source": [
    "2. Resample daily prices to monthly:"
   ]
  },
  {
   "cell_type": "code",
   "execution_count": null,
   "id": "427f6c0f",
   "metadata": {},
   "outputs": [],
   "source": [
    "df = df.resample(\"M\").last()\n",
    "df"
   ]
  },
  {
   "cell_type": "markdown",
   "id": "ef7d5b6a",
   "metadata": {},
   "source": [
    "3. Download inflation data from Nasdaq Data Link:"
   ]
  },
  {
   "cell_type": "code",
   "execution_count": null,
   "id": "0c4e7bf8",
   "metadata": {
    "ExecuteTime": {
     "end_time": "2019-11-30T15:04:08.530881Z",
     "start_time": "2019-11-30T15:04:07.551059Z"
    }
   },
   "outputs": [],
   "source": [
    "df_cpi = (\n",
    "    nasdaqdatalink.get(dataset=\"RATEINF/CPI_USA\", \n",
    "                       start_date=\"2009-12-01\", \n",
    "                       end_date=\"2020-12-31\")\n",
    "    .rename(columns={\"Value\": \"cpi\"})\n",
    ")"
   ]
  },
  {
   "cell_type": "code",
   "execution_count": null,
   "id": "ae13146b",
   "metadata": {},
   "outputs": [],
   "source": [
    "df_cpi"
   ]
  },
  {
   "cell_type": "markdown",
   "id": "73117ac1",
   "metadata": {
    "tags": []
   },
   "source": [
    "4. Join inflation data to prices:"
   ]
  },
  {
   "cell_type": "code",
   "execution_count": null,
   "id": "9d08b958",
   "metadata": {
    "ExecuteTime": {
     "end_time": "2019-11-30T15:04:09.581935Z",
     "start_time": "2019-11-30T15:04:09.578186Z"
    }
   },
   "outputs": [],
   "source": [
    "df = df.join(df_cpi, how=\"left\")"
   ]
  },
  {
   "cell_type": "markdown",
   "id": "4a204dd7",
   "metadata": {},
   "source": [
    "5. Calculate simple returns and inflation rate:"
   ]
  },
  {
   "cell_type": "code",
   "execution_count": null,
   "id": "395cb3b8",
   "metadata": {
    "ExecuteTime": {
     "end_time": "2019-11-30T15:04:10.604378Z",
     "start_time": "2019-11-30T15:04:10.597383Z"
    }
   },
   "outputs": [],
   "source": [
    "df[\"simple_rtn\"] = df[\"Adj Close\"].pct_change()\n",
    "df[\"inflation_rate\"] = df[\"cpi\"].pct_change()"
   ]
  },
  {
   "cell_type": "markdown",
   "id": "a647cd9d",
   "metadata": {},
   "source": [
    "6. Adjust the returns for inflation:"
   ]
  },
  {
   "cell_type": "code",
   "execution_count": null,
   "id": "cb924ee6",
   "metadata": {
    "ExecuteTime": {
     "end_time": "2019-11-30T15:04:11.654169Z",
     "start_time": "2019-11-30T15:04:11.642959Z"
    }
   },
   "outputs": [],
   "source": [
    "df[\"real_rtn\"] = (\n",
    "    (df[\"simple_rtn\"] + 1) / (df[\"inflation_rate\"] + 1) - 1\n",
    ")\n",
    "df.head()"
   ]
  },
  {
   "cell_type": "markdown",
   "id": "2073a1b8",
   "metadata": {},
   "source": [
    "### There's more"
   ]
  },
  {
   "cell_type": "markdown",
   "id": "09e0f306",
   "metadata": {},
   "source": [
    "1. Import the library:"
   ]
  },
  {
   "cell_type": "code",
   "execution_count": null,
   "id": "e56b026f",
   "metadata": {},
   "outputs": [],
   "source": [
    "import cpi\n",
    "\n",
    "# This will download the latest data from the Bureau of Labor Statistics\n",
    "cpi.update()"
   ]
  },
  {
   "cell_type": "code",
   "execution_count": null,
   "id": "6de8d922",
   "metadata": {},
   "outputs": [],
   "source": [
    "# in the case of seeing the `StaleDataWarning: CPI data is out of date`\n",
    "cpi.update()"
   ]
  },
  {
   "cell_type": "markdown",
   "id": "6bf855d1",
   "metadata": {},
   "source": [
    "2. Obtain the default CPI series:"
   ]
  },
  {
   "cell_type": "code",
   "execution_count": null,
   "id": "4064c221",
   "metadata": {},
   "outputs": [],
   "source": [
    "cpi_series = cpi.series.get()\n",
    "cpi_series"
   ]
  },
  {
   "cell_type": "code",
   "execution_count": null,
   "id": "3072ff4b",
   "metadata": {},
   "outputs": [],
   "source": [
    "print(cpi_series)"
   ]
  },
  {
   "cell_type": "markdown",
   "id": "4b886264",
   "metadata": {},
   "source": [
    "3. Convert the object into a `pandas` DataFrame:"
   ]
  },
  {
   "cell_type": "code",
   "execution_count": null,
   "id": "32e50e31",
   "metadata": {},
   "outputs": [],
   "source": [
    "df_cpi_2 = cpi_series.to_dataframe()"
   ]
  },
  {
   "cell_type": "markdown",
   "id": "3d7cc59c",
   "metadata": {},
   "source": [
    "4. Filter the DataFrame and view the top 12 observations:"
   ]
  },
  {
   "cell_type": "code",
   "execution_count": null,
   "id": "27728d07",
   "metadata": {},
   "outputs": [],
   "source": [
    "df_cpi_2.query(\"period_type == 'monthly' and year >= 2010\") \\\n",
    "        .loc[:, [\"date\", \"value\"]] \\\n",
    "        .set_index(\"date\") \\\n",
    "        .head(12)"
   ]
  },
  {
   "cell_type": "markdown",
   "id": "18b3e9a9",
   "metadata": {},
   "source": [
    "## 2.3 Changing the frequency of time series data"
   ]
  },
  {
   "cell_type": "markdown",
   "id": "a7147723",
   "metadata": {},
   "source": [
    "### How to do it..."
   ]
  },
  {
   "cell_type": "markdown",
   "id": "e9aea972",
   "metadata": {},
   "source": [
    "0. Obtain the log returns in case of starting in this recipe:"
   ]
  },
  {
   "cell_type": "code",
   "execution_count": null,
   "id": "fc832fca",
   "metadata": {
    "ExecuteTime": {
     "end_time": "2020-01-18T19:31:22.287848Z",
     "start_time": "2020-01-18T19:31:21.259418Z"
    }
   },
   "outputs": [],
   "source": [
    "import pandas as pd \n",
    "import yfinance as yf\n",
    "import numpy as np\n",
    "\n",
    "# download data \n",
    "df = yf.download(\"AAPL\", \n",
    "                 start=\"2000-01-01\", \n",
    "                 end=\"2010-12-31\", \n",
    "                 auto_adjust=False,\n",
    "                 progress=False)\n",
    "\n",
    "# keep only the adjusted close price\n",
    "df = df.loc[:, [\"Adj Close\"]] \\\n",
    "       .rename(columns={\"Adj Close\": \"adj_close\"})\n",
    "\n",
    "# calculate simple returns\n",
    "df[\"log_rtn\"] = np.log(df[\"adj_close\"]/df[\"adj_close\"].shift(1))\n",
    "\n",
    "# remove redundant data\n",
    "df = df.drop(\"adj_close\", axis=1) \\\n",
    "       .dropna(axis=0)\n",
    "\n",
    "df.head()"
   ]
  },
  {
   "cell_type": "markdown",
   "id": "3d1a545c",
   "metadata": {
    "ExecuteTime": {
     "end_time": "2019-04-17T19:59:24.710535Z",
     "start_time": "2019-04-17T19:59:23.359839Z"
    }
   },
   "source": [
    "1. Import the libraries:"
   ]
  },
  {
   "cell_type": "code",
   "execution_count": null,
   "id": "ffa2594e",
   "metadata": {
    "ExecuteTime": {
     "end_time": "2020-01-18T19:31:22.518995Z",
     "start_time": "2020-01-18T19:31:22.516127Z"
    }
   },
   "outputs": [],
   "source": [
    "import pandas as pd \n",
    "import numpy as np"
   ]
  },
  {
   "cell_type": "markdown",
   "id": "4198f707",
   "metadata": {
    "ExecuteTime": {
     "end_time": "2019-04-17T19:59:24.710535Z",
     "start_time": "2019-04-17T19:59:23.359839Z"
    }
   },
   "source": [
    "2. Define the function for calculating the realized volatility:"
   ]
  },
  {
   "cell_type": "code",
   "execution_count": null,
   "id": "a048d924",
   "metadata": {
    "ExecuteTime": {
     "end_time": "2020-01-18T19:31:23.284265Z",
     "start_time": "2020-01-18T19:31:23.281316Z"
    }
   },
   "outputs": [],
   "source": [
    "def realized_volatility(x):\n",
    "    return np.sqrt(np.sum(x**2))"
   ]
  },
  {
   "cell_type": "markdown",
   "id": "d7876b8b",
   "metadata": {},
   "source": [
    "3. Calculate monthly realized volatility:"
   ]
  },
  {
   "cell_type": "code",
   "execution_count": null,
   "id": "abbed52a",
   "metadata": {
    "ExecuteTime": {
     "end_time": "2020-01-18T19:31:23.828166Z",
     "start_time": "2020-01-18T19:31:23.658707Z"
    }
   },
   "outputs": [],
   "source": [
    "df_rv = (\n",
    "    df.groupby(pd.Grouper(freq=\"M\"))\n",
    "    .apply(realized_volatility)\n",
    "    .rename(columns={\"log_rtn\": \"rv\"})\n",
    ")"
   ]
  },
  {
   "cell_type": "markdown",
   "id": "af683346",
   "metadata": {},
   "source": [
    "4. Annualize the values:"
   ]
  },
  {
   "cell_type": "code",
   "execution_count": null,
   "id": "d7ac638b",
   "metadata": {
    "ExecuteTime": {
     "end_time": "2020-01-18T19:31:24.018004Z",
     "start_time": "2020-01-18T19:31:24.013998Z"
    }
   },
   "outputs": [],
   "source": [
    "df_rv.rv = df_rv[\"rv\"] * np.sqrt(12)"
   ]
  },
  {
   "cell_type": "markdown",
   "id": "33153959",
   "metadata": {},
   "source": [
    "5. Plot the results:"
   ]
  },
  {
   "cell_type": "code",
   "execution_count": null,
   "id": "222dd1a0",
   "metadata": {
    "ExecuteTime": {
     "end_time": "2020-01-18T19:33:05.785614Z",
     "start_time": "2020-01-18T19:33:03.920890Z"
    }
   },
   "outputs": [],
   "source": [
    "fig, ax = plt.subplots(2, 1, sharex=True)\n",
    "ax[0].plot(df)\n",
    "ax[0].set_title(\"Apple's log returns (2000-2012)\")\n",
    "ax[1].plot(df_rv)\n",
    "ax[1].set_title(\"Annualized realized volatility\")\n",
    "\n",
    "sns.despine()\n",
    "plt.tight_layout()\n",
    "# plt.savefig('images/figure_2_5', dpi=200)"
   ]
  },
  {
   "cell_type": "markdown",
   "id": "fd18308b",
   "metadata": {},
   "source": [
    "## 2.4 Different ways of imputing missing data"
   ]
  },
  {
   "cell_type": "markdown",
   "id": "605a52e2",
   "metadata": {},
   "source": [
    "### How to do it..."
   ]
  },
  {
   "cell_type": "markdown",
   "id": "6e4988df",
   "metadata": {},
   "source": [
    "1. Import the libraries:"
   ]
  },
  {
   "cell_type": "code",
   "execution_count": null,
   "id": "e6d13272",
   "metadata": {},
   "outputs": [],
   "source": [
    "import pandas as pd\n",
    "import numpy as np\n",
    "import nasdaqdatalink"
   ]
  },
  {
   "cell_type": "markdown",
   "id": "ea30e123",
   "metadata": {},
   "source": [
    "2. Download the inflation data from Nasdaq Data Link:"
   ]
  },
  {
   "cell_type": "code",
   "execution_count": null,
   "id": "f1fa7b70",
   "metadata": {},
   "outputs": [],
   "source": [
    "import pandas_datareader.data as web\n",
    "\n",
    "df = web.DataReader(\"CPIAUCSL\", \"fred\",\n",
    "                    start=\"2015-01-01\",\n",
    "                    end=\"2020-12-31\").rename(columns={\"CPIAUCSL\": \"cpi\"})"
   ]
  },
  {
   "cell_type": "markdown",
   "id": "dc44443b",
   "metadata": {},
   "source": [
    "3. Introduce 5 missing values at random:"
   ]
  },
  {
   "cell_type": "code",
   "execution_count": null,
   "id": "eac52e98",
   "metadata": {},
   "outputs": [],
   "source": [
    "np.random.seed(42)\n",
    "rand_indices = np.random.choice(df.index, 5, replace=False)\n",
    "\n",
    "df[\"cpi_missing\"] = df.loc[:, \"cpi\"]\n",
    "df.loc[rand_indices, \"cpi_missing\"] = np.nan\n",
    "df.head()"
   ]
  },
  {
   "cell_type": "markdown",
   "id": "9f20faa4",
   "metadata": {},
   "source": [
    "4. Fill the missing values using different methods:"
   ]
  },
  {
   "cell_type": "code",
   "execution_count": null,
   "id": "55456d71",
   "metadata": {},
   "outputs": [],
   "source": [
    "# Use the modern .bfill() and .ffill() methods\n",
    "df[\"method_bfill\"] = df[[\"cpi_missing\"]].bfill()\n",
    "df[\"method_ffill\"] = df[[\"cpi_missing\"]].ffill()"
   ]
  },
  {
   "cell_type": "markdown",
   "id": "1cccb10a",
   "metadata": {},
   "source": [
    "5. Inspect the results by displaying the rows in which we created the missing values:"
   ]
  },
  {
   "cell_type": "code",
   "execution_count": null,
   "id": "788319c1",
   "metadata": {},
   "outputs": [],
   "source": [
    "df.loc[rand_indices].sort_index()"
   ]
  },
  {
   "cell_type": "markdown",
   "id": "be097fbe",
   "metadata": {},
   "source": [
    "6. Plot the results for years 2015-2016:"
   ]
  },
  {
   "cell_type": "code",
   "execution_count": null,
   "id": "c3f6d269",
   "metadata": {
    "tags": []
   },
   "outputs": [],
   "source": [
    "df.loc[:\"2017-01-01\"] \\\n",
    "  .drop(columns=[\"cpi_missing\"]) \\\n",
    "  .plot(title=\"Different ways of filling missing values\");\n",
    "\n",
    "sns.despine()\n",
    "plt.tight_layout()\n",
    "# plt.savefig('images/figure_2_8', dpi=200)"
   ]
  },
  {
   "cell_type": "markdown",
   "id": "9351074c",
   "metadata": {},
   "source": [
    "### There's more"
   ]
  },
  {
   "cell_type": "markdown",
   "id": "7bfaa7d0",
   "metadata": {},
   "source": [
    "1. Use linear interpolation to fill the missing values:"
   ]
  },
  {
   "cell_type": "code",
   "execution_count": null,
   "id": "00afd2d8",
   "metadata": {},
   "outputs": [],
   "source": [
    "df[\"method_interpolate\"] = df[[\"cpi_missing\"]].interpolate()"
   ]
  },
  {
   "cell_type": "markdown",
   "id": "ea6efc2c",
   "metadata": {},
   "source": [
    "2. Inspect the results:"
   ]
  },
  {
   "cell_type": "code",
   "execution_count": null,
   "id": "56076a4d",
   "metadata": {},
   "outputs": [],
   "source": [
    "df.loc[rand_indices].sort_index()"
   ]
  },
  {
   "cell_type": "markdown",
   "id": "eb5d7095",
   "metadata": {},
   "source": [
    "3. Plot the results:"
   ]
  },
  {
   "cell_type": "code",
   "execution_count": null,
   "id": "8de2748d",
   "metadata": {},
   "outputs": [],
   "source": [
    "df.loc[:\"2017-01-01\"] \\\n",
    "  .drop(columns=[\"cpi_missing\"]) \\\n",
    "  .plot(title=\"Different ways of filling missing values\");\n",
    "\n",
    "sns.despine()\n",
    "plt.tight_layout()\n",
    "# plt.savefig('images/figure_2_10', dpi=200)"
   ]
  },
  {
   "cell_type": "markdown",
   "id": "68858706",
   "metadata": {},
   "source": [
    "## 2.5 Converting currencies"
   ]
  },
  {
   "cell_type": "markdown",
   "id": "c8cba350",
   "metadata": {},
   "source": [
    "### How to do it..."
   ]
  },
  {
   "cell_type": "markdown",
   "id": "7608f3a3",
   "metadata": {},
   "source": [
    "1. Import the libraries:"
   ]
  },
  {
   "cell_type": "code",
   "execution_count": null,
   "id": "26598927-ca04-4ee6-af67-c27d1c9293b3",
   "metadata": {},
   "outputs": [],
   "source": [
    "!pip install forex-python"
   ]
  },
  {
   "cell_type": "code",
   "execution_count": null,
   "id": "c0fe1f2d",
   "metadata": {},
   "outputs": [],
   "source": [
    "import pandas as pd \n",
    "import yfinance as yf\n",
    "from forex_python.converter import CurrencyRates\n"
   ]
  },
  {
   "cell_type": "markdown",
   "id": "34ff35b5",
   "metadata": {},
   "source": [
    "2. Download Apple's OHLC prices from January 2020:"
   ]
  },
  {
   "cell_type": "code",
   "execution_count": null,
   "id": "9bb4b4af",
   "metadata": {},
   "outputs": [],
   "source": [
    "df = yf.download(\"AAPL\", \n",
    "                 start=\"2020-01-01\", \n",
    "                 end=\"2020-01-31\",\n",
    "                 progress=False)\n",
    "df = df.drop(columns=[\"Adj Close\", \"Volume\"])"
   ]
  },
  {
   "cell_type": "markdown",
   "id": "b18e897d",
   "metadata": {},
   "source": [
    "3. Instantiate the `CurrencyRates` object:"
   ]
  },
  {
   "cell_type": "code",
   "execution_count": null,
   "id": "a687c95d",
   "metadata": {},
   "outputs": [],
   "source": [
    "c = CurrencyRates()"
   ]
  },
  {
   "cell_type": "markdown",
   "id": "39b924f4",
   "metadata": {},
   "source": [
    "4. Download the USD/EUR rate for each required date:"
   ]
  },
  {
   "cell_type": "code",
   "execution_count": null,
   "id": "8515312f",
   "metadata": {},
   "outputs": [],
   "source": [
    "# Download the EUR/USD exchange rate data for the same period\n",
    "df_rates = yf.download(\"EURUSD=X\",\n",
    "                       start=\"2020-01-01\",\n",
    "                       end=\"2020-01-31\",\n",
    "                       progress=False)\n",
    "\n",
    "# Keep only the closing price and rename it\n",
    "df_rates = df_rates[[\"Close\"]].rename(columns={\"Close\": \"usd_eur\"})\n",
    "\n",
    "# Join the exchange rates to the AAPL price data\n",
    "df = df.join(df_rates, how=\"left\").ffill() # forward-fill any missing rates\n",
    "\n",
    "# Convert the price columns to EUR\n",
    "for column in ['Open', 'High', 'Low', 'Close']:\n",
    "    df[f\"{column}_EUR\"] = df[column] * df[\"usd_eur\"]\n",
    "\n",
    "df.head().round(3)"
   ]
  },
  {
   "cell_type": "markdown",
   "id": "025d7cc5",
   "metadata": {},
   "source": [
    "5. Convert the prices in USD to EUR:"
   ]
  },
  {
   "cell_type": "code",
   "execution_count": null,
   "id": "9eab0b7c",
   "metadata": {},
   "outputs": [],
   "source": [
    "for column in df.columns[:-1]:\n",
    "    df[f\"{column}_EUR\"] = df[column] * df[\"usd_eur\"]\n",
    "df.head().round(3)"
   ]
  },
  {
   "cell_type": "markdown",
   "id": "3e5fbc4d",
   "metadata": {},
   "source": [
    "### There's more"
   ]
  },
  {
   "cell_type": "markdown",
   "id": "7e40ae7e",
   "metadata": {},
   "source": [
    "1. Get the USD exchange rates to 31 available currencies:"
   ]
  },
  {
   "cell_type": "code",
   "execution_count": null,
   "id": "566eab2a",
   "metadata": {},
   "outputs": [],
   "source": [
    "usd_rates = c.get_rates(\"USD\")\n",
    "usd_rates"
   ]
  },
  {
   "cell_type": "code",
   "execution_count": null,
   "id": "95614d82",
   "metadata": {},
   "outputs": [],
   "source": [
    "len(usd_rates)"
   ]
  },
  {
   "cell_type": "markdown",
   "id": "5a274742",
   "metadata": {},
   "source": [
    "2. Download the USD/EUR exchange rate from Yahoo Finance:"
   ]
  },
  {
   "cell_type": "code",
   "execution_count": null,
   "id": "1f0e6da9",
   "metadata": {},
   "outputs": [],
   "source": [
    "df = yf.download(\"USDEUR=X\", \n",
    "                 start=\"2000-01-01\", \n",
    "                 end=\"2010-12-31\",\n",
    "                 progress=False)\n",
    "df.head()"
   ]
  },
  {
   "cell_type": "markdown",
   "id": "36893e69",
   "metadata": {},
   "source": [
    "## 2.6 Different ways of aggregating trade data"
   ]
  },
  {
   "cell_type": "markdown",
   "id": "f15060bb",
   "metadata": {},
   "source": [
    "### How to do it..."
   ]
  },
  {
   "cell_type": "markdown",
   "id": "1a146523",
   "metadata": {},
   "source": [
    "1. Import the libraries:"
   ]
  },
  {
   "cell_type": "code",
   "execution_count": null,
   "id": "565cf9f8-21a5-4c67-9267-b4bf123f2a48",
   "metadata": {},
   "outputs": [],
   "source": [
    "!pip install python-binance"
   ]
  },
  {
   "cell_type": "code",
   "execution_count": null,
   "id": "c5efbd55",
   "metadata": {},
   "outputs": [],
   "source": [
    "from binance.spot import Spot as Client\n",
    "import pandas as pd \n",
    "import numpy as np\n"
   ]
  },
  {
   "cell_type": "markdown",
   "id": "60ea73ac",
   "metadata": {},
   "source": [
    "2. Instantiate the Binance client and download the last 500 `BTCEUR` trades:"
   ]
  },
  {
   "cell_type": "code",
   "execution_count": null,
   "id": "93d5cef6",
   "metadata": {},
   "outputs": [],
   "source": [
    "spot_client = Client(base_url=\"https://api3.binance.com\")\n",
    "r = spot_client.trades(\"BTCEUR\")"
   ]
  },
  {
   "cell_type": "markdown",
   "id": "4d8d7c98",
   "metadata": {},
   "source": [
    "3. Process the downloaded trades into a `pandas` DataFrame:"
   ]
  },
  {
   "cell_type": "code",
   "execution_count": null,
   "id": "7439aa22",
   "metadata": {},
   "outputs": [],
   "source": [
    "df = (\n",
    "    pd.DataFrame(r)\n",
    "    .drop(columns=[\"isBuyerMaker\", \"isBestMatch\"])\n",
    ")\n",
    "df[\"time\"] = pd.to_datetime(df[\"time\"], unit=\"ms\")\n",
    "\n",
    "for column in [\"price\", \"qty\", \"quoteQty\"]:\n",
    "    df[column] = pd.to_numeric(df[column])\n",
    "df"
   ]
  },
  {
   "cell_type": "markdown",
   "id": "e63f3d07",
   "metadata": {},
   "source": [
    "4. Define a function aggregating the raw trades information:"
   ]
  },
  {
   "cell_type": "code",
   "execution_count": null,
   "id": "126c6ca2",
   "metadata": {},
   "outputs": [],
   "source": [
    "def get_bars(df, add_time=False):\n",
    "    \"\"\"[summary]\n",
    "\n",
    "    Args:\n",
    "        df ([type]): [description]\n",
    "\n",
    "    Returns:\n",
    "        [type]: [description]\n",
    "    \"\"\"\n",
    "    ohlc = df[\"price\"].ohlc()\n",
    "    vwap = (\n",
    "        df.apply(lambda x: np.average(x[\"price\"], weights=x[\"qty\"]))\n",
    "        .to_frame(\"vwap\")\n",
    "    )\n",
    "    vol = df[\"qty\"].sum().to_frame(\"vol\")\n",
    "    cnt = df[\"qty\"].size().to_frame(\"cnt\")\n",
    "    \n",
    "    if add_time:\n",
    "        time = df[\"time\"].last().to_frame(\"time\")\n",
    "        res = pd.concat([time, ohlc, vwap, vol, cnt], axis=1)\n",
    "    else:\n",
    "        res = pd.concat([ohlc, vwap, vol, cnt], axis=1)\n",
    "    return res"
   ]
  },
  {
   "cell_type": "markdown",
   "id": "bd92af7f",
   "metadata": {},
   "source": [
    "5. Get time bars:"
   ]
  },
  {
   "cell_type": "code",
   "execution_count": null,
   "id": "7f893461",
   "metadata": {},
   "outputs": [],
   "source": [
    "df_grouped_time = df.groupby(pd.Grouper(key=\"time\", freq=\"1Min\"))\n",
    "time_bars = get_bars(df_grouped_time)\n",
    "time_bars"
   ]
  },
  {
   "cell_type": "markdown",
   "id": "f76a8167",
   "metadata": {},
   "source": [
    "6. Get tick bars:"
   ]
  },
  {
   "cell_type": "code",
   "execution_count": null,
   "id": "7787d1f7",
   "metadata": {},
   "outputs": [],
   "source": [
    "bar_size = 50 \n",
    "df[\"tick_group\"] = (\n",
    "    pd.Series(list(range(len(df))))\n",
    "    .div(bar_size)\n",
    "    .apply(np.floor)\n",
    "    .astype(int)\n",
    "    .values\n",
    ")\n",
    "df_grouped_ticks = df.groupby(\"tick_group\")\n",
    "tick_bars = get_bars(df_grouped_ticks, add_time=True)\n",
    "tick_bars"
   ]
  },
  {
   "cell_type": "markdown",
   "id": "aad2178b",
   "metadata": {},
   "source": [
    "7. Get volume bars:"
   ]
  },
  {
   "cell_type": "code",
   "execution_count": null,
   "id": "ae68baf4",
   "metadata": {},
   "outputs": [],
   "source": [
    "bar_size = 1 \n",
    "df[\"cum_qty\"] = df[\"qty\"].cumsum()\n",
    "df[\"vol_group\"] = (\n",
    "    df[\"cum_qty\"]\n",
    "    .div(bar_size)\n",
    "    .apply(np.floor)\n",
    "    .astype(int)\n",
    "    .values\n",
    ")\n",
    "df_grouped_ticks = df.groupby(\"vol_group\")\n",
    "volume_bars = get_bars(df_grouped_ticks, add_time=True)\n",
    "volume_bars"
   ]
  },
  {
   "cell_type": "markdown",
   "id": "02b3a04f",
   "metadata": {},
   "source": [
    "8. Get dollar bars:"
   ]
  },
  {
   "cell_type": "code",
   "execution_count": null,
   "id": "dcd71e2b",
   "metadata": {},
   "outputs": [],
   "source": [
    "bar_size = 50000 \n",
    "df[\"cum_value\"] = df[\"quoteQty\"].cumsum()\n",
    "df[\"value_group\"] = (\n",
    "    df[\"cum_value\"]\n",
    "    .div(bar_size)\n",
    "    .apply(np.floor)\n",
    "    .astype(int)\n",
    "    .values\n",
    ")\n",
    "df_grouped_ticks = df.groupby(\"value_group\")\n",
    "dollar_bars = get_bars(df_grouped_ticks, add_time=True)\n",
    "dollar_bars"
   ]
  }
 ],
 "metadata": {
  "interpreter": {
   "hash": "0117835dafdb051235b33d006a7ad155411608685e1d44af6fb551f6db3e7774"
  },
  "kernelspec": {
   "display_name": "Python [conda env:base] *",
   "language": "python",
   "name": "conda-base-py"
  },
  "language_info": {
   "codemirror_mode": {
    "name": "ipython",
    "version": 3
   },
   "file_extension": ".py",
   "mimetype": "text/x-python",
   "name": "python",
   "nbconvert_exporter": "python",
   "pygments_lexer": "ipython3",
   "version": "3.12.7"
  }
 },
 "nbformat": 4,
 "nbformat_minor": 5
}
