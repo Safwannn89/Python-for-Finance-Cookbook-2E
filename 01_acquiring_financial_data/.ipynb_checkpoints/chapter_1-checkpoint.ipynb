{
 "cells": [
  {
   "cell_type": "markdown",
   "metadata": {},
   "source": [
    "Please run those two cells before running the Notebook!\n",
    "\n",
    "As those plotting settings are standard throughout the book, we do not show them in the book every time we plot something."
   ]
  },
  {
   "cell_type": "code",
   "execution_count": null,
   "metadata": {
    "ExecuteTime": {
     "end_time": "2020-01-29T10:48:06.120195Z",
     "start_time": "2020-01-29T10:48:05.814125Z"
    }
   },
   "outputs": [],
   "source": [
    "# %matplotlib inline\n",
    "%config InlineBackend.figure_format = \"retina\""
   ]
  },
  {
   "cell_type": "code",
   "execution_count": null,
   "metadata": {
    "ExecuteTime": {
     "end_time": "2020-01-29T10:48:13.141309Z",
     "start_time": "2020-01-29T10:48:13.137453Z"
    }
   },
   "outputs": [],
   "source": [
    "import matplotlib.pyplot as plt\n",
    "import seaborn as sns\n",
    "\n",
    "import warnings\n",
    "from pandas.errors import SettingWithCopyWarning  # ✅ FIXED import\n",
    "\n",
    "# Ignore future and SettingWithCopy warnings\n",
    "warnings.simplefilter(action=\"ignore\", category=FutureWarning)\n",
    "warnings.simplefilter(action=\"ignore\", category=SettingWithCopyWarning)\n",
    "\n",
    "# Set Seaborn theme for plots\n",
    "sns.set_theme(context=\"talk\", style=\"whitegrid\", \n",
    "              palette=\"colorblind\", color_codes=True, \n",
    "              rc={\"figure.figsize\": [12, 8]})\n"
   ]
  },
  {
   "cell_type": "markdown",
   "metadata": {},
   "source": [
    "# Chapter 1 - Acquiring Financial Data "
   ]
  },
  {
   "cell_type": "markdown",
   "metadata": {},
   "source": [
    "## 1.1 Getting data from Yahoo Finance"
   ]
  },
  {
   "cell_type": "markdown",
   "metadata": {},
   "source": [
    "### How to do it..."
   ]
  },
  {
   "cell_type": "markdown",
   "metadata": {},
   "source": [
    "1. Import the libraries:"
   ]
  },
  {
   "cell_type": "code",
   "execution_count": null,
   "metadata": {
    "ExecuteTime": {
     "end_time": "2020-01-17T23:26:32.940680Z",
     "start_time": "2020-01-17T23:26:31.807352Z"
    }
   },
   "outputs": [],
   "source": [
    "import pandas as pd \n",
    "import yfinance as yf"
   ]
  },
  {
   "cell_type": "markdown",
   "metadata": {},
   "source": [
    "2. Download the data:"
   ]
  },
  {
   "cell_type": "code",
   "execution_count": null,
   "metadata": {
    "ExecuteTime": {
     "end_time": "2020-01-17T23:26:33.877155Z",
     "start_time": "2020-01-17T23:26:33.576806Z"
    }
   },
   "outputs": [],
   "source": [
    "df = yf.download(\"AAPL\", \n",
    "                 start=\"2011-01-01\", \n",
    "                 end=\"2021-12-31\",\n",
    "                 progress=False)"
   ]
  },
  {
   "cell_type": "markdown",
   "metadata": {},
   "source": [
    "3. Inspect the data:"
   ]
  },
  {
   "cell_type": "code",
   "execution_count": null,
   "metadata": {
    "ExecuteTime": {
     "end_time": "2020-01-17T23:26:38.561800Z",
     "start_time": "2020-01-17T23:26:38.541896Z"
    },
    "scrolled": true
   },
   "outputs": [],
   "source": [
    "print(f\"Downloaded {len(df)} rows of data.\")\n",
    "df"
   ]
  },
  {
   "cell_type": "markdown",
   "metadata": {},
   "source": [
    "### There's more"
   ]
  },
  {
   "cell_type": "markdown",
   "metadata": {},
   "source": [
    "We can also use the `Ticker` class to download the historical prices and much more."
   ]
  },
  {
   "cell_type": "code",
   "execution_count": null,
   "metadata": {},
   "outputs": [],
   "source": [
    "# instantiate the Ticker class\n",
    "aapl_data = yf.Ticker(\"AAPL\")"
   ]
  },
  {
   "cell_type": "code",
   "execution_count": null,
   "metadata": {},
   "outputs": [],
   "source": [
    "# get the last month of historical prices\n",
    "aapl_data.history()"
   ]
  },
  {
   "cell_type": "code",
   "execution_count": null,
   "metadata": {},
   "outputs": [],
   "source": [
    "# get stock's info\n",
    "aapl_data.info"
   ]
  },
  {
   "cell_type": "code",
   "execution_count": null,
   "metadata": {},
   "outputs": [],
   "source": [
    "# show corporate actions\n",
    "aapl_data.actions"
   ]
  },
  {
   "cell_type": "code",
   "execution_count": null,
   "metadata": {},
   "outputs": [],
   "source": [
    "# show financials\n",
    "aapl_data.financials"
   ]
  },
  {
   "cell_type": "code",
   "execution_count": null,
   "metadata": {},
   "outputs": [],
   "source": [
    "# show quarterly financials\n",
    "aapl_data.quarterly_financials"
   ]
  },
  {
   "cell_type": "code",
   "execution_count": null,
   "metadata": {},
   "outputs": [],
   "source": [
    "# Show Annual Net Income (replaces deprecated .earnings)\n",
    "aapl_data.income_stmt.loc['Net Income']\n"
   ]
  },
  {
   "cell_type": "code",
   "execution_count": null,
   "metadata": {},
   "outputs": [],
   "source": [
    "# show quarterly earnings\n",
    "aapl_data.quarterly_earnings"
   ]
  },
  {
   "cell_type": "code",
   "execution_count": null,
   "metadata": {},
   "outputs": [],
   "source": [
    "# show upcoming events, such as earnings\n",
    "aapl_data.calendar"
   ]
  },
  {
   "cell_type": "markdown",
   "metadata": {},
   "source": [
    "## 1.2 Getting data from Nasdaq Data Link "
   ]
  },
  {
   "cell_type": "markdown",
   "metadata": {},
   "source": [
    "### How to do it..."
   ]
  },
  {
   "cell_type": "markdown",
   "metadata": {},
   "source": [
    "1. Import the libraries:"
   ]
  },
  {
   "cell_type": "code",
   "execution_count": null,
   "metadata": {},
   "outputs": [],
   "source": [
    "!pip install nasdaq-data-link"
   ]
  },
  {
   "cell_type": "code",
   "execution_count": null,
   "metadata": {
    "ExecuteTime": {
     "end_time": "2020-01-17T23:30:43.327777Z",
     "start_time": "2020-01-17T23:30:43.293840Z"
    }
   },
   "outputs": [],
   "source": [
    "import pandas as pd \n",
    "import nasdaqdatalink"
   ]
  },
  {
   "cell_type": "markdown",
   "metadata": {},
   "source": [
    "2. Authenticate using the personal API key:"
   ]
  },
  {
   "cell_type": "code",
   "execution_count": null,
   "metadata": {
    "ExecuteTime": {
     "end_time": "2019-11-25T18:11:14.299274Z",
     "start_time": "2019-11-25T18:11:14.296279Z"
    }
   },
   "outputs": [],
   "source": [
    "nasdaqdatalink.ApiConfig.api_key = \"YOUR_KEY_HERE\""
   ]
  },
  {
   "cell_type": "markdown",
   "metadata": {},
   "source": [
    "3. Download the data:"
   ]
  },
  {
   "cell_type": "code",
   "execution_count": null,
   "metadata": {
    "ExecuteTime": {
     "end_time": "2019-11-25T18:03:25.212313Z",
     "start_time": "2019-11-25T18:03:22.971743Z"
    }
   },
   "outputs": [],
   "source": [
    "# nasdaqdatalink.ApiConfig.api_key = \"YOUR_KEY_HERE\" # This line is also not needed if the section is unused\n",
    "\n",
    "# df = nasdaqdatalink.get(dataset=\"WIKI/AAPL\",\n",
    "#                         start_date=\"2011-01-01\", \n",
    "#                         end_date=\"2021-12-31\")\n",
    "\n",
    "# print(f\"Downloaded {len(df)} rows of data.\")\n",
    "# df.head()"
   ]
  },
  {
   "cell_type": "markdown",
   "metadata": {},
   "source": [
    "4. Inspect the data:"
   ]
  },
  {
   "cell_type": "code",
   "execution_count": null,
   "metadata": {
    "ExecuteTime": {
     "end_time": "2019-11-25T18:03:25.713899Z",
     "start_time": "2019-11-25T18:03:25.695790Z"
    }
   },
   "outputs": [],
   "source": [
    "print(f\"Downloaded {len(df)} rows of data.\")\n",
    "df.head()"
   ]
  },
  {
   "cell_type": "markdown",
   "metadata": {},
   "source": [
    "### There's more"
   ]
  },
  {
   "cell_type": "markdown",
   "metadata": {},
   "source": [
    "1. Download the data for multiple tickers using the `get_table` function:"
   ]
  },
  {
   "cell_type": "code",
   "execution_count": null,
   "metadata": {},
   "outputs": [],
   "source": [
    "COLUMNS = [\"ticker\", \"date\", \"adj_close\"]\n",
    "df = nasdaqdatalink.get_table(\"WIKI/PRICES\", \n",
    "                              ticker=[\"AAPL\", \"MSFT\", \"INTC\"], \n",
    "                              qopts={\"columns\": COLUMNS}, \n",
    "                              date={\"gte\": \"2011-01-01\", \n",
    "                                    \"lte\": \"2021-12-31\"}, \n",
    "                              paginate=True)\n",
    "df.head()"
   ]
  },
  {
   "cell_type": "markdown",
   "metadata": {},
   "source": [
    "2. Pivot the data from long to wide:"
   ]
  },
  {
   "cell_type": "code",
   "execution_count": null,
   "metadata": {},
   "outputs": [],
   "source": [
    "# set the date as index\n",
    "df = df.set_index(\"date\")\n",
    "\n",
    "# use the pivot function to reshape the data\n",
    "df_wide = df.pivot(columns=\"ticker\")\n",
    "df_wide.head()"
   ]
  },
  {
   "cell_type": "markdown",
   "metadata": {},
   "source": [
    "## 1.3 Getting data from Intrinio"
   ]
  },
  {
   "cell_type": "markdown",
   "metadata": {},
   "source": [
    "### How to do it..."
   ]
  },
  {
   "cell_type": "markdown",
   "metadata": {},
   "source": [
    "1. Import the libraries:"
   ]
  },
  {
   "cell_type": "code",
   "execution_count": null,
   "metadata": {},
   "outputs": [],
   "source": [
    "!pip install intrinio-sdk"
   ]
  },
  {
   "cell_type": "code",
   "execution_count": null,
   "metadata": {
    "ExecuteTime": {
     "end_time": "2020-01-18T13:01:52.376042Z",
     "start_time": "2020-01-18T13:01:52.017561Z"
    }
   },
   "outputs": [],
   "source": [
    "import intrinio_sdk as intrinio\n",
    "import pandas as pd"
   ]
  },
  {
   "cell_type": "markdown",
   "metadata": {},
   "source": [
    "2. Authenticate using the personal API key and select the API:"
   ]
  },
  {
   "cell_type": "code",
   "execution_count": null,
   "metadata": {
    "ExecuteTime": {
     "end_time": "2020-01-18T13:01:53.751757Z",
     "start_time": "2020-01-18T13:01:53.720336Z"
    }
   },
   "outputs": [],
   "source": [
    "# Replace \"YOUR_KEY_HERE\" with the key you received\n",
    "intrinio.ApiClient().set_api_key(\"OjVkODc5MGI4NGI5MjUwYmM5NmI2ZDhiM2QyZTM5MDFi\") \n",
    "security_api = intrinio.SecurityApi()"
   ]
  },
  {
   "cell_type": "markdown",
   "metadata": {},
   "source": [
    "3. Request the data:"
   ]
  },
  {
   "cell_type": "code",
   "execution_count": null,
   "metadata": {
    "ExecuteTime": {
     "end_time": "2020-01-18T13:01:56.623594Z",
     "start_time": "2020-01-18T13:01:54.658274Z"
    }
   },
   "outputs": [],
   "source": [
    "r = security_api.get_security_stock_prices(\n",
    "    identifier=\"AAPL\", \n",
    "    start_date=\"2011-01-01\",\n",
    "    end_date=\"2021-12-31\", \n",
    "    frequency=\"daily\",\n",
    "    page_size=10000\n",
    ")"
   ]
  },
  {
   "cell_type": "markdown",
   "metadata": {},
   "source": [
    "4. Convert the results into a DataFrame:"
   ]
  },
  {
   "cell_type": "code",
   "execution_count": null,
   "metadata": {
    "ExecuteTime": {
     "end_time": "2020-01-18T13:02:00.998268Z",
     "start_time": "2020-01-18T13:02:00.968257Z"
    }
   },
   "outputs": [],
   "source": [
    "df = (\n",
    "    pd.DataFrame(r.stock_prices_dict)\n",
    "    .sort_values(\"date\")\n",
    "    .set_index(\"date\")\n",
    ")"
   ]
  },
  {
   "cell_type": "markdown",
   "metadata": {},
   "source": [
    "5. Inspect the data:"
   ]
  },
  {
   "cell_type": "code",
   "execution_count": null,
   "metadata": {
    "ExecuteTime": {
     "end_time": "2020-01-18T13:02:04.423570Z",
     "start_time": "2020-01-18T13:02:04.409498Z"
    }
   },
   "outputs": [],
   "source": [
    "print(f\"Downloaded {df.shape[0]} rows of data.\")\n",
    "\n",
    "df.head()"
   ]
  },
  {
   "cell_type": "markdown",
   "metadata": {},
   "source": [
    "### There's more"
   ]
  },
  {
   "cell_type": "markdown",
   "metadata": {},
   "source": [
    "1. Get Coca-Cola's real-time stock price:"
   ]
  },
  {
   "cell_type": "code",
   "execution_count": null,
   "metadata": {},
   "outputs": [],
   "source": [
    "security_api.get_security_realtime_price(\"KO\")"
   ]
  },
  {
   "cell_type": "markdown",
   "metadata": {},
   "source": [
    "2. Download news articles related to Coca-Cola:"
   ]
  },
  {
   "cell_type": "code",
   "execution_count": null,
   "metadata": {
    "tags": [
     "outputPrepend"
    ]
   },
   "outputs": [],
   "source": [
    "r = intrinio.CompanyApi().get_company_news(\n",
    "    identifier=\"KO\", \n",
    "    page_size=100\n",
    ")\n",
    "\n",
    "df = pd.DataFrame(r.news_dict)\n",
    "df.head()"
   ]
  },
  {
   "cell_type": "markdown",
   "metadata": {},
   "source": [
    "3. Search for companies connected to the search phrase:"
   ]
  },
  {
   "cell_type": "markdown",
   "metadata": {},
   "source": [
    "Returns a list of companies recognized by the Thea API in the given `text` query string parameter. "
   ]
  },
  {
   "cell_type": "code",
   "execution_count": null,
   "metadata": {},
   "outputs": [],
   "source": [
    "r = intrinio.CompanyApi().recognize_company(\"Intel\")\n",
    "df = pd.DataFrame(r.companies_dict)\n",
    "df"
   ]
  },
  {
   "cell_type": "markdown",
   "metadata": {},
   "source": [
    "4. Get Coca-Cola's intraday stock prices:"
   ]
  },
  {
   "cell_type": "code",
   "execution_count": null,
   "metadata": {},
   "outputs": [],
   "source": [
    "response = (\n",
    "    security_api.get_security_intraday_prices(identifier=\"KO\", \n",
    "                                              start_date=\"2021-01-02\",\n",
    "                                              end_date=\"2021-01-05\",\n",
    "                                              page_size=1000)\n",
    "    )\n",
    "df = pd.DataFrame(response.intraday_prices_dict)\n",
    "df"
   ]
  },
  {
   "cell_type": "markdown",
   "metadata": {},
   "source": [
    "5. Get Coca-Cola's latest earnings record:"
   ]
  },
  {
   "cell_type": "code",
   "execution_count": null,
   "metadata": {},
   "outputs": [],
   "source": [
    "r = security_api.get_security_latest_earnings_record(identifier=\"KO\")\n",
    "print(r)"
   ]
  },
  {
   "cell_type": "markdown",
   "metadata": {},
   "source": [
    "## 1.4 Getting data from Alpha Vantage"
   ]
  },
  {
   "cell_type": "markdown",
   "metadata": {},
   "source": [
    "### How to do it..."
   ]
  },
  {
   "cell_type": "markdown",
   "metadata": {},
   "source": [
    "1. Import the libraries:"
   ]
  },
  {
   "cell_type": "code",
   "execution_count": null,
   "metadata": {},
   "outputs": [],
   "source": [
    "!pip install alpha-vantage"
   ]
  },
  {
   "cell_type": "code",
   "execution_count": null,
   "metadata": {},
   "outputs": [],
   "source": [
    "from alpha_vantage.cryptocurrencies import CryptoCurrencies"
   ]
  },
  {
   "cell_type": "markdown",
   "metadata": {},
   "source": [
    "2. Authenticate using the personal API key and select the API:"
   ]
  },
  {
   "cell_type": "code",
   "execution_count": null,
   "metadata": {},
   "outputs": [],
   "source": [
    "# Replace \"YOUR_KEY_HERE\" with your key\n",
    "ALPHA_VANTAGE_API_KEY = \"IE92VT1QH9CXI261\"\n",
    "\n",
    "# This will now work\n",
    "crypto_api = CryptoCurrencies(key=ALPHA_VANTAGE_API_KEY, \n",
    "                              output_format=\"pandas\")"
   ]
  },
  {
   "cell_type": "markdown",
   "metadata": {},
   "source": [
    "3. Download the daily prices of Bitcoin, expressed in EUR:"
   ]
  },
  {
   "cell_type": "code",
   "execution_count": null,
   "metadata": {},
   "outputs": [],
   "source": [
    "data, meta_data = crypto_api.get_digital_currency_daily(\n",
    "    symbol=\"BTC\", \n",
    "    market=\"EUR\"\n",
    ")"
   ]
  },
  {
   "cell_type": "code",
   "execution_count": null,
   "metadata": {},
   "outputs": [],
   "source": [
    "meta_data"
   ]
  },
  {
   "cell_type": "code",
   "execution_count": null,
   "metadata": {},
   "outputs": [],
   "source": [
    "data"
   ]
  },
  {
   "cell_type": "markdown",
   "metadata": {
    "tags": []
   },
   "source": [
    "4. Download the realtime exchange rate:"
   ]
  },
  {
   "cell_type": "code",
   "execution_count": null,
   "metadata": {},
   "outputs": [],
   "source": [
    "crypto_api.get_digital_currency_exchange_rate(\n",
    "    from_currency=\"BTC\", \n",
    "    to_currency=\"USD\"\n",
    ")[0].transpose()"
   ]
  },
  {
   "cell_type": "markdown",
   "metadata": {
    "tags": []
   },
   "source": [
    "### There's more"
   ]
  },
  {
   "cell_type": "markdown",
   "metadata": {},
   "source": [
    "1. Import the libraries:"
   ]
  },
  {
   "cell_type": "code",
   "execution_count": null,
   "metadata": {},
   "outputs": [],
   "source": [
    "import requests\n",
    "import pandas as pd\n",
    "from io import BytesIO"
   ]
  },
  {
   "cell_type": "markdown",
   "metadata": {},
   "source": [
    "2. Download Bitcoin's intraday data:"
   ]
  },
  {
   "cell_type": "code",
   "execution_count": null,
   "metadata": {},
   "outputs": [],
   "source": [
    "AV_API_URL = \"https://www.alphavantage.co/query\"\n",
    "parameters = {\n",
    "    \"function\": \"CRYPTO_INTRADAY\",\n",
    "    \"symbol\": \"ETH\",\n",
    "    \"market\": \"USD\",\n",
    "    \"interval\": \"30min\",\n",
    "    \"outputsize\": \"full\",\n",
    "    \"apikey\": ALPHA_VANTAGE_API_KEY\n",
    "}\n",
    "r = requests.get(AV_API_URL, params=parameters)\n",
    "data = r.json()\n",
    "df = (\n",
    "    pd.DataFrame(data[\"Time Series Crypto (30min)\"])\n",
    "    .transpose()\n",
    ")\n",
    "df"
   ]
  },
  {
   "cell_type": "markdown",
   "metadata": {},
   "source": [
    "3. Download the upcoming earnings announcements:"
   ]
  },
  {
   "cell_type": "code",
   "execution_count": null,
   "metadata": {},
   "outputs": [],
   "source": [
    "AV_API_URL = \"https://www.alphavantage.co/query\" \n",
    "parameters = {\n",
    "    \"function\": \"EARNINGS_CALENDAR\",\n",
    "    \"horizon\": \"3month\",\n",
    "    \"apikey\": ALPHA_VANTAGE_API_KEY\n",
    "}\n",
    "\n",
    "r = requests.get(AV_API_URL, params=parameters)\n",
    "pd.read_csv(BytesIO(r.content))"
   ]
  },
  {
   "cell_type": "code",
   "execution_count": null,
   "metadata": {},
   "outputs": [],
   "source": [
    "type(r.content)"
   ]
  },
  {
   "cell_type": "markdown",
   "metadata": {
    "tags": []
   },
   "source": [
    "### Bonus\n",
    "\n",
    "This section includes some additional short recipes not published in the book."
   ]
  },
  {
   "cell_type": "markdown",
   "metadata": {},
   "source": [
    "1. Get Tesla's earnings:"
   ]
  },
  {
   "cell_type": "code",
   "execution_count": null,
   "metadata": {},
   "outputs": [],
   "source": [
    "AV_API_URL = \"https://www.alphavantage.co/query\" \n",
    "parameters = {\n",
    "    \"function\": \"EARNINGS\",\n",
    "    \"symbol\": \"TSLA\", \n",
    "    \"apikey\": ALPHA_VANTAGE_API_KEY\n",
    "}\n",
    "r = requests.get(AV_API_URL,  params=parameters)\n",
    "data = r.json()"
   ]
  },
  {
   "cell_type": "code",
   "execution_count": null,
   "metadata": {},
   "outputs": [],
   "source": [
    "data.keys()"
   ]
  },
  {
   "cell_type": "code",
   "execution_count": null,
   "metadata": {},
   "outputs": [],
   "source": [
    "df = pd.DataFrame(data[\"quarterlyEarnings\"])\n",
    "df.head()"
   ]
  },
  {
   "cell_type": "markdown",
   "metadata": {},
   "source": [
    "2. Download the upcoming IPOs:"
   ]
  },
  {
   "cell_type": "code",
   "execution_count": null,
   "metadata": {},
   "outputs": [],
   "source": [
    "import csv\n",
    "\n",
    "AV_API_URL = \"https://www.alphavantage.co/query\" \n",
    "parameters = {\n",
    "    \"function\": \"IPO_CALENDAR\",\n",
    "    \"apikey\": ALPHA_VANTAGE_API_KEY\n",
    "}\n",
    "\n",
    "with requests.Session() as s:\n",
    "    download = s.get(AV_API_URL, params=parameters)\n",
    "    decoded_content = download.content.decode(\"utf-8\")\n",
    "    ipos_list = list(csv.reader(decoded_content.splitlines(), delimiter=\",\"))\n",
    "\n",
    "df = pd.DataFrame(ipos_list[1:], columns=ipos_list[0])\n",
    "df"
   ]
  },
  {
   "cell_type": "markdown",
   "metadata": {},
   "source": [
    "3. Download Google's stock prices using the `TimeSeries` module:"
   ]
  },
  {
   "cell_type": "code",
   "execution_count": null,
   "metadata": {},
   "outputs": [],
   "source": [
    "from alpha_vantage.timeseries import TimeSeries\n",
    "\n",
    "ts = TimeSeries(key=ALPHA_VANTAGE_API_KEY, output_format=\"pandas\")\n",
    "data, _ = ts.get_daily(\"GOOGL\", outputsize=\"full\")\n",
    "print(f\"Downloaded {len(data)} observations\")\n",
    "data"
   ]
  },
  {
   "cell_type": "markdown",
   "metadata": {},
   "source": [
    "4. Similarly, we can download the intraday prices:"
   ]
  },
  {
   "cell_type": "code",
   "execution_count": null,
   "metadata": {},
   "outputs": [],
   "source": [
    "data, _ = ts.get_intraday(\"GOOGL\", interval=\"5min\", outputsize=\"full\")\n",
    "data"
   ]
  },
  {
   "cell_type": "markdown",
   "metadata": {
    "tags": []
   },
   "source": [
    "## 1.5 Getting data from CoinGecko"
   ]
  },
  {
   "cell_type": "markdown",
   "metadata": {},
   "source": [
    "### How to do it..."
   ]
  },
  {
   "cell_type": "markdown",
   "metadata": {},
   "source": [
    "1. Import the libraries:"
   ]
  },
  {
   "cell_type": "code",
   "execution_count": null,
   "metadata": {},
   "outputs": [],
   "source": [
    "!pip install pycoingecko"
   ]
  },
  {
   "cell_type": "code",
   "execution_count": null,
   "metadata": {},
   "outputs": [],
   "source": [
    "from pycoingecko import CoinGeckoAPI\n",
    "from datetime import datetime\n",
    "import pandas as pd"
   ]
  },
  {
   "cell_type": "markdown",
   "metadata": {},
   "source": [
    "2. Instantiate the CoinGecko API:"
   ]
  },
  {
   "cell_type": "code",
   "execution_count": null,
   "metadata": {},
   "outputs": [],
   "source": [
    "cg = CoinGeckoAPI()"
   ]
  },
  {
   "cell_type": "markdown",
   "metadata": {},
   "source": [
    "3. Get Bitcoin's OHLC prices from the last 14 days:"
   ]
  },
  {
   "cell_type": "code",
   "execution_count": null,
   "metadata": {},
   "outputs": [],
   "source": [
    "ohlc = cg.get_coin_ohlc_by_id(\n",
    "    id=\"bitcoin\", vs_currency=\"usd\", days=\"14\"\n",
    ")\n",
    "ohlc_df = pd.DataFrame(ohlc)\n",
    "ohlc_df.columns = [\"date\", \"open\", \"high\", \"low\", \"close\"]\n",
    "ohlc_df[\"date\"] = pd.to_datetime(ohlc_df[\"date\"], unit=\"ms\")\n",
    "ohlc_df"
   ]
  },
  {
   "cell_type": "markdown",
   "metadata": {},
   "source": [
    "### There's more"
   ]
  },
  {
   "cell_type": "markdown",
   "metadata": {},
   "source": [
    "1. Get the top 7 trending coins (based on the # of searches in the last 24h) from CoinGecko:"
   ]
  },
  {
   "cell_type": "code",
   "execution_count": null,
   "metadata": {},
   "outputs": [],
   "source": [
    "trending_coins = cg.get_search_trending()\n",
    "(\n",
    "    pd.DataFrame([coin[\"item\"] for coin in trending_coins[\"coins\"]])\n",
    "    .drop(columns=[\"thumb\", \"small\", \"large\"])\n",
    ")"
   ]
  },
  {
   "cell_type": "markdown",
   "metadata": {},
   "source": [
    "2. Get Bitcoin's current price in USD:"
   ]
  },
  {
   "cell_type": "code",
   "execution_count": null,
   "metadata": {},
   "outputs": [],
   "source": [
    "cg.get_price(ids=\"bitcoin\", vs_currencies=\"usd\")"
   ]
  },
  {
   "cell_type": "markdown",
   "metadata": {
    "tags": []
   },
   "source": [
    "### Bonus\n",
    "\n",
    "This section includes some additional short recipes not published in the book."
   ]
  },
  {
   "cell_type": "markdown",
   "metadata": {},
   "source": [
    "1. Get current price of ETH and BTC in USD and EUR:"
   ]
  },
  {
   "cell_type": "code",
   "execution_count": null,
   "metadata": {},
   "outputs": [],
   "source": [
    "cg.get_price(ids=[\"bitcoin\", \"ethereum\"], vs_currencies=[\"usd\", \"eur\"])"
   ]
  },
  {
   "cell_type": "markdown",
   "metadata": {},
   "source": [
    "2. Get the current BTC/USD eschange rate, market capitalization, 24h volumne and change and the last-updated timestamp:"
   ]
  },
  {
   "cell_type": "code",
   "execution_count": null,
   "metadata": {},
   "outputs": [],
   "source": [
    "cg.get_price(ids=\"bitcoin\", vs_currencies=\"usd\", \n",
    "             include_market_cap=True, \n",
    "             include_24hr_vol=True, \n",
    "             include_24hr_change=True, \n",
    "             include_last_updated_at=True)"
   ]
  },
  {
   "cell_type": "markdown",
   "metadata": {},
   "source": [
    "3. Get the list of all supported coin ids, together with their name and symbol:"
   ]
  },
  {
   "cell_type": "code",
   "execution_count": null,
   "metadata": {},
   "outputs": [],
   "source": [
    "pd.DataFrame(cg.get_coins_list())"
   ]
  },
  {
   "cell_type": "markdown",
   "metadata": {},
   "source": [
    "4. Get all the coins market data:"
   ]
  },
  {
   "cell_type": "code",
   "execution_count": null,
   "metadata": {},
   "outputs": [],
   "source": [
    "pd.DataFrame(cg.get_coins_markets(vs_currency=\"eur\"))"
   ]
  },
  {
   "cell_type": "markdown",
   "metadata": {},
   "source": [
    "5. Get all the supported crypto exchanges:"
   ]
  },
  {
   "cell_type": "code",
   "execution_count": null,
   "metadata": {},
   "outputs": [],
   "source": [
    "exchanges_df = pd.DataFrame(cg.get_exchanges_list(per_page=250))\n",
    "exchanges_df.head()"
   ]
  },
  {
   "cell_type": "markdown",
   "metadata": {},
   "source": [
    "6. Get a summary of DEFI:"
   ]
  },
  {
   "cell_type": "code",
   "execution_count": null,
   "metadata": {},
   "outputs": [],
   "source": [
    "cg.get_global_decentralized_finance_defi()"
   ]
  }
 ],
 "metadata": {
  "kernelspec": {
   "display_name": "Python [conda env:base] *",
   "language": "python",
   "name": "conda-base-py"
  },
  "language_info": {
   "codemirror_mode": {
    "name": "ipython",
    "version": 3
   },
   "file_extension": ".py",
   "mimetype": "text/x-python",
   "name": "python",
   "nbconvert_exporter": "python",
   "pygments_lexer": "ipython3",
   "version": "3.12.7"
  },
  "toc": {
   "base_numbering": 1,
   "nav_menu": {},
   "number_sections": true,
   "sideBar": true,
   "skip_h1_title": false,
   "title_cell": "Table of Contents",
   "title_sidebar": "Contents",
   "toc_cell": false,
   "toc_position": {
    "height": "calc(100% - 180px)",
    "left": "10px",
    "top": "150px",
    "width": "342px"
   },
   "toc_section_display": true,
   "toc_window_display": true
  },
  "varInspector": {
   "cols": {
    "lenName": 16,
    "lenType": 16,
    "lenVar": 40
   },
   "kernels_config": {
    "python": {
     "delete_cmd_postfix": "",
     "delete_cmd_prefix": "del ",
     "library": "var_list.py",
     "varRefreshCmd": "print(var_dic_list())"
    },
    "r": {
     "delete_cmd_postfix": ") ",
     "delete_cmd_prefix": "rm(",
     "library": "var_list.r",
     "varRefreshCmd": "cat(var_dic_list()) "
    }
   },
   "types_to_exclude": [
    "module",
    "function",
    "builtin_function_or_method",
    "instance",
    "_Feature"
   ],
   "window_display": false
  },
  "vscode": {
   "interpreter": {
    "hash": "0117835dafdb051235b33d006a7ad155411608685e1d44af6fb551f6db3e7774"
   }
  }
 },
 "nbformat": 4,
 "nbformat_minor": 4
}
