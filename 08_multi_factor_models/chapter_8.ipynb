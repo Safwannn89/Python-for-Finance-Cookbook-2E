{
 "cells": [
  {
   "cell_type": "markdown",
   "metadata": {
    "id": "_OEACZptdHC7"
   },
   "source": [
    "Please run those two cells before running the Notebook!\n",
    "\n",
    "As those plotting settings are standard throughout the book, we do not show them in the book every time we plot something."
   ]
  },
  {
   "cell_type": "code",
   "execution_count": 91,
   "metadata": {
    "ExecuteTime": {
     "end_time": "2020-01-29T10:48:06.120195Z",
     "start_time": "2020-01-29T10:48:05.814125Z"
    },
    "id": "_JscbREmdHC-"
   },
   "outputs": [],
   "source": [
    "%matplotlib inline\n",
    "%config InlineBackend.figure_format = \"retina\""
   ]
  },
  {
   "cell_type": "code",
   "execution_count": 92,
   "metadata": {
    "ExecuteTime": {
     "end_time": "2020-01-29T10:48:13.141309Z",
     "start_time": "2020-01-29T10:48:13.137453Z"
    },
    "id": "r6OEEsWTdHDB"
   },
   "outputs": [],
   "source": [
    "import matplotlib.pyplot as plt\n",
    "import seaborn as sns\n",
    "\n",
    "import warnings\n",
    "# FIX: Use the official public API path from pandas.errors\n",
    "from pandas.errors import SettingWithCopyWarning\n",
    "warnings.simplefilter(action=\"ignore\", category=FutureWarning)\n",
    "warnings.simplefilter(action=\"ignore\", category=SettingWithCopyWarning)\n",
    "\n",
    "# feel free to modify, for example, change the context to \"notebook\"\n",
    "sns.set_theme(context=\"talk\", style=\"whitegrid\", \n",
    "              palette=\"colorblind\", color_codes=True, \n",
    "              rc={\"figure.figsize\": [12, 8]})"
   ]
  },
  {
   "cell_type": "markdown",
   "metadata": {
    "id": "nS3hr1kUdHDB"
   },
   "source": [
    "# Chapter 8 - Multi-Factor Models"
   ]
  },
  {
   "cell_type": "markdown",
   "metadata": {},
   "source": [
    "## 8.1 Estimating the CAPM"
   ]
  },
  {
   "cell_type": "markdown",
   "metadata": {},
   "source": [
    "### How to do it..."
   ]
  },
  {
   "cell_type": "markdown",
   "metadata": {},
   "source": [
    "1. Import the libraries:"
   ]
  },
  {
   "cell_type": "code",
   "execution_count": 97,
   "metadata": {
    "ExecuteTime": {
     "end_time": "2020-01-25T20:04:31.496882Z",
     "start_time": "2020-01-25T20:04:29.060580Z"
    }
   },
   "outputs": [],
   "source": [
    "import pandas as pd\n",
    "import yfinance as yf\n",
    "import statsmodels.api as sm"
   ]
  },
  {
   "cell_type": "markdown",
   "metadata": {},
   "source": [
    "2. Specify the risky asset, the benchmark, and the time horizon:"
   ]
  },
  {
   "cell_type": "code",
   "execution_count": 99,
   "metadata": {
    "ExecuteTime": {
     "end_time": "2020-01-25T20:04:31.508134Z",
     "start_time": "2020-01-25T20:04:31.505324Z"
    }
   },
   "outputs": [],
   "source": [
    "RISKY_ASSET = \"AMZN\"\n",
    "MARKET_BENCHMARK = \"^GSPC\"\n",
    "START_DATE = \"2016-01-01\"\n",
    "END_DATE = \"2020-12-31\""
   ]
  },
  {
   "cell_type": "markdown",
   "metadata": {},
   "source": [
    "3. Download data from Yahoo Finance:"
   ]
  },
  {
   "cell_type": "code",
   "execution_count": 101,
   "metadata": {
    "ExecuteTime": {
     "end_time": "2020-01-25T20:04:31.755119Z",
     "start_time": "2020-01-25T20:04:31.516384Z"
    }
   },
   "outputs": [
    {
     "name": "stdout",
     "output_type": "stream",
     "text": [
      "Downloaded 1258 rows of data.\n"
     ]
    }
   ],
   "source": [
    "df = yf.download([RISKY_ASSET, MARKET_BENCHMARK],\n",
    "                 start=START_DATE,\n",
    "                 end=END_DATE,\n",
    "                 auto_adjust=True,  # FIX: Replaced 'adjusted' with 'auto_adjust'\n",
    "                 progress=False)\n",
    "\n",
    "print(f'Downloaded {df.shape[0]} rows of data.')"
   ]
  },
  {
   "cell_type": "markdown",
   "metadata": {},
   "source": [
    "4. Resample to monthly data and calculate simple returns:"
   ]
  },
  {
   "cell_type": "code",
   "execution_count": 103,
   "metadata": {
    "ExecuteTime": {
     "end_time": "2020-01-25T20:04:53.657590Z",
     "start_time": "2020-01-25T20:04:53.620402Z"
    }
   },
   "outputs": [
    {
     "data": {
      "text/html": [
       "<div>\n",
       "<style scoped>\n",
       "    .dataframe tbody tr th:only-of-type {\n",
       "        vertical-align: middle;\n",
       "    }\n",
       "\n",
       "    .dataframe tbody tr th {\n",
       "        vertical-align: top;\n",
       "    }\n",
       "\n",
       "    .dataframe thead th {\n",
       "        text-align: right;\n",
       "    }\n",
       "</style>\n",
       "<table border=\"1\" class=\"dataframe\">\n",
       "  <thead>\n",
       "    <tr style=\"text-align: right;\">\n",
       "      <th>Ticker</th>\n",
       "      <th>asset</th>\n",
       "      <th>market</th>\n",
       "    </tr>\n",
       "    <tr>\n",
       "      <th>Date</th>\n",
       "      <th></th>\n",
       "      <th></th>\n",
       "    </tr>\n",
       "  </thead>\n",
       "  <tbody>\n",
       "    <tr>\n",
       "      <th>2016-02-29</th>\n",
       "      <td>-0.058739</td>\n",
       "      <td>-0.004128</td>\n",
       "    </tr>\n",
       "    <tr>\n",
       "      <th>2016-03-31</th>\n",
       "      <td>0.074423</td>\n",
       "      <td>0.065991</td>\n",
       "    </tr>\n",
       "    <tr>\n",
       "      <th>2016-04-30</th>\n",
       "      <td>0.111094</td>\n",
       "      <td>0.002699</td>\n",
       "    </tr>\n",
       "    <tr>\n",
       "      <th>2016-05-31</th>\n",
       "      <td>0.095817</td>\n",
       "      <td>0.015325</td>\n",
       "    </tr>\n",
       "    <tr>\n",
       "      <th>2016-06-30</th>\n",
       "      <td>-0.009920</td>\n",
       "      <td>0.000911</td>\n",
       "    </tr>\n",
       "  </tbody>\n",
       "</table>\n",
       "</div>"
      ],
      "text/plain": [
       "Ticker         asset    market\n",
       "Date                          \n",
       "2016-02-29 -0.058739 -0.004128\n",
       "2016-03-31  0.074423  0.065991\n",
       "2016-04-30  0.111094  0.002699\n",
       "2016-05-31  0.095817  0.015325\n",
       "2016-06-30 -0.009920  0.000911"
      ]
     },
     "execution_count": 103,
     "metadata": {},
     "output_type": "execute_result"
    }
   ],
   "source": [
    "X = (\n",
    "    df[\"Close\"]\n",
    "    .rename(columns={RISKY_ASSET: \"asset\", \n",
    "                     MARKET_BENCHMARK: \"market\"})\n",
    "    .resample(\"M\")\n",
    "    .last()\n",
    "    .pct_change()\n",
    "    .dropna()\n",
    ")\n",
    "X.head()"
   ]
  },
  {
   "cell_type": "markdown",
   "metadata": {
    "ExecuteTime": {
     "end_time": "2019-07-17T21:29:46.889870Z",
     "start_time": "2019-07-17T21:29:46.886160Z"
    }
   },
   "source": [
    "5. Calculate beta using the covariance approach: "
   ]
  },
  {
   "cell_type": "code",
   "execution_count": 105,
   "metadata": {
    "ExecuteTime": {
     "end_time": "2020-01-19T19:54:06.705710Z",
     "start_time": "2020-01-19T19:54:06.699353Z"
    }
   },
   "outputs": [
    {
     "data": {
      "text/plain": [
       "np.float64(1.153710787431552)"
      ]
     },
     "execution_count": 105,
     "metadata": {},
     "output_type": "execute_result"
    }
   ],
   "source": [
    "covariance = X.cov().iloc[0,1]\n",
    "benchmark_variance = X.market.var()\n",
    "beta = covariance / benchmark_variance\n",
    "beta"
   ]
  },
  {
   "cell_type": "markdown",
   "metadata": {},
   "source": [
    "6. Prepare the input and estimate CAPM as a linear regression:"
   ]
  },
  {
   "cell_type": "code",
   "execution_count": 107,
   "metadata": {
    "ExecuteTime": {
     "end_time": "2020-01-19T19:54:09.193249Z",
     "start_time": "2020-01-19T19:54:09.170750Z"
    }
   },
   "outputs": [
    {
     "name": "stdout",
     "output_type": "stream",
     "text": [
      "                            OLS Regression Results                            \n",
      "==============================================================================\n",
      "Dep. Variable:                  asset   R-squared:                       0.388\n",
      "Model:                            OLS   Adj. R-squared:                  0.377\n",
      "Method:                 Least Squares   F-statistic:                     36.15\n",
      "Date:                Sun, 20 Jul 2025   Prob (F-statistic):           1.37e-07\n",
      "Time:                        17:05:05   Log-Likelihood:                 79.803\n",
      "No. Observations:                  59   AIC:                            -155.6\n",
      "Df Residuals:                      57   BIC:                            -151.5\n",
      "Df Model:                           1                                         \n",
      "Covariance Type:            nonrobust                                         \n",
      "==============================================================================\n",
      "                 coef    std err          t      P>|t|      [0.025      0.975]\n",
      "------------------------------------------------------------------------------\n",
      "const          0.0188      0.009      2.182      0.033       0.002       0.036\n",
      "market         1.1537      0.192      6.013      0.000       0.769       1.538\n",
      "==============================================================================\n",
      "Omnibus:                        1.962   Durbin-Watson:                   1.856\n",
      "Prob(Omnibus):                  0.375   Jarque-Bera (JB):                1.590\n",
      "Skew:                           0.402   Prob(JB):                        0.451\n",
      "Kurtosis:                       2.986   Cond. No.                         23.2\n",
      "==============================================================================\n",
      "\n",
      "Notes:\n",
      "[1] Standard Errors assume that the covariance matrix of the errors is correctly specified.\n"
     ]
    }
   ],
   "source": [
    "# separate target\n",
    "y = X.pop(\"asset\")\n",
    "\n",
    "# add constant\n",
    "X = sm.add_constant(X)\n",
    "\n",
    "# define and fit the regression model \n",
    "capm_model = sm.OLS(y, X).fit()\n",
    "\n",
    "# print results \n",
    "print(capm_model.summary())"
   ]
  },
  {
   "cell_type": "markdown",
   "metadata": {},
   "source": [
    "Or, using the formula notation:"
   ]
  },
  {
   "cell_type": "code",
   "execution_count": 109,
   "metadata": {},
   "outputs": [
    {
     "name": "stdout",
     "output_type": "stream",
     "text": [
      "                            OLS Regression Results                            \n",
      "==============================================================================\n",
      "Dep. Variable:                  asset   R-squared:                       0.388\n",
      "Model:                            OLS   Adj. R-squared:                  0.377\n",
      "Method:                 Least Squares   F-statistic:                     36.15\n",
      "Date:                Sun, 20 Jul 2025   Prob (F-statistic):           1.37e-07\n",
      "Time:                        17:05:05   Log-Likelihood:                 79.803\n",
      "No. Observations:                  59   AIC:                            -155.6\n",
      "Df Residuals:                      57   BIC:                            -151.5\n",
      "Df Model:                           1                                         \n",
      "Covariance Type:            nonrobust                                         \n",
      "==============================================================================\n",
      "                 coef    std err          t      P>|t|      [0.025      0.975]\n",
      "------------------------------------------------------------------------------\n",
      "Intercept      0.0188      0.009      2.182      0.033       0.002       0.036\n",
      "market         1.1537      0.192      6.013      0.000       0.769       1.538\n",
      "==============================================================================\n",
      "Omnibus:                        1.962   Durbin-Watson:                   1.856\n",
      "Prob(Omnibus):                  0.375   Jarque-Bera (JB):                1.590\n",
      "Skew:                           0.402   Prob(JB):                        0.451\n",
      "Kurtosis:                       2.986   Cond. No.                         23.2\n",
      "==============================================================================\n",
      "\n",
      "Notes:\n",
      "[1] Standard Errors assume that the covariance matrix of the errors is correctly specified.\n"
     ]
    }
   ],
   "source": [
    "import yfinance as yf\n",
    "import statsmodels.formula.api as smf\n",
    "\n",
    "# Step 1: Define assets and download the data into the 'df' DataFrame\n",
    "RISKY_ASSET = \"AMZN\"\n",
    "MARKET_BENCHMARK = \"^GSPC\"\n",
    "START_DATE = \"2016-01-01\"\n",
    "END_DATE = \"2020-12-31\"\n",
    "\n",
    "df = yf.download([RISKY_ASSET, MARKET_BENCHMARK],\n",
    "                 start=START_DATE,\n",
    "                 end=END_DATE,\n",
    "                 auto_adjust=True,\n",
    "                 progress=False)\n",
    "\n",
    "# Step 2: Now process the 'df' DataFrame\n",
    "# FIX: Select the 'Close' column, which contains the adjusted prices\n",
    "X = (\n",
    "    df[\"Close\"]\n",
    "    .rename(columns={RISKY_ASSET: \"asset\", \n",
    "                     MARKET_BENCHMARK: \"market\"})\n",
    "    .resample(\"ME\")\n",
    "    .last()\n",
    "    .pct_change()\n",
    "    .dropna()\n",
    ")\n",
    "\n",
    "# define and fit the regression model \n",
    "capm_model = smf.ols(formula=\"asset ~ market\", data=X).fit()\n",
    "\n",
    "# print results \n",
    "print(capm_model.summary())"
   ]
  },
  {
   "cell_type": "markdown",
   "metadata": {},
   "source": [
    "### There's more"
   ]
  },
  {
   "cell_type": "markdown",
   "metadata": {},
   "source": [
    "#### Risk-free rate (13 Week Treasury Bill)"
   ]
  },
  {
   "cell_type": "code",
   "execution_count": 112,
   "metadata": {
    "ExecuteTime": {
     "end_time": "2020-01-25T20:30:02.795490Z",
     "start_time": "2020-01-25T20:29:57.736730Z"
    }
   },
   "outputs": [],
   "source": [
    "# period length in days\n",
    "N_DAYS = 90\n",
    "\n",
    "# download data from Yahoo finance\n",
    "df_rf = yf.download(\"^IRX\",\n",
    "                    start=START_DATE,\n",
    "                    end=END_DATE,\n",
    "                    progress=False)\n",
    "\n",
    "# resample to monthly by taking last value from each month\n",
    "rf = df_rf.resample(\"M\").last().Close / 100\n",
    "\n",
    "# calculate the corresponding daily risk-free return  \n",
    "rf = ( 1 / (1 - rf * N_DAYS / 360) )**(1 / N_DAYS)  \n",
    "\n",
    "# convert to monthly and subtract 1\n",
    "rf = (rf ** 30) - 1 \n",
    "\n",
    "# plot the risk-free rate\n",
    "rf.plot(title=\"Risk-free rate (13 Week Treasury Bill)\")\n",
    "\n",
    "sns.despine()\n",
    "plt.tight_layout()\n",
    "# plt.savefig(\"images/figure_9_2\", dpi=200)"
   ]
  },
  {
   "cell_type": "markdown",
   "metadata": {},
   "source": [
    "#### Risk-free rate (3-Month Treasury Bill)"
   ]
  },
  {
   "cell_type": "code",
   "execution_count": 114,
   "metadata": {
    "ExecuteTime": {
     "end_time": "2020-01-25T20:30:19.688513Z",
     "start_time": "2020-01-25T20:30:13.722057Z"
    }
   },
   "outputs": [],
   "source": [
    "import pandas_datareader.data as web\n",
    "\n",
    "# download the data \n",
    "rf = web.DataReader(\n",
    "    \"TB3MS\", \"fred\", start=START_DATE, end=END_DATE\n",
    ")\n",
    "\n",
    "# convert to monthly\n",
    "rf = (1 + (rf / 100)) ** (1 / 12) - 1\n",
    "\n",
    "# plot the risk-free rate\n",
    "rf.plot(title=\"Risk-free rate (3-Month Treasury Bill)\")\n",
    "\n",
    "sns.despine()\n",
    "plt.tight_layout()\n",
    "# plt.savefig(\"images/figure_9_3\", dpi=200)"
   ]
  },
  {
   "cell_type": "markdown",
   "metadata": {},
   "source": [
    "## 8.2 Estimating the Fama-French three-factor model"
   ]
  },
  {
   "cell_type": "markdown",
   "metadata": {},
   "source": [
    "### How to do it..."
   ]
  },
  {
   "cell_type": "markdown",
   "metadata": {},
   "source": [
    "1. Import the libraries:"
   ]
  },
  {
   "cell_type": "code",
   "execution_count": 118,
   "metadata": {
    "ExecuteTime": {
     "end_time": "2020-01-25T20:45:47.696443Z",
     "start_time": "2020-01-25T20:45:47.693642Z"
    }
   },
   "outputs": [],
   "source": [
    "import pandas as pd\n",
    "import yfinance as yf\n",
    "import statsmodels.formula.api as smf\n",
    "import pandas_datareader.data as web"
   ]
  },
  {
   "cell_type": "markdown",
   "metadata": {},
   "source": [
    "2. Define parameters:"
   ]
  },
  {
   "cell_type": "code",
   "execution_count": 120,
   "metadata": {},
   "outputs": [],
   "source": [
    "RISKY_ASSET = \"AAPL\"\n",
    "START_DATE = \"2016-01-01\"\n",
    "END_DATE = \"2020-12-31\""
   ]
  },
  {
   "cell_type": "markdown",
   "metadata": {},
   "source": [
    "3. Download the dataset containing the risk factors:"
   ]
  },
  {
   "cell_type": "code",
   "execution_count": 122,
   "metadata": {
    "ExecuteTime": {
     "end_time": "2020-01-25T21:00:16.771198Z",
     "start_time": "2020-01-25T21:00:16.468270Z"
    }
   },
   "outputs": [],
   "source": [
    "ff_dict = web.DataReader(\"F-F_Research_Data_Factors\", \n",
    "                         \"famafrench\", \n",
    "                         start=START_DATE,\n",
    "                         end=END_DATE)"
   ]
  },
  {
   "cell_type": "code",
   "execution_count": 123,
   "metadata": {
    "ExecuteTime": {
     "end_time": "2020-01-25T21:00:16.826373Z",
     "start_time": "2020-01-25T21:00:16.822776Z"
    }
   },
   "outputs": [
    {
     "data": {
      "text/plain": [
       "dict_keys([0, 1, 'DESCR'])"
      ]
     },
     "execution_count": 123,
     "metadata": {},
     "output_type": "execute_result"
    }
   ],
   "source": [
    "ff_dict.keys()"
   ]
  },
  {
   "cell_type": "code",
   "execution_count": 124,
   "metadata": {
    "ExecuteTime": {
     "end_time": "2020-01-25T21:00:16.887440Z",
     "start_time": "2020-01-25T21:00:16.882970Z"
    }
   },
   "outputs": [
    {
     "name": "stdout",
     "output_type": "stream",
     "text": [
      "F-F Research Data Factors\n",
      "-------------------------\n",
      "\n",
      "This file was created using the 202505 CRSP database. The 1-month TBill rate data until 202405 are from Ibbotson Associates. Starting from 202406, the 1-month TBill rate is from ICE BofA US 1-Month Treasury Bill Index. Copyright 2025 Eugene F. Fama and Kenneth R. French\n",
      "\n",
      "  0 : (60 rows x 4 cols)\n",
      "  1 : Annual Factors: January-December (5 rows x 4 cols)\n"
     ]
    }
   ],
   "source": [
    "print(ff_dict['DESCR'])"
   ]
  },
  {
   "cell_type": "markdown",
   "metadata": {},
   "source": [
    "4. Select the appropriate dataset and divide the values by 100:"
   ]
  },
  {
   "cell_type": "code",
   "execution_count": 126,
   "metadata": {},
   "outputs": [
    {
     "data": {
      "text/html": [
       "<div>\n",
       "<style scoped>\n",
       "    .dataframe tbody tr th:only-of-type {\n",
       "        vertical-align: middle;\n",
       "    }\n",
       "\n",
       "    .dataframe tbody tr th {\n",
       "        vertical-align: top;\n",
       "    }\n",
       "\n",
       "    .dataframe thead th {\n",
       "        text-align: right;\n",
       "    }\n",
       "</style>\n",
       "<table border=\"1\" class=\"dataframe\">\n",
       "  <thead>\n",
       "    <tr style=\"text-align: right;\">\n",
       "      <th></th>\n",
       "      <th>MKT</th>\n",
       "      <th>SMB</th>\n",
       "      <th>HML</th>\n",
       "      <th>RF</th>\n",
       "    </tr>\n",
       "    <tr>\n",
       "      <th>Date</th>\n",
       "      <th></th>\n",
       "      <th></th>\n",
       "      <th></th>\n",
       "      <th></th>\n",
       "    </tr>\n",
       "  </thead>\n",
       "  <tbody>\n",
       "    <tr>\n",
       "      <th>2016-01</th>\n",
       "      <td>-0.0574</td>\n",
       "      <td>-0.0340</td>\n",
       "      <td>0.0208</td>\n",
       "      <td>0.0001</td>\n",
       "    </tr>\n",
       "    <tr>\n",
       "      <th>2016-02</th>\n",
       "      <td>-0.0006</td>\n",
       "      <td>0.0073</td>\n",
       "      <td>-0.0061</td>\n",
       "      <td>0.0002</td>\n",
       "    </tr>\n",
       "    <tr>\n",
       "      <th>2016-03</th>\n",
       "      <td>0.0695</td>\n",
       "      <td>0.0075</td>\n",
       "      <td>0.0122</td>\n",
       "      <td>0.0002</td>\n",
       "    </tr>\n",
       "    <tr>\n",
       "      <th>2016-04</th>\n",
       "      <td>0.0092</td>\n",
       "      <td>0.0077</td>\n",
       "      <td>0.0322</td>\n",
       "      <td>0.0001</td>\n",
       "    </tr>\n",
       "    <tr>\n",
       "      <th>2016-05</th>\n",
       "      <td>0.0178</td>\n",
       "      <td>-0.0018</td>\n",
       "      <td>-0.0162</td>\n",
       "      <td>0.0001</td>\n",
       "    </tr>\n",
       "  </tbody>\n",
       "</table>\n",
       "</div>"
      ],
      "text/plain": [
       "            MKT     SMB     HML      RF\n",
       "Date                                   \n",
       "2016-01 -0.0574 -0.0340  0.0208  0.0001\n",
       "2016-02 -0.0006  0.0073 -0.0061  0.0002\n",
       "2016-03  0.0695  0.0075  0.0122  0.0002\n",
       "2016-04  0.0092  0.0077  0.0322  0.0001\n",
       "2016-05  0.0178 -0.0018 -0.0162  0.0001"
      ]
     },
     "execution_count": 126,
     "metadata": {},
     "output_type": "execute_result"
    }
   ],
   "source": [
    "factor_3_df = ff_dict[0].rename(columns={\"Mkt-RF\": \"MKT\"}) \\\n",
    "                        .div(100)\n",
    "\n",
    "factor_3_df.head()"
   ]
  },
  {
   "cell_type": "markdown",
   "metadata": {},
   "source": [
    "5. Download the prices of the risky asset:"
   ]
  },
  {
   "cell_type": "code",
   "execution_count": 170,
   "metadata": {
    "ExecuteTime": {
     "end_time": "2020-01-25T20:48:48.281828Z",
     "start_time": "2020-01-25T20:48:48.103450Z"
    }
   },
   "outputs": [
    {
     "name": "stdout",
     "output_type": "stream",
     "text": [
      "Downloaded 1258 rows of data.\n"
     ]
    }
   ],
   "source": [
    "asset_df = yf.download(RISKY_ASSET,\n",
    "                       start=START_DATE,\n",
    "                       end=END_DATE,\n",
    "                       auto_adjust=True,  # FIX: Replaced 'adjusted' with 'auto_adjust'\n",
    "                       progress=False)\n",
    "\n",
    "print(f\"Downloaded {asset_df.shape[0]} rows of data.\")"
   ]
  },
  {
   "cell_type": "markdown",
   "metadata": {
    "ExecuteTime": {
     "end_time": "2019-07-05T18:30:40.781647Z",
     "start_time": "2019-07-05T18:30:40.778104Z"
    }
   },
   "source": [
    "6. Calculate monthly returns on the risky asset:"
   ]
  },
  {
   "cell_type": "code",
   "execution_count": null,
   "metadata": {
    "ExecuteTime": {
     "end_time": "2020-01-25T20:48:51.665914Z",
     "start_time": "2020-01-25T20:48:51.651938Z"
    }
   },
   "outputs": [],
   "source": [
    "y = asset_df[\"Adj Close\"].resample(\"M\") \\\n",
    "                         .last() \\\n",
    "                         .pct_change() \\\n",
    "                         .dropna()\n",
    "\n",
    "y.index = y.index.to_period(\"m\")\n",
    "y.name = \"rtn\"\n",
    "y.head()"
   ]
  },
  {
   "cell_type": "markdown",
   "metadata": {},
   "source": [
    "7. Merge the datasets and calculate excess returns:"
   ]
  },
  {
   "cell_type": "code",
   "execution_count": null,
   "metadata": {
    "ExecuteTime": {
     "end_time": "2020-01-25T20:50:09.167046Z",
     "start_time": "2020-01-25T20:50:09.162415Z"
    }
   },
   "outputs": [],
   "source": [
    "factor_3_df = factor_3_df.join(y)\n",
    "factor_3_df[\"excess_rtn\"] = (\n",
    "    factor_3_df[\"rtn\"] - factor_3_df[\"RF\"]\n",
    ")\n",
    "factor_3_df.head()"
   ]
  },
  {
   "cell_type": "markdown",
   "metadata": {},
   "source": [
    "8. Estimate the three-factor model:"
   ]
  },
  {
   "cell_type": "code",
   "execution_count": null,
   "metadata": {
    "ExecuteTime": {
     "end_time": "2020-01-25T20:50:09.789755Z",
     "start_time": "2020-01-25T20:50:09.762734Z"
    }
   },
   "outputs": [],
   "source": [
    "# define and fit the regression model \n",
    "ff_model = smf.ols(formula=\"excess_rtn ~ MKT + SMB + HML\", \n",
    "                   data=factor_3_df).fit()\n",
    "\n",
    "# print results \n",
    "print(ff_model.summary())"
   ]
  },
  {
   "cell_type": "markdown",
   "metadata": {},
   "source": [
    "### There's more"
   ]
  },
  {
   "cell_type": "markdown",
   "metadata": {},
   "source": [
    "Print available datasets (here only first 5):"
   ]
  },
  {
   "cell_type": "code",
   "execution_count": null,
   "metadata": {
    "ExecuteTime": {
     "end_time": "2020-01-25T21:00:16.415253Z",
     "start_time": "2020-01-25T21:00:14.609501Z"
    }
   },
   "outputs": [],
   "source": [
    "from pandas_datareader.famafrench import get_available_datasets\n",
    "\n",
    "get_available_datasets()[:5]"
   ]
  },
  {
   "cell_type": "markdown",
   "metadata": {},
   "source": [
    "### Bonus"
   ]
  },
  {
   "cell_type": "markdown",
   "metadata": {},
   "source": [
    "1. Download data from prof. French's website:"
   ]
  },
  {
   "cell_type": "markdown",
   "metadata": {},
   "source": [
    "To do so, we used the fact that we can execute bash commands in Jupyter Notebooks by preceding them with `!`. First, we downloaded the file using wget and then unzipped it using unzip. There are also ways to do this in Python only, but this seemed like a good place to introduce the possibility of mixing up bash script into the Notebooks. The link to the monthly data is always the same, and the file is updated every month. \n"
   ]
  },
  {
   "cell_type": "code",
   "execution_count": null,
   "metadata": {
    "ExecuteTime": {
     "end_time": "2020-01-19T19:59:26.513650Z",
     "start_time": "2020-01-19T19:59:24.755998Z"
    }
   },
   "outputs": [],
   "source": [
    "# download the zip file from Prof. French's website\n",
    "!wget http://mba.tuck.dartmouth.edu/pages/faculty/ken.french/ftp/F-F_Research_Data_Factors_CSV.zip\n",
    "\n",
    "# unpack the zip file\n",
    "!unzip -a F-F_Research_Data_Factors_CSV.zip\n",
    "\n",
    "# remove the zip file\n",
    "!rm F-F_Research_Data_Factors_CSV.zip"
   ]
  },
  {
   "cell_type": "markdown",
   "metadata": {},
   "source": [
    "2. Load data from the source CSV file and keep only the monthly data:"
   ]
  },
  {
   "cell_type": "code",
   "execution_count": null,
   "metadata": {
    "ExecuteTime": {
     "end_time": "2020-01-25T20:47:40.410667Z",
     "start_time": "2020-01-25T20:47:40.400397Z"
    }
   },
   "outputs": [],
   "source": [
    "# load data from CSV\n",
    "factor_3_df = pd.read_csv(\"F-F_Research_Data_Factors.csv\", skiprows=3)\n",
    "\n",
    "# identify where the annual data starts\n",
    "STR_TO_MATCH = \" Annual Factors: January-December \"\n",
    "indices = factor_3_df.iloc[:, 0] == STR_TO_MATCH\n",
    "start_of_annual = factor_3_df[indices].index[0]\n",
    "\n",
    "# keep only monthly data\n",
    "factor_3_df = factor_3_df[factor_3_df.index < start_of_annual]"
   ]
  },
  {
   "cell_type": "markdown",
   "metadata": {},
   "source": [
    "3. Rename columns of the DataFrame, set a datetime index and filter by dates:"
   ]
  },
  {
   "cell_type": "code",
   "execution_count": null,
   "metadata": {
    "ExecuteTime": {
     "end_time": "2020-01-25T20:47:41.016860Z",
     "start_time": "2020-01-25T20:47:41.001267Z"
    }
   },
   "outputs": [],
   "source": [
    "# rename columns\n",
    "factor_3_df.columns = [\"date\", \"mkt\", \"smb\", \"hml\", \"rf\"]\n",
    "\n",
    "# convert strings to datetime\n",
    "factor_3_df[\"date\"] = (\n",
    "    pd.to_datetime(factor_3_df[\"date\"], format=\"%Y%m\")\n",
    "    .dt.strftime(\"%Y-%m\")\n",
    ")\n",
    "\n",
    "# set index\n",
    "factor_3_df = factor_3_df.set_index(\"date\")\n",
    "\n",
    "# filter only required dates\n",
    "factor_3_df = factor_3_df.loc[START_DATE:END_DATE]"
   ]
  },
  {
   "cell_type": "markdown",
   "metadata": {},
   "source": [
    "4. Convert the values to numeric and divide by 100:"
   ]
  },
  {
   "cell_type": "code",
   "execution_count": null,
   "metadata": {},
   "outputs": [],
   "source": [
    "factor_3_df = factor_3_df.apply(pd.to_numeric, \n",
    "                            errors=\"coerce\") \\\n",
    "                     .div(100)\n",
    "factor_3_df.head()"
   ]
  },
  {
   "cell_type": "markdown",
   "metadata": {},
   "source": [
    "## 8.3 Estimating the rolling three-factor model on a portfolio of assets"
   ]
  },
  {
   "cell_type": "markdown",
   "metadata": {},
   "source": [
    "### How to do it..."
   ]
  },
  {
   "cell_type": "markdown",
   "metadata": {},
   "source": [
    "1. Import the libraries:"
   ]
  },
  {
   "cell_type": "code",
   "execution_count": null,
   "metadata": {
    "ExecuteTime": {
     "end_time": "2020-01-29T09:44:07.710284Z",
     "start_time": "2020-01-29T09:44:06.217752Z"
    }
   },
   "outputs": [],
   "source": [
    "import pandas as pd\n",
    "import numpy as np\n",
    "import yfinance as yf\n",
    "import statsmodels.formula.api as smf\n",
    "import pandas_datareader.data as web"
   ]
  },
  {
   "cell_type": "markdown",
   "metadata": {},
   "source": [
    "2. Define the parameters:"
   ]
  },
  {
   "cell_type": "code",
   "execution_count": null,
   "metadata": {
    "ExecuteTime": {
     "end_time": "2020-01-29T09:44:07.721786Z",
     "start_time": "2020-01-29T09:44:07.718682Z"
    }
   },
   "outputs": [],
   "source": [
    "ASSETS = [\"AMZN\", \"GOOG\", \"AAPL\", \"MSFT\"]\n",
    "WEIGHTS = [0.25, 0.25, 0.25, 0.25]\n",
    "START_DATE = \"2010-01-01\"\n",
    "END_DATE = \"2020-12-31\""
   ]
  },
  {
   "cell_type": "markdown",
   "metadata": {},
   "source": [
    "3. Download the factor related data:"
   ]
  },
  {
   "cell_type": "code",
   "execution_count": null,
   "metadata": {
    "ExecuteTime": {
     "end_time": "2020-01-29T09:44:08.624754Z",
     "start_time": "2020-01-29T09:44:08.285860Z"
    }
   },
   "outputs": [],
   "source": [
    "factor_3_df = web.DataReader(\"F-F_Research_Data_Factors\", \n",
    "                             \"famafrench\", \n",
    "                             start=START_DATE,\n",
    "                             end=END_DATE)[0]\n",
    "factor_3_df = factor_3_df.div(100)"
   ]
  },
  {
   "cell_type": "markdown",
   "metadata": {},
   "source": [
    "4. Download the prices of risky assets from Yahoo Finance:"
   ]
  },
  {
   "cell_type": "code",
   "execution_count": null,
   "metadata": {
    "ExecuteTime": {
     "end_time": "2020-01-29T09:44:09.289538Z",
     "start_time": "2020-01-29T09:44:08.939559Z"
    }
   },
   "outputs": [],
   "source": [
    "asset_df = yf.download(ASSETS,\n",
    "                       start=START_DATE,\n",
    "                       end=END_DATE,\n",
    "                       adjusted=True,\n",
    "                       progress=False)\n",
    "\n",
    "print(f\"Downloaded {asset_df.shape[0]} rows of data.\")"
   ]
  },
  {
   "cell_type": "markdown",
   "metadata": {},
   "source": [
    "5. Calculate the monthly returns on the risky assets:"
   ]
  },
  {
   "cell_type": "code",
   "execution_count": null,
   "metadata": {
    "ExecuteTime": {
     "end_time": "2020-01-29T09:44:10.079311Z",
     "start_time": "2020-01-29T09:44:10.052389Z"
    }
   },
   "outputs": [],
   "source": [
    "asset_df = asset_df[\"Adj Close\"].resample(\"M\") \\\n",
    "                                .last() \\\n",
    "                                .pct_change() \\\n",
    "                                .dropna()\n",
    "# reformat index for joining\n",
    "asset_df.index = asset_df.index.to_period(\"m\")"
   ]
  },
  {
   "cell_type": "markdown",
   "metadata": {},
   "source": [
    "6. Calculate the portfolio returns:"
   ]
  },
  {
   "cell_type": "code",
   "execution_count": null,
   "metadata": {
    "ExecuteTime": {
     "end_time": "2020-01-29T09:44:11.116482Z",
     "start_time": "2020-01-29T09:44:11.095431Z"
    }
   },
   "outputs": [],
   "source": [
    "asset_df[\"portfolio_returns\"] = np.matmul(\n",
    "    asset_df[ASSETS].values, \n",
    "    WEIGHTS\n",
    ")\n",
    "asset_df.head()"
   ]
  },
  {
   "cell_type": "code",
   "execution_count": null,
   "metadata": {
    "ExecuteTime": {
     "end_time": "2020-01-29T09:44:31.735019Z",
     "start_time": "2020-01-29T09:44:27.830125Z"
    }
   },
   "outputs": [],
   "source": [
    "asset_df.plot();"
   ]
  },
  {
   "cell_type": "markdown",
   "metadata": {
    "ExecuteTime": {
     "end_time": "2019-07-27T20:33:39.379864Z",
     "start_time": "2019-07-27T20:33:39.376122Z"
    }
   },
   "source": [
    "7. Merge the datasets:"
   ]
  },
  {
   "cell_type": "code",
   "execution_count": null,
   "metadata": {
    "ExecuteTime": {
     "end_time": "2020-01-29T09:44:35.683287Z",
     "start_time": "2020-01-29T09:44:35.676407Z"
    }
   },
   "outputs": [],
   "source": [
    "factor_3_df = asset_df.join(factor_3_df).drop(ASSETS, axis=1)\n",
    "factor_3_df.columns = [\"portf_rtn\", \"mkt\", \"smb\", \"hml\", \"rf\"]\n",
    "factor_3_df[\"portf_ex_rtn\"] = (\n",
    "    factor_3_df[\"portf_rtn\"] - factor_3_df[\"rf\"]\n",
    ")"
   ]
  },
  {
   "cell_type": "markdown",
   "metadata": {
    "ExecuteTime": {
     "end_time": "2019-07-27T20:33:41.550073Z",
     "start_time": "2019-07-27T20:33:41.546557Z"
    }
   },
   "source": [
    "8. Define a function for the rolling n-factor model"
   ]
  },
  {
   "cell_type": "code",
   "execution_count": null,
   "metadata": {
    "ExecuteTime": {
     "end_time": "2020-01-29T10:02:23.597243Z",
     "start_time": "2020-01-29T10:02:23.592062Z"
    }
   },
   "outputs": [],
   "source": [
    "def rolling_factor_model(input_data, formula, window_size):\n",
    "    \"\"\"\n",
    "    Function for estimating the Fama-French (n-factor) model using a rolling window of fixed size.\n",
    "    \n",
    "    Parameters\n",
    "    ------------\n",
    "    input_data : pd.DataFrame\n",
    "        A DataFrame containing the factors and asset/portfolio returns\n",
    "    formula : str\n",
    "        `statsmodels` compatible formula representing the OLS regression  \n",
    "    window_size : int\n",
    "        Rolling window length.\n",
    "    \n",
    "    Returns\n",
    "    -----------\n",
    "    coeffs_df : pd.DataFrame\n",
    "        DataFrame containing the intercept and the three factors for each iteration.\n",
    "    \"\"\"\n",
    "\n",
    "    coeffs = []\n",
    "\n",
    "    for start_ind in range(len(input_data) - window_size + 1):        \n",
    "        end_ind = start_ind + window_size\n",
    "\n",
    "        # define and fit the regression model \n",
    "        ff_model = smf.ols(\n",
    "            formula=formula, \n",
    "            data=input_data[start_ind:end_ind]\n",
    "        ).fit()\n",
    "   \n",
    "        # store coefficients\n",
    "        coeffs.append(ff_model.params)\n",
    "    \n",
    "    coeffs_df = pd.DataFrame(\n",
    "        coeffs, \n",
    "        index=input_data.index[window_size - 1:]\n",
    "    )\n",
    "\n",
    "    return coeffs_df"
   ]
  },
  {
   "cell_type": "markdown",
   "metadata": {},
   "source": [
    "9. Estimate the rolling three-factor model and plot the results:"
   ]
  },
  {
   "cell_type": "code",
   "execution_count": null,
   "metadata": {
    "ExecuteTime": {
     "end_time": "2020-01-29T10:02:30.494210Z",
     "start_time": "2020-01-29T10:02:25.939840Z"
    }
   },
   "outputs": [],
   "source": [
    "MODEL_FORMULA = \"portf_ex_rtn ~ mkt + smb + hml\"\n",
    "results_df = rolling_factor_model(factor_3_df, \n",
    "                                  MODEL_FORMULA, \n",
    "                                  window_size=60)\n",
    "(\n",
    "    results_df\n",
    "    .plot(title = \"Rolling Fama-French Three-Factor model\",\n",
    "          style=[\"-\", \"--\", \"-.\", \":\"])\n",
    "    .legend(loc=\"center left\",bbox_to_anchor=(1.0, 0.5))\n",
    ")\n",
    "\n",
    "sns.despine()\n",
    "plt.tight_layout()\n",
    "# plt.savefig(\"images/figure_9_6\", dpi=200)"
   ]
  },
  {
   "cell_type": "markdown",
   "metadata": {},
   "source": [
    "## 8.4 Estimating the four- and five-factor models"
   ]
  },
  {
   "cell_type": "markdown",
   "metadata": {},
   "source": [
    "### How to do it..."
   ]
  },
  {
   "cell_type": "markdown",
   "metadata": {},
   "source": [
    "1. Import the libraries:"
   ]
  },
  {
   "cell_type": "code",
   "execution_count": null,
   "metadata": {
    "ExecuteTime": {
     "end_time": "2020-01-25T21:32:59.744013Z",
     "start_time": "2020-01-25T21:32:59.121212Z"
    }
   },
   "outputs": [],
   "source": [
    "import pandas as pd\n",
    "import yfinance as yf\n",
    "import statsmodels.formula.api as smf\n",
    "import pandas_datareader.data as web"
   ]
  },
  {
   "cell_type": "markdown",
   "metadata": {
    "ExecuteTime": {
     "end_time": "2019-07-30T21:13:07.117897Z",
     "start_time": "2019-07-30T21:13:07.113317Z"
    }
   },
   "source": [
    "2. Specify the risky asset and the time horizon:"
   ]
  },
  {
   "cell_type": "code",
   "execution_count": null,
   "metadata": {
    "ExecuteTime": {
     "end_time": "2020-01-25T21:32:59.882469Z",
     "start_time": "2020-01-25T21:32:59.880245Z"
    }
   },
   "outputs": [],
   "source": [
    "RISKY_ASSET = \"AMZN\"\n",
    "START_DATE = \"2016-01-01\"\n",
    "END_DATE = \"2020-12-31\""
   ]
  },
  {
   "cell_type": "markdown",
   "metadata": {},
   "source": [
    "3. Download the risk factors from prof. French's website:"
   ]
  },
  {
   "cell_type": "code",
   "execution_count": null,
   "metadata": {
    "ExecuteTime": {
     "end_time": "2020-01-25T21:37:47.321394Z",
     "start_time": "2020-01-25T21:37:46.722478Z"
    }
   },
   "outputs": [],
   "source": [
    "# three factors \n",
    "factor_3_df = web.DataReader(\"F-F_Research_Data_Factors\", \n",
    "                             \"famafrench\", \n",
    "                             start=START_DATE,\n",
    "                             end=END_DATE)[0]\n",
    "\n",
    "# momentum factor\n",
    "momentum_df = web.DataReader(\"F-F_Momentum_Factor\", \n",
    "                             \"famafrench\", \n",
    "                             start=START_DATE,\n",
    "                             end=END_DATE)[0]\n",
    "      \n",
    "# five factors\n",
    "factor_5_df = web.DataReader(\"F-F_Research_Data_5_Factors_2x3\", \n",
    "                             \"famafrench\", \n",
    "                             start=START_DATE,\n",
    "                             end=END_DATE)[0]"
   ]
  },
  {
   "cell_type": "markdown",
   "metadata": {},
   "source": [
    "4. Download the data of the risky asset from Yahoo Finance:"
   ]
  },
  {
   "cell_type": "code",
   "execution_count": null,
   "metadata": {
    "ExecuteTime": {
     "end_time": "2020-01-25T21:32:45.021706Z",
     "start_time": "2020-01-25T21:32:44.855063Z"
    }
   },
   "outputs": [],
   "source": [
    "asset_df = yf.download(RISKY_ASSET,\n",
    "                       start=START_DATE,\n",
    "                       end=END_DATE,\n",
    "                       adjusted=True,\n",
    "                       progress=False)\n",
    "\n",
    "print(f\"Downloaded {asset_df.shape[0]} rows of data.\")"
   ]
  },
  {
   "cell_type": "markdown",
   "metadata": {
    "ExecuteTime": {
     "end_time": "2019-07-30T21:13:14.206767Z",
     "start_time": "2019-07-30T21:13:14.203304Z"
    }
   },
   "source": [
    "5. Calculate monthly returns:"
   ]
  },
  {
   "cell_type": "code",
   "execution_count": null,
   "metadata": {
    "ExecuteTime": {
     "end_time": "2020-01-19T20:31:09.165863Z",
     "start_time": "2020-01-19T20:31:09.154418Z"
    }
   },
   "outputs": [],
   "source": [
    "y = asset_df[\"Adj Close\"].resample(\"M\") \\\n",
    "                         .last() \\\n",
    "                         .pct_change() \\\n",
    "                         .dropna()\n",
    "\n",
    "y.index = y.index.to_period(\"m\")\n",
    "y.name = \"rtn\""
   ]
  },
  {
   "cell_type": "markdown",
   "metadata": {},
   "source": [
    "6. Merge the datasets for the four-factor models:"
   ]
  },
  {
   "cell_type": "code",
   "execution_count": null,
   "metadata": {
    "ExecuteTime": {
     "end_time": "2020-01-19T20:31:11.312066Z",
     "start_time": "2020-01-19T20:31:11.289272Z"
    }
   },
   "outputs": [],
   "source": [
    "# join all datasets on the index\n",
    "factor_4_df = factor_3_df.join(momentum_df).join(y)\n",
    "\n",
    "# rename columns\n",
    "factor_4_df.columns = [\"mkt\", \"smb\", \"hml\", \"rf\", \"mom\", \"rtn\"]\n",
    "\n",
    "# divide everything (except returns) by 100\n",
    "factor_4_df.loc[:, factor_4_df.columns != \"rtn\"] /= 100\n",
    "\n",
    "# calculate excess returns\n",
    "factor_4_df[\"excess_rtn\"] = (\n",
    "    factor_4_df[\"rtn\"] - factor_4_df[\"rf\"]\n",
    ")\n",
    "\n",
    "factor_4_df.head()"
   ]
  },
  {
   "cell_type": "markdown",
   "metadata": {},
   "source": [
    "7. Merge the datasets for the five-factor models:"
   ]
  },
  {
   "cell_type": "code",
   "execution_count": null,
   "metadata": {
    "ExecuteTime": {
     "end_time": "2020-01-19T20:31:14.376169Z",
     "start_time": "2020-01-19T20:31:14.353016Z"
    }
   },
   "outputs": [],
   "source": [
    "# join all datasets on the index\n",
    "factor_5_df = factor_5_df.join(y)\n",
    "\n",
    "# rename columns\n",
    "factor_5_df.columns = [\n",
    "    \"mkt\", \"smb\", \"hml\", \"rmw\", \"cma\", \"rf\", \"rtn\"\n",
    "]\n",
    "\n",
    "# divide everything (except returns) by 100\n",
    "factor_5_df.loc[:, factor_5_df.columns != \"rtn\"] /= 100\n",
    "\n",
    "# calculate excess returns\n",
    "factor_5_df[\"excess_rtn\"] = (\n",
    "    factor_5_df[\"rtn\"] - factor_5_df[\"rf\"]\n",
    ")\n",
    "\n",
    "factor_5_df.head()"
   ]
  },
  {
   "cell_type": "markdown",
   "metadata": {},
   "source": [
    "8. Estimate the four-factor model:"
   ]
  },
  {
   "cell_type": "code",
   "execution_count": null,
   "metadata": {
    "ExecuteTime": {
     "end_time": "2020-01-19T20:31:16.823818Z",
     "start_time": "2020-01-19T20:31:16.795323Z"
    }
   },
   "outputs": [],
   "source": [
    "four_factor_model = smf.ols(\n",
    "    formula=\"excess_rtn ~ mkt + smb + hml + mom\", \n",
    "    data=factor_4_df\n",
    ").fit()\n",
    "\n",
    "print(four_factor_model.summary())"
   ]
  },
  {
   "cell_type": "markdown",
   "metadata": {},
   "source": [
    "9. Estimate the five-factor model:"
   ]
  },
  {
   "cell_type": "code",
   "execution_count": null,
   "metadata": {
    "ExecuteTime": {
     "end_time": "2020-01-19T20:31:18.527101Z",
     "start_time": "2020-01-19T20:31:18.495505Z"
    }
   },
   "outputs": [],
   "source": [
    "five_factor_model = smf.ols(\n",
    "    formula=\"excess_rtn ~ mkt + smb + hml + rmw + cma\", \n",
    "    data=factor_5_df\n",
    ").fit()\n",
    "\n",
    "print(five_factor_model.summary())"
   ]
  },
  {
   "cell_type": "markdown",
   "metadata": {},
   "source": [
    "## 8.5 Estimating cross-sectional factor models using the Fama-MacBeth regression"
   ]
  },
  {
   "cell_type": "markdown",
   "metadata": {},
   "source": [
    "### How to do it..."
   ]
  },
  {
   "cell_type": "markdown",
   "metadata": {},
   "source": [
    "1. Import the libraries:"
   ]
  },
  {
   "cell_type": "code",
   "execution_count": null,
   "metadata": {},
   "outputs": [],
   "source": [
    "import pandas as pd\n",
    "import pandas_datareader.data as web\n",
    "from linearmodels.asset_pricing import LinearFactorModel"
   ]
  },
  {
   "cell_type": "markdown",
   "metadata": {},
   "source": [
    "2. Specify the time horizon:"
   ]
  },
  {
   "cell_type": "code",
   "execution_count": null,
   "metadata": {},
   "outputs": [],
   "source": [
    "START_DATE = \"2010\"\n",
    "END_DATE = \"2020-12\""
   ]
  },
  {
   "cell_type": "markdown",
   "metadata": {},
   "source": [
    "3. Download and adjust the risk factors from prof. French's website:"
   ]
  },
  {
   "cell_type": "code",
   "execution_count": null,
   "metadata": {},
   "outputs": [],
   "source": [
    "factor_5_df = (\n",
    "    web.DataReader(\"F-F_Research_Data_5_Factors_2x3\", \n",
    "                   \"famafrench\", \n",
    "                   start=START_DATE, \n",
    "                   end=END_DATE)[0]\n",
    "    .div(100)\n",
    ")\n",
    "factor_5_df.head()"
   ]
  },
  {
   "cell_type": "markdown",
   "metadata": {},
   "source": [
    "4. Download and adjust the returns of 12 Industry Portfolios from prof. French's website:"
   ]
  },
  {
   "cell_type": "code",
   "execution_count": null,
   "metadata": {},
   "outputs": [],
   "source": [
    "portfolio_df = (\n",
    "    web.DataReader(\"12_Industry_Portfolios\", \n",
    "                   \"famafrench\", \n",
    "                   start=START_DATE, \n",
    "                   end=END_DATE)[0]\n",
    "    .div(100)\n",
    "    .sub(factor_5_df[\"RF\"], axis=0)\n",
    ")\n",
    "portfolio_df.head()"
   ]
  },
  {
   "cell_type": "markdown",
   "metadata": {},
   "source": [
    "5. Drop the risk-free rate from the factor data set:"
   ]
  },
  {
   "cell_type": "code",
   "execution_count": null,
   "metadata": {},
   "outputs": [],
   "source": [
    "factor_5_df = factor_5_df.drop(\"RF\", axis=1)\n",
    "factor_5_df.head()"
   ]
  },
  {
   "cell_type": "markdown",
   "metadata": {},
   "source": [
    "6. Estimate the Fama-MacBeth regression and print the summary:"
   ]
  },
  {
   "cell_type": "code",
   "execution_count": null,
   "metadata": {},
   "outputs": [],
   "source": [
    "five_factor_model = LinearFactorModel(\n",
    "    portfolios=portfolio_df, \n",
    "    factors=factor_5_df\n",
    ")\n",
    "result = five_factor_model.fit()\n",
    "print(result)"
   ]
  },
  {
   "cell_type": "markdown",
   "metadata": {},
   "source": [
    "We can also print the full summary (1 aggregate and 12 individual ones for each portfolio separately)."
   ]
  },
  {
   "cell_type": "code",
   "execution_count": null,
   "metadata": {},
   "outputs": [],
   "source": [
    "print(result.full_summary)"
   ]
  },
  {
   "cell_type": "markdown",
   "metadata": {},
   "source": [
    "### There's more"
   ]
  },
  {
   "cell_type": "markdown",
   "metadata": {},
   "source": [
    "1. Import the libraries:"
   ]
  },
  {
   "cell_type": "code",
   "execution_count": null,
   "metadata": {},
   "outputs": [],
   "source": [
    "from statsmodels.api import OLS, add_constant"
   ]
  },
  {
   "cell_type": "markdown",
   "metadata": {},
   "source": [
    "2. First step - estimate the factor loadings:"
   ]
  },
  {
   "cell_type": "code",
   "execution_count": null,
   "metadata": {},
   "outputs": [],
   "source": [
    "factor_loadings = []\n",
    "for portfolio in portfolio_df:\n",
    "    reg_1 = OLS(\n",
    "        endog=portfolio_df.loc[:, portfolio], \n",
    "        exog=add_constant(factor_5_df)\n",
    "    ).fit()\n",
    "    factor_loadings.append(reg_1.params.drop(\"const\"))"
   ]
  },
  {
   "cell_type": "markdown",
   "metadata": {},
   "source": [
    "3. Store the factor loadings in a DataFrame:"
   ]
  },
  {
   "cell_type": "code",
   "execution_count": null,
   "metadata": {},
   "outputs": [],
   "source": [
    "factor_load_df = pd.DataFrame(\n",
    "    factor_loadings, \n",
    "    columns=factor_5_df.columns, \n",
    "    index=portfolio_df.columns\n",
    ")\n",
    "factor_load_df.head()"
   ]
  },
  {
   "cell_type": "markdown",
   "metadata": {},
   "source": [
    "4. Second step - estimate the risk premia:"
   ]
  },
  {
   "cell_type": "code",
   "execution_count": null,
   "metadata": {},
   "outputs": [],
   "source": [
    "risk_premia = []\n",
    "for period in portfolio_df.index:\n",
    "    reg_2 = OLS(\n",
    "        endog=portfolio_df.loc[period, factor_load_df.index], \n",
    "        exog=factor_load_df\n",
    "    ).fit()\n",
    "    risk_premia.append(reg_2.params)"
   ]
  },
  {
   "cell_type": "markdown",
   "metadata": {},
   "source": [
    "5. Store the risk premia in a DataFrame:"
   ]
  },
  {
   "cell_type": "code",
   "execution_count": null,
   "metadata": {},
   "outputs": [],
   "source": [
    "risk_premia_df = pd.DataFrame(\n",
    "    risk_premia, \n",
    "    index=portfolio_df.index,\n",
    "    columns=factor_load_df.columns.tolist())\n",
    "risk_premia_df.head()"
   ]
  },
  {
   "cell_type": "markdown",
   "metadata": {},
   "source": [
    "6. Calculate the average risk premia:"
   ]
  },
  {
   "cell_type": "code",
   "execution_count": null,
   "metadata": {},
   "outputs": [],
   "source": [
    "risk_premia_df.mean()"
   ]
  }
 ],
 "metadata": {
  "kernelspec": {
   "display_name": "Python [conda env:base] *",
   "language": "python",
   "name": "conda-base-py"
  },
  "language_info": {
   "codemirror_mode": {
    "name": "ipython",
    "version": 3
   },
   "file_extension": ".py",
   "mimetype": "text/x-python",
   "name": "python",
   "nbconvert_exporter": "python",
   "pygments_lexer": "ipython3",
   "version": "3.12.3"
  },
  "toc": {
   "base_numbering": 1,
   "nav_menu": {},
   "number_sections": true,
   "sideBar": true,
   "skip_h1_title": false,
   "title_cell": "Table of Contents",
   "title_sidebar": "Contents",
   "toc_cell": false,
   "toc_position": {
    "height": "calc(100% - 180px)",
    "left": "10px",
    "top": "150px",
    "width": "373.297px"
   },
   "toc_section_display": true,
   "toc_window_display": true
  },
  "varInspector": {
   "cols": {
    "lenName": 16,
    "lenType": 16,
    "lenVar": 40
   },
   "kernels_config": {
    "python": {
     "delete_cmd_postfix": "",
     "delete_cmd_prefix": "del ",
     "library": "var_list.py",
     "varRefreshCmd": "print(var_dic_list())"
    },
    "r": {
     "delete_cmd_postfix": ") ",
     "delete_cmd_prefix": "rm(",
     "library": "var_list.r",
     "varRefreshCmd": "cat(var_dic_list()) "
    }
   },
   "types_to_exclude": [
    "module",
    "function",
    "builtin_function_or_method",
    "instance",
    "_Feature"
   ],
   "window_display": false
  },
  "vscode": {
   "interpreter": {
    "hash": "0117835dafdb051235b33d006a7ad155411608685e1d44af6fb551f6db3e7774"
   }
  }
 },
 "nbformat": 4,
 "nbformat_minor": 4
}
