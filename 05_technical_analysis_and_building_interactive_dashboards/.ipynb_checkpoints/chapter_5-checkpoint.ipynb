{
 "cells": [
  {
   "cell_type": "markdown",
   "metadata": {
    "id": "_OEACZptdHC7"
   },
   "source": [
    "Please run those two cells before running the Notebook!\n",
    "\n",
    "As those plotting settings are standard throughout the book, we do not show them in the book every time we plot something."
   ]
  },
  {
   "cell_type": "code",
   "execution_count": null,
   "metadata": {
    "ExecuteTime": {
     "end_time": "2020-01-29T10:48:06.120195Z",
     "start_time": "2020-01-29T10:48:05.814125Z"
    },
    "id": "_JscbREmdHC-"
   },
   "outputs": [],
   "source": [
    "%matplotlib inline\n",
    "%config InlineBackend.figure_format = \"retina\""
   ]
  },
  {
   "cell_type": "code",
   "execution_count": null,
   "metadata": {
    "ExecuteTime": {
     "end_time": "2020-01-29T10:48:13.141309Z",
     "start_time": "2020-01-29T10:48:13.137453Z"
    },
    "id": "r6OEEsWTdHDB"
   },
   "outputs": [],
   "source": [
    "import matplotlib.pyplot as plt\n",
    "import seaborn as sns\n",
    "\n",
    "import warnings\n",
    "# FIX: Use the official public API path from pandas.errors\n",
    "from pandas.errors import SettingWithCopyWarning\n",
    "\n",
    "warnings.simplefilter(action=\"ignore\", category=FutureWarning)\n",
    "warnings.simplefilter(action=\"ignore\", category=SettingWithCopyWarning)\n",
    "\n",
    "# feel free to modify, for example, change the context to \"notebook\"\n",
    "sns.set_theme(context=\"talk\", style=\"whitegrid\", \n",
    "              palette=\"colorblind\", color_codes=True, \n",
    "              rc={\"figure.figsize\": [12, 8]})"
   ]
  },
  {
   "cell_type": "markdown",
   "metadata": {
    "id": "nS3hr1kUdHDB"
   },
   "source": [
    "# Chapter 5 - Technical Analysis and Building Interactive Dashboards"
   ]
  },
  {
   "cell_type": "markdown",
   "metadata": {
    "id": "lg_qiT70dHDC"
   },
   "source": [
    "## 5.1 Calculating the most popular technical indicators"
   ]
  },
  {
   "cell_type": "markdown",
   "metadata": {},
   "source": [
    "### How to do it..."
   ]
  },
  {
   "cell_type": "markdown",
   "metadata": {
    "id": "Fxt7NSaSdHDC"
   },
   "source": [
    "1. Import the libraries:"
   ]
  },
  {
   "cell_type": "code",
   "execution_count": null,
   "metadata": {},
   "outputs": [],
   "source": [
    "# FIX: Use conda-forge to install a working version of TA-Lib\n",
    "!conda install -c conda-forge ta-lib --yes"
   ]
  },
  {
   "cell_type": "code",
   "execution_count": null,
   "metadata": {
    "ExecuteTime": {
     "end_time": "2020-01-24T08:23:57.156436Z",
     "start_time": "2020-01-24T08:23:56.272058Z"
    },
    "id": "ZjjPcO62dHDC"
   },
   "outputs": [],
   "source": [
    "import pandas as pd \n",
    "import yfinance as yf\n",
    "import talib"
   ]
  },
  {
   "cell_type": "markdown",
   "metadata": {
    "id": "2D7Bsp6gdHDD"
   },
   "source": [
    "2. Download IBM's stock prices from 2020:"
   ]
  },
  {
   "cell_type": "code",
   "execution_count": null,
   "metadata": {
    "ExecuteTime": {
     "end_time": "2020-01-24T08:23:57.729742Z",
     "start_time": "2020-01-24T08:23:57.176457Z"
    },
    "id": "lYcMxZ9KdHDD",
    "outputId": "44161c51-f79f-4f8d-fa9c-d92c02873a34"
   },
   "outputs": [],
   "source": [
    "df = yf.download(\"IBM\", \n",
    "                 start=\"2020-01-01\", \n",
    "                 end=\"2020-12-31\",\n",
    "                 progress=False,\n",
    "                 auto_adjust=True)\n",
    "df"
   ]
  },
  {
   "cell_type": "markdown",
   "metadata": {},
   "source": [
    "3. Calculate and plot the Simple Moving Average:"
   ]
  },
  {
   "cell_type": "code",
   "execution_count": null,
   "metadata": {},
   "outputs": [],
   "source": [
    "df[\"sma_20\"] = talib.SMA(df[\"Close\"], timeperiod=20)\n",
    "(\n",
    "    df[[\"Close\", \"sma_20\"]]\n",
    "    .plot(title=\"20-day Simple Moving Average (SMA)\")\n",
    ")\n",
    "\n",
    "sns.despine()\n",
    "plt.tight_layout()\n",
    "# plt.savefig(\"images/figure_5_1\", dpi=200)"
   ]
  },
  {
   "cell_type": "markdown",
   "metadata": {},
   "source": [
    "4. Calculate and plot the Bollinger bands:"
   ]
  },
  {
   "cell_type": "code",
   "execution_count": null,
   "metadata": {},
   "outputs": [],
   "source": [
    "df[\"bb_up\"], df[\"bb_mid\"], df[\"bb_low\"] = talib.BBANDS(df[\"Close\"])\n",
    "\n",
    "fig, ax = plt.subplots()\n",
    "\n",
    "(\n",
    "    df.loc[:, [\"Close\", \"bb_up\", \"bb_mid\", \"bb_low\"]]\n",
    "    .plot(ax=ax, title=\"Bollinger Bands\")\n",
    ")\n",
    "\n",
    "ax.fill_between(df.index, df[\"bb_low\"], df[\"bb_up\"], \n",
    "                color=\"gray\", \n",
    "                alpha=.4)\n",
    "\n",
    "sns.despine()\n",
    "plt.tight_layout()\n",
    "# plt.savefig(\"images/figure_5_2\", dpi=200)"
   ]
  },
  {
   "cell_type": "markdown",
   "metadata": {},
   "source": [
    "5. Calculate and plot the RSI:"
   ]
  },
  {
   "cell_type": "code",
   "execution_count": null,
   "metadata": {},
   "outputs": [],
   "source": [
    "df[\"rsi\"] = talib.RSI(df[\"Close\"])\n",
    "\n",
    "fig, ax = plt.subplots()\n",
    "df[\"rsi\"].plot(ax=ax, \n",
    "               title=\"Relative Strength Index (RSI)\")\n",
    "ax.hlines(y=30, \n",
    "          xmin=df.index.min(), \n",
    "          xmax=df.index.max(), \n",
    "          color=\"red\")\n",
    "ax.hlines(y=70, \n",
    "          xmin=df.index.min(), \n",
    "          xmax=df.index.max(), \n",
    "          color=\"red\")\n",
    "\n",
    "sns.despine()\n",
    "plt.tight_layout()\n",
    "# plt.savefig(\"images/figure_5_3\", dpi=200)"
   ]
  },
  {
   "cell_type": "markdown",
   "metadata": {},
   "source": [
    "6. Calculate and plot the MACD:"
   ]
  },
  {
   "cell_type": "code",
   "execution_count": null,
   "metadata": {},
   "outputs": [],
   "source": [
    "df[\"macd\"], df[\"macdsignal\"], df[\"macdhist\"] = talib.MACD(\n",
    "    df[\"Close\"], fastperiod=12, slowperiod=26, signalperiod=9\n",
    ")\n",
    "\n",
    "with sns.plotting_context(\"notebook\"):\n",
    "    fig, ax = plt.subplots(2, 1, sharex=True)\n",
    "\n",
    "    (\n",
    "        df[[\"macd\", \"macdsignal\"]].\n",
    "        plot(ax=ax[0],\n",
    "             title=\"Moving Average Convergence Divergence (MACD)\")\n",
    "    )\n",
    "    ax[1].bar(df.index, df[\"macdhist\"].values, label=\"macd_hist\")\n",
    "    ax[1].legend()\n",
    "\n",
    "    sns.despine()\n",
    "    plt.tight_layout()\n",
    "    # plt.savefig(\"images/figure_5_4\", dpi=200)\n"
   ]
  },
  {
   "cell_type": "markdown",
   "metadata": {},
   "source": [
    "### There's more"
   ]
  },
  {
   "cell_type": "markdown",
   "metadata": {},
   "source": [
    "1. Import the libraries:"
   ]
  },
  {
   "cell_type": "code",
   "execution_count": null,
   "metadata": {},
   "outputs": [],
   "source": [
    "from ta import add_all_ta_features\n"
   ]
  },
  {
   "cell_type": "markdown",
   "metadata": {},
   "source": [
    "2. Discard the previously calculated indicators and keep only the required columns:"
   ]
  },
  {
   "cell_type": "code",
   "execution_count": null,
   "metadata": {},
   "outputs": [],
   "source": [
    "df = df[[\"Open\", \"High\", \"Low\", \"Close\", \"Volume\"]].copy()"
   ]
  },
  {
   "cell_type": "markdown",
   "metadata": {},
   "source": [
    "3. Calculate all the technical indicators available in the `ta` library:"
   ]
  },
  {
   "cell_type": "code",
   "execution_count": null,
   "metadata": {},
   "outputs": [],
   "source": [
    "df = add_all_ta_features(df, open=\"Open\", high=\"High\", \n",
    "                         low=\"Low\", close=\"Close\", \n",
    "                         volume=\"Volume\")"
   ]
  },
  {
   "cell_type": "code",
   "execution_count": null,
   "metadata": {},
   "outputs": [],
   "source": [
    "df.shape"
   ]
  },
  {
   "cell_type": "code",
   "execution_count": null,
   "metadata": {},
   "outputs": [],
   "source": [
    "df.columns"
   ]
  },
  {
   "cell_type": "markdown",
   "metadata": {},
   "source": [
    "## 5.2 Downloading the technical indicators"
   ]
  },
  {
   "cell_type": "markdown",
   "metadata": {},
   "source": [
    "### How to do it..."
   ]
  },
  {
   "cell_type": "markdown",
   "metadata": {},
   "source": [
    "1. Import the libraries:"
   ]
  },
  {
   "cell_type": "code",
   "execution_count": null,
   "metadata": {},
   "outputs": [],
   "source": [
    "from alpha_vantage.techindicators import TechIndicators"
   ]
  },
  {
   "cell_type": "markdown",
   "metadata": {},
   "source": [
    "2. Instantiate the `TechIndicators` class and authenticate:"
   ]
  },
  {
   "cell_type": "code",
   "execution_count": null,
   "metadata": {},
   "outputs": [],
   "source": [
    "ta_api = TechIndicators(key=\"YOUR_KEY_HERE\", \n",
    "                        output_format=\"pandas\")"
   ]
  },
  {
   "cell_type": "markdown",
   "metadata": {},
   "source": [
    "3. Download the RSI for IBM's stock:"
   ]
  },
  {
   "cell_type": "code",
   "execution_count": null,
   "metadata": {},
   "outputs": [],
   "source": [
    "rsi_df, rsi_meta = ta_api.get_rsi(symbol=\"IBM\", \n",
    "                                  time_period=14)"
   ]
  },
  {
   "cell_type": "markdown",
   "metadata": {},
   "source": [
    "4. Plot the downloaded RSI:"
   ]
  },
  {
   "cell_type": "code",
   "execution_count": null,
   "metadata": {},
   "outputs": [],
   "source": [
    "fig, ax = plt.subplots()\n",
    "rsi_df.plot(ax=ax, \n",
    "            title=\"RSI downloaded from Alpha Vantage\")\n",
    "ax.hlines(y=30, \n",
    "          xmin=rsi_df.index.min(), \n",
    "          xmax=rsi_df.index.max(), \n",
    "          color=\"red\")\n",
    "ax.hlines(y=70, \n",
    "          xmin=rsi_df.index.min(), \n",
    "          xmax=rsi_df.index.max(), \n",
    "          color=\"red\")\n",
    "\n",
    "sns.despine()\n",
    "plt.tight_layout()\n",
    "# plt.savefig(\"images/figure_5_5\", dpi=200)"
   ]
  },
  {
   "cell_type": "code",
   "execution_count": null,
   "metadata": {},
   "outputs": [],
   "source": [
    "rsi_df"
   ]
  },
  {
   "cell_type": "markdown",
   "metadata": {},
   "source": [
    "5. Explore the metadata object:"
   ]
  },
  {
   "cell_type": "code",
   "execution_count": null,
   "metadata": {},
   "outputs": [],
   "source": [
    "rsi_meta"
   ]
  },
  {
   "cell_type": "markdown",
   "metadata": {},
   "source": [
    "### There's more"
   ]
  },
  {
   "cell_type": "markdown",
   "metadata": {},
   "source": [
    "1. Import the libraries:"
   ]
  },
  {
   "cell_type": "code",
   "execution_count": null,
   "metadata": {},
   "outputs": [],
   "source": [
    "import intrinio_sdk as intrinio\n",
    "import pandas as pd"
   ]
  },
  {
   "cell_type": "markdown",
   "metadata": {},
   "source": [
    "2. Authenticate using the personal API key and select the API:"
   ]
  },
  {
   "cell_type": "code",
   "execution_count": null,
   "metadata": {
    "ExecuteTime": {
     "end_time": "2020-01-18T13:01:53.751757Z",
     "start_time": "2020-01-18T13:01:53.720336Z"
    }
   },
   "outputs": [],
   "source": [
    "intrinio.ApiClient().set_api_key(\"YOUR_KEY_HERE\") \n",
    "security_api = intrinio.SecurityApi()"
   ]
  },
  {
   "cell_type": "markdown",
   "metadata": {},
   "source": [
    "3. Request the MACD for IBM's stock from 2020:"
   ]
  },
  {
   "cell_type": "code",
   "execution_count": null,
   "metadata": {},
   "outputs": [],
   "source": [
    "r = security_api.get_security_price_technicals_macd(\n",
    "    identifier=\"IBM\", \n",
    "    fast_period=12, \n",
    "    slow_period=26, \n",
    "    signal_period=9, \n",
    "    price_key=\"close\", \n",
    "    start_date=\"2020-01-01\", \n",
    "    end_date=\"2020-12-31\",\n",
    "    page_size=500\n",
    ")"
   ]
  },
  {
   "cell_type": "markdown",
   "metadata": {},
   "source": [
    "4. Convert the request's output into a `pandas` DataFrame:"
   ]
  },
  {
   "cell_type": "code",
   "execution_count": null,
   "metadata": {},
   "outputs": [],
   "source": [
    "macd_df = (\n",
    "    pd.DataFrame(r.technicals_dict)\n",
    "    .sort_values(\"date_time\")\n",
    "    .set_index(\"date_time\")\n",
    ")\n",
    "macd_df.index = pd.to_datetime(macd_df.index).date\n",
    "macd_df"
   ]
  },
  {
   "cell_type": "markdown",
   "metadata": {},
   "source": [
    "5. Plot the MACD:"
   ]
  },
  {
   "cell_type": "code",
   "execution_count": null,
   "metadata": {},
   "outputs": [],
   "source": [
    "with sns.plotting_context(\"notebook\"):\n",
    "    \n",
    "    fig, ax = plt.subplots(2, 1, sharex=True)\n",
    "\n",
    "    (\n",
    "        macd_df[[\"macd_line\", \"signal_line\"]]\n",
    "        .plot(ax=ax[0], \n",
    "              title=\"MACD downloaded from Intrinio\")\n",
    "    )\n",
    "    ax[1].bar(df.index, macd_df[\"macd_histogram\"].values, \n",
    "              label=\"macd_hist\")\n",
    "    ax[1].legend()\n",
    "\n",
    "    sns.despine()\n",
    "    plt.tight_layout()\n",
    "    # plt.savefig(\"images/figure_5_6\", dpi=200)"
   ]
  },
  {
   "cell_type": "markdown",
   "metadata": {},
   "source": [
    "## 5.3 Recognizing candlestick patterns"
   ]
  },
  {
   "cell_type": "markdown",
   "metadata": {},
   "source": [
    "### How to do it..."
   ]
  },
  {
   "cell_type": "markdown",
   "metadata": {
    "id": "Fxt7NSaSdHDC"
   },
   "source": [
    "1. Import the libraries:"
   ]
  },
  {
   "cell_type": "code",
   "execution_count": null,
   "metadata": {
    "ExecuteTime": {
     "end_time": "2020-01-24T08:23:57.156436Z",
     "start_time": "2020-01-24T08:23:56.272058Z"
    },
    "id": "ZjjPcO62dHDC"
   },
   "outputs": [],
   "source": [
    "import pandas as pd \n",
    "import yfinance as yf\n",
    "import talib\n",
    "import mplfinance as mpf"
   ]
  },
  {
   "cell_type": "markdown",
   "metadata": {
    "id": "2D7Bsp6gdHDD"
   },
   "source": [
    "2. Download Bitcoin's hourly prices from the last 3 months:"
   ]
  },
  {
   "cell_type": "code",
   "execution_count": null,
   "metadata": {},
   "outputs": [],
   "source": [
    "df = yf.download(\"BTC-USD\", \n",
    "                 period=\"9mo\",\n",
    "                 interval=\"1h\",\n",
    "                 progress=False)\n",
    "df"
   ]
  },
  {
   "cell_type": "markdown",
   "metadata": {},
   "source": [
    "3. Identify the \"Three Line Strike\" pattern:"
   ]
  },
  {
   "cell_type": "code",
   "execution_count": null,
   "metadata": {},
   "outputs": [],
   "source": [
    "df[\"3_line_strike\"] = talib.CDL3LINESTRIKE(\n",
    "    df[\"Open\"], df[\"High\"], df[\"Low\"], df[\"Close\"]\n",
    ")"
   ]
  },
  {
   "cell_type": "markdown",
   "metadata": {},
   "source": [
    "4. Locate and plot the bearish pattern:"
   ]
  },
  {
   "cell_type": "code",
   "execution_count": null,
   "metadata": {},
   "outputs": [],
   "source": [
    "df[df[\"3_line_strike\"] == -100].head().round(2)"
   ]
  },
  {
   "cell_type": "code",
   "execution_count": null,
   "metadata": {},
   "outputs": [],
   "source": [
    "mpf.plot(df[\"2021-07-16 05:00:00\":\"2021-07-16 16:00:00\"], \n",
    "         type=\"candle\")"
   ]
  },
  {
   "cell_type": "markdown",
   "metadata": {},
   "source": [
    "5. Locate and plot the bullish pattern:"
   ]
  },
  {
   "cell_type": "code",
   "execution_count": null,
   "metadata": {},
   "outputs": [],
   "source": [
    "df[df[\"3_line_strike\"] == 100].head().round(2)"
   ]
  },
  {
   "cell_type": "code",
   "execution_count": null,
   "metadata": {},
   "outputs": [],
   "source": [
    "mpf.plot(df[\"2021-07-10 10:00:00\":\"2021-07-10 23:00:00\"], \n",
    "         type=\"candle\")"
   ]
  },
  {
   "cell_type": "markdown",
   "metadata": {},
   "source": [
    "### There's more"
   ]
  },
  {
   "cell_type": "markdown",
   "metadata": {},
   "source": [
    "1. Get all available pattern names:"
   ]
  },
  {
   "cell_type": "code",
   "execution_count": null,
   "metadata": {},
   "outputs": [],
   "source": [
    "candle_names = talib.get_function_groups()[\"Pattern Recognition\"]"
   ]
  },
  {
   "cell_type": "markdown",
   "metadata": {},
   "source": [
    "2. Iterate over the list of patterns and try identifying them all:"
   ]
  },
  {
   "cell_type": "code",
   "execution_count": null,
   "metadata": {},
   "outputs": [],
   "source": [
    "for candle in candle_names:\n",
    "    df[candle] = getattr(talib, candle)(df[\"Open\"], df[\"High\"], \n",
    "                                        df[\"Low\"], df[\"Close\"])"
   ]
  },
  {
   "cell_type": "markdown",
   "metadata": {},
   "source": [
    "3. Inspect the summary statistics of the patterns:"
   ]
  },
  {
   "cell_type": "code",
   "execution_count": null,
   "metadata": {},
   "outputs": [],
   "source": [
    "with pd.option_context(\"display.max_rows\", len(candle_names)):\n",
    "    display(df[candle_names].describe().transpose().round(2))"
   ]
  },
  {
   "cell_type": "markdown",
   "metadata": {},
   "source": [
    "4. Locate and plot the \"Evening Star\" pattern:"
   ]
  },
  {
   "cell_type": "code",
   "execution_count": null,
   "metadata": {},
   "outputs": [],
   "source": [
    "df[df[\"CDLEVENINGSTAR\"]  == -100].head()"
   ]
  },
  {
   "cell_type": "code",
   "execution_count": null,
   "metadata": {},
   "outputs": [],
   "source": [
    "mpf.plot(df[\"2021-09-21 12:00:00\":\"2021-09-22 03:00:00\"], type=\"candle\")"
   ]
  }
 ],
 "metadata": {
  "interpreter": {
   "hash": "0117835dafdb051235b33d006a7ad155411608685e1d44af6fb551f6db3e7774"
  },
  "kernelspec": {
   "display_name": "Python [conda env:base] *",
   "language": "python",
   "name": "conda-base-py"
  },
  "language_info": {
   "codemirror_mode": {
    "name": "ipython",
    "version": 3
   },
   "file_extension": ".py",
   "mimetype": "text/x-python",
   "name": "python",
   "nbconvert_exporter": "python",
   "pygments_lexer": "ipython3",
   "version": "3.12.7"
  }
 },
 "nbformat": 4,
 "nbformat_minor": 4
}
