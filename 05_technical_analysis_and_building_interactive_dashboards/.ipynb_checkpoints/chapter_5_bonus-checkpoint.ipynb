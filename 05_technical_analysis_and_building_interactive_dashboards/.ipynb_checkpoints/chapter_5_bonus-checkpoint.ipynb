{
 "cells": [
  {
   "cell_type": "markdown",
   "id": "5de2fdc1-f884-4fae-b479-d3e89e204079",
   "metadata": {},
   "source": [
    "# Chapter 5 - Bonus content"
   ]
  },
  {
   "cell_type": "markdown",
   "id": "64a7b9c5-0e77-4416-a1aa-10e644b08620",
   "metadata": {},
   "source": [
    "In the first edition of the book, we have covered an example of building a technical analysis dashboard within Jupyter Notebooks. \n",
    "\n",
    "To do so, we used the `ipywidgets` library, together with the interactive plotting capabilities of `cufflinks`. \n",
    "\n",
    "In the second edition, we have used Streamlit for building a very similar dashboard. \n",
    "\n",
    "However, you might still find the old approach useful and maybe it can come in handy with some other sorts of analyses."
   ]
  },
  {
   "cell_type": "markdown",
   "id": "f220c159-5209-4310-99c7-a72c17dff571",
   "metadata": {},
   "source": [
    "## Building an Interactive Dashboard for Technical Analysis"
   ]
  },
  {
   "cell_type": "markdown",
   "id": "80c5f56a-0f3b-4650-b923-0652698a29fc",
   "metadata": {},
   "source": [
    "### How to do it..."
   ]
  },
  {
   "cell_type": "markdown",
   "id": "36613f38-62f2-4917-b974-e35db70127b1",
   "metadata": {},
   "source": [
    "1. Import the libraries:"
   ]
  },
  {
   "cell_type": "code",
   "execution_count": null,
   "id": "d18bfb44-94f9-4677-8674-b81ecdeb01cc",
   "metadata": {},
   "outputs": [],
   "source": [
    "# FIX: Use conda-forge to install a working version of empyrical\n",
    "!conda install -c conda-forge empyrical --yes\n",
    "\n",
    "# Now that empyrical is installed, this pip command should succeed\n",
    "!pip install pyfolio-reloaded"
   ]
  },
  {
   "cell_type": "code",
   "execution_count": null,
   "id": "4ccc95fa-61d7-48bd-b811-ab9f4c592b34",
   "metadata": {
    "ExecuteTime": {
     "end_time": "2020-01-29T08:33:52.944466Z",
     "start_time": "2020-01-29T08:33:50.792747Z"
    }
   },
   "outputs": [],
   "source": [
    "import ipywidgets as wd\n",
    "from ipywidgets import interact, interact_manual\n",
    "import cufflinks as cf\n",
    "import pandas as pd \n",
    "import yfinance as yf\n",
    "from plotly.offline import iplot, init_notebook_mode\n",
    "\n",
    "cf.go_offline()\n",
    "init_notebook_mode()"
   ]
  },
  {
   "cell_type": "markdown",
   "id": "b7032b13-cd81-4924-9dda-5a7bc47c9d27",
   "metadata": {},
   "source": [
    "2. Define the possible values for assets and technical indicators:"
   ]
  },
  {
   "cell_type": "code",
   "execution_count": null,
   "id": "d9d92007-cbff-4850-8a03-c350fbfdb76a",
   "metadata": {
    "ExecuteTime": {
     "end_time": "2020-01-29T08:33:52.959626Z",
     "start_time": "2020-01-29T08:33:52.956285Z"
    }
   },
   "outputs": [],
   "source": [
    "stocks = [\"TWTR\", \"MSFT\", \"GOOGL\", \"FB\", \"TSLA\", \"AAPL\"]\n",
    "indicators = [\"Bollinger Bands\", \"MACD\", \"RSI\"]"
   ]
  },
  {
   "cell_type": "markdown",
   "id": "b08065dc-7143-49e2-a3fa-142c38da18f9",
   "metadata": {},
   "source": [
    "3. Define a function for creating the interactive plot:"
   ]
  },
  {
   "cell_type": "code",
   "execution_count": null,
   "id": "4c46bd96-365a-4c00-9ffa-77bdc15800f1",
   "metadata": {
    "ExecuteTime": {
     "end_time": "2020-01-29T08:33:52.974220Z",
     "start_time": "2020-01-29T08:33:52.968137Z"
    }
   },
   "outputs": [],
   "source": [
    "def ta_dashboard(asset, indicator, start_date, end_date, \n",
    "                 bb_k, bb_n, macd_fast, macd_slow, macd_signal,\n",
    "                 rsi_periods, rsi_upper, rsi_lower):\n",
    "    \n",
    "    df = yf.download(asset, \n",
    "                     start=start_date, \n",
    "                     end=end_date,\n",
    "                     progress=False,\n",
    "                     auto_adjust=True)\n",
    "\n",
    "    qf = cf.QuantFig(df, title=f\"TA Dashboard - {asset}\", \n",
    "                     legend=\"right\", name=f\"{asset}\")\n",
    "            \n",
    "    if \"Bollinger Bands\" in indicator: \n",
    "        qf.add_bollinger_bands(periods=bb_n, \n",
    "                               boll_std=bb_k)\n",
    "    if \"MACD\" in indicator: \n",
    "        qf.add_macd(fast_period=macd_fast, \n",
    "                    slow_period=macd_slow, \n",
    "                    signal_period=macd_signal)\n",
    "    if \"RSI\" in indicator: \n",
    "        qf.add_rsi(periods=rsi_periods, \n",
    "                   rsi_upper=rsi_upper, \n",
    "                   rsi_lower=rsi_lower, \n",
    "                   showbands=True)\n",
    "\n",
    "    return qf.iplot()"
   ]
  },
  {
   "cell_type": "markdown",
   "id": "8d0be439-4a4f-4b1f-b06f-0c618c9031c3",
   "metadata": {},
   "source": [
    "4. Define the selectors:"
   ]
  },
  {
   "cell_type": "code",
   "execution_count": null,
   "id": "7d184092-ed39-49a8-b210-f3922061dc81",
   "metadata": {
    "ExecuteTime": {
     "end_time": "2020-01-29T08:34:26.183583Z",
     "start_time": "2020-01-29T08:34:26.157966Z"
    }
   },
   "outputs": [],
   "source": [
    "stocks_selector = wd.Dropdown(\n",
    "    options=stocks, \n",
    "    value=stocks[0], \n",
    "    description=\"Asset\"\n",
    ")\n",
    "\n",
    "indicator_selector = wd.SelectMultiple(\n",
    "    description=\"Indicator\",\n",
    "    options=indicators, \n",
    "    value=[indicators[0]]\n",
    ")\n",
    "\n",
    "start_date_selector = wd.DatePicker(\n",
    "    description=\"Start Date\", \n",
    "    value=pd.to_datetime(\"2018-01-01\"), \n",
    "    continuous_update=False\n",
    ")\n",
    "\n",
    "end_date_selector = wd.DatePicker(\n",
    "    description=\"End Date\", \n",
    "    value=pd.to_datetime(\"2018-12-31\"), \n",
    "    continuous_update=False\n",
    ")"
   ]
  },
  {
   "cell_type": "markdown",
   "id": "be81b9b6-c49f-42c9-8721-9c1f07f1f9ae",
   "metadata": {},
   "source": [
    "5. Define a label and group the selectors inside a container:"
   ]
  },
  {
   "cell_type": "code",
   "execution_count": null,
   "id": "f03809fa-c3be-49e2-a95d-0271fc43e465",
   "metadata": {
    "ExecuteTime": {
     "end_time": "2020-01-29T08:34:27.126548Z",
     "start_time": "2020-01-29T08:34:27.114493Z"
    }
   },
   "outputs": [],
   "source": [
    "main_selector_label = wd.Label(\"Main parameters\", \n",
    "                               layout=wd.Layout(height=\"45px\"))\n",
    "\n",
    "main_selector_box = wd.VBox(children=[main_selector_label,\n",
    "                                      stocks_selector,\n",
    "                                      indicator_selector,\n",
    "                                      start_date_selector,\n",
    "                                      end_date_selector])"
   ]
  },
  {
   "cell_type": "markdown",
   "id": "bf753c87-0af5-41a8-a3a9-68591f2642a4",
   "metadata": {},
   "source": [
    "6. Define the secondary selectors for Bollinger Bands:"
   ]
  },
  {
   "cell_type": "code",
   "execution_count": null,
   "id": "c763a0a0-4f9d-4d2b-986e-0817c5cb5b7e",
   "metadata": {
    "ExecuteTime": {
     "end_time": "2020-01-29T08:34:28.194080Z",
     "start_time": "2020-01-29T08:34:28.172650Z"
    }
   },
   "outputs": [],
   "source": [
    "bb_label = wd.Label(\"Bollinger Bands\")\n",
    "\n",
    "n_param = wd.IntSlider(value=20, min=1, max=40, step=1, \n",
    "                       description=\"N:\", continuous_update=False)\n",
    "\n",
    "k_param = wd.FloatSlider(value=2, min=0.5, max=4, step=0.5, \n",
    "                         description=\"k:\", continuous_update=False)\n",
    "\n",
    "bollinger_box = wd.VBox(children=[bb_label, n_param, k_param])"
   ]
  },
  {
   "cell_type": "markdown",
   "id": "80ee7e99-6fcb-4ce1-9984-831b2ba5f7db",
   "metadata": {},
   "source": [
    "7. Define the secondary selectors for MACD:"
   ]
  },
  {
   "cell_type": "code",
   "execution_count": null,
   "id": "8d29e4fc-a588-4e66-83ba-043b73c966e9",
   "metadata": {
    "ExecuteTime": {
     "end_time": "2020-01-29T08:34:28.778203Z",
     "start_time": "2020-01-29T08:34:28.750404Z"
    }
   },
   "outputs": [],
   "source": [
    "macd_label = wd.Label(\"MACD\")\n",
    "\n",
    "macd_fast = wd.IntSlider(value=12, min=2, max=50, step=1, \n",
    "                         description=\"Fast avg:\", \n",
    "                         continuous_update=False)\n",
    "\n",
    "macd_slow = wd.IntSlider(value=26, min=2, max=50, step=1, \n",
    "                         description=\"Slow avg:\", \n",
    "                         continuous_update=False)\n",
    "\n",
    "macd_signal = wd.IntSlider(value=9, min=2, max=50, step=1, \n",
    "                           description=\"MACD signal:\", \n",
    "                           continuous_update=False)\n",
    "\n",
    "macd_box = wd.VBox(children=[macd_label, macd_fast, \n",
    "                             macd_slow, macd_signal])"
   ]
  },
  {
   "cell_type": "markdown",
   "id": "0cc509d7-650d-4c46-9569-dfd5ccf36476",
   "metadata": {},
   "source": [
    "8. Define the secondary selectors for RSI:"
   ]
  },
  {
   "cell_type": "code",
   "execution_count": null,
   "id": "ed87ea0c-3095-4309-b2fd-9e804a4c935c",
   "metadata": {
    "ExecuteTime": {
     "end_time": "2020-01-29T08:34:29.578967Z",
     "start_time": "2020-01-29T08:34:29.550377Z"
    }
   },
   "outputs": [],
   "source": [
    "rsi_label = wd.Label(\"RSI\")\n",
    "\n",
    "rsi_periods = wd.IntSlider(value=14, min=2, max=50, step=1, \n",
    "                           description=\"RSI periods:\", \n",
    "                           continuous_update=False)\n",
    "\n",
    "rsi_upper = wd.IntSlider(value=70, min=1, max=100, step=1, \n",
    "                         description=\"Upper Thr:\", \n",
    "                         continuous_update=False)\n",
    "\n",
    "rsi_lower = wd.IntSlider(value=30, min=1, max=100, step=1, \n",
    "                         description=\"Lower Thr:\", \n",
    "                         continuous_update=False)\n",
    "\n",
    "rsi_box = wd.VBox(children=[rsi_label, rsi_periods, \n",
    "                            rsi_upper, rsi_lower])"
   ]
  },
  {
   "cell_type": "markdown",
   "id": "f7d6d9be-8f44-47ae-8495-d51e0165e7a5",
   "metadata": {},
   "source": [
    "9. Create the labels and group the selectors into containers:"
   ]
  },
  {
   "cell_type": "code",
   "execution_count": null,
   "id": "5dd0372b-0092-48cc-82c0-9ab61bd6360d",
   "metadata": {
    "ExecuteTime": {
     "end_time": "2020-01-29T08:34:30.615171Z",
     "start_time": "2020-01-29T08:34:30.590528Z"
    }
   },
   "outputs": [],
   "source": [
    "sec_selector_label = wd.Label(\"Secondary parameters\", \n",
    "                              layout=wd.Layout(height=\"45px\"))\n",
    "blank_label = wd.Label(\"\", layout=wd.Layout(height=\"45px\"))\n",
    "\n",
    "sec_box_1 = wd.VBox([sec_selector_label, bollinger_box, macd_box])\n",
    "sec_box_2 = wd.VBox([blank_label, rsi_box])\n",
    "\n",
    "secondary_selector_box = wd.HBox([sec_box_1, sec_box_2])"
   ]
  },
  {
   "cell_type": "markdown",
   "id": "6977f85b-098d-404b-a343-b77cb14a095a",
   "metadata": {},
   "source": [
    "10. Group the boxes and prepare the interactive output:"
   ]
  },
  {
   "cell_type": "code",
   "execution_count": null,
   "id": "0fd5332a-cb3d-4fbb-86e1-0b700813284f",
   "metadata": {
    "ExecuteTime": {
     "end_time": "2020-01-29T08:34:34.061968Z",
     "start_time": "2020-01-29T08:34:31.845771Z"
    }
   },
   "outputs": [],
   "source": [
    "controls_dict = {\"asset\":stocks_selector, \n",
    "                 \"indicator\":indicator_selector, \n",
    "                 \"start_date\":start_date_selector, \n",
    "                 \"end_date\":end_date_selector, \n",
    "                 \"bb_k\":k_param, \n",
    "                 \"bb_n\":n_param,\n",
    "                 \"macd_fast\": macd_fast, \n",
    "                 \"macd_slow\": macd_slow, \n",
    "                 \"macd_signal\": macd_signal,\n",
    "                 \"rsi_periods\": rsi_periods, \n",
    "                 \"rsi_upper\": rsi_upper,\n",
    "                 \"rsi_lower\": rsi_lower}\n",
    "\n",
    "ui = wd.HBox([main_selector_box, secondary_selector_box])\n",
    "out = wd.interactive_output(ta_dashboard, controls_dict)"
   ]
  },
  {
   "cell_type": "markdown",
   "id": "b3a48378-2e39-4f75-9dcc-85da23bc138b",
   "metadata": {},
   "source": [
    "11. Display the dashboard:"
   ]
  },
  {
   "cell_type": "code",
   "execution_count": null,
   "id": "eb4d9e40-5c18-4cb8-a03f-62faf7cf7e26",
   "metadata": {
    "ExecuteTime": {
     "end_time": "2020-01-29T08:34:35.086631Z",
     "start_time": "2020-01-29T08:34:35.066050Z"
    }
   },
   "outputs": [],
   "source": [
    "display(ui, out)"
   ]
  }
 ],
 "metadata": {
  "kernelspec": {
   "display_name": "Python [conda env:base] *",
   "language": "python",
   "name": "conda-base-py"
  },
  "language_info": {
   "codemirror_mode": {
    "name": "ipython",
    "version": 3
   },
   "file_extension": ".py",
   "mimetype": "text/x-python",
   "name": "python",
   "nbconvert_exporter": "python",
   "pygments_lexer": "ipython3",
   "version": "3.12.7"
  },
  "vscode": {
   "interpreter": {
    "hash": "b0fa6594d8f4cbf19f97940f81e996739fb7646882a419484c72d19e05852a7e"
   }
  }
 },
 "nbformat": 4,
 "nbformat_minor": 5
}
