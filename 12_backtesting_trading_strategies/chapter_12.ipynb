{
 "cells": [
  {
   "cell_type": "markdown",
   "metadata": {
    "id": "_OEACZptdHC7"
   },
   "source": [
    "Please run those two cells before running the Notebook!\n",
    "\n",
    "As those plotting settings are standard throughout the book, we do not show them in the book every time we plot something."
   ]
  },
  {
   "cell_type": "code",
   "execution_count": null,
   "metadata": {},
   "outputs": [],
   "source": [
    "# FIX: Force a clean reinstall of numpy and then install TA-Lib using conda\n",
    "!pip install --upgrade --force-reinstall numpy\n",
    "!conda install -c conda-forge ta-lib --yes"
   ]
  },
  {
   "cell_type": "code",
   "execution_count": null,
   "metadata": {},
   "outputs": [],
   "source": [
    "# FIX: Install a version of numpy that is compatible with the numba library\n",
    "!pip install numpy==1.26.4"
   ]
  },
  {
   "cell_type": "code",
   "execution_count": null,
   "metadata": {},
   "outputs": [],
   "source": [
    "# FIX: Install the numpy library, which is a requirement for matplotlib\n",
    "!pip install numpy\n",
    "\n",
    "# Now your original imports will work\n",
    "import matplotlib.pyplot as plt\n",
    "import seaborn as sns"
   ]
  },
  {
   "cell_type": "code",
   "execution_count": null,
   "metadata": {
    "ExecuteTime": {
     "end_time": "2020-01-29T10:48:06.120195Z",
     "start_time": "2020-01-29T10:48:05.814125Z"
    },
    "id": "_JscbREmdHC-"
   },
   "outputs": [],
   "source": [
    "%matplotlib inline\n",
    "%config InlineBackend.figure_format = \"retina\""
   ]
  },
  {
   "cell_type": "code",
   "execution_count": null,
   "metadata": {
    "ExecuteTime": {
     "end_time": "2020-01-29T10:48:13.141309Z",
     "start_time": "2020-01-29T10:48:13.137453Z"
    }
   },
   "outputs": [],
   "source": [
    "import matplotlib.pyplot as plt\n",
    "import seaborn as sns\n",
    "\n",
    "import warnings\n",
    "# FIX: Use the official public API path from pandas.errors\n",
    "from pandas.errors import SettingWithCopyWarning\n",
    "\n",
    "warnings.simplefilter(action=\"ignore\", category=FutureWarning)\n",
    "warnings.simplefilter(action=\"ignore\", category=SettingWithCopyWarning)\n",
    "\n",
    "# feel free to modify, for example, change the context to \"notebook\"\n",
    "sns.set_theme(context=\"talk\", style=\"whitegrid\",\n",
    "              palette=\"colorblind\", color_codes=True,\n",
    "              rc={\"figure.figsize\": [12, 8]})"
   ]
  },
  {
   "cell_type": "markdown",
   "metadata": {
    "id": "nS3hr1kUdHDB"
   },
   "source": [
    "# Chapter 12 - Backtesting Trading Strategies"
   ]
  },
  {
   "cell_type": "markdown",
   "metadata": {},
   "source": [
    "## 12.1 Vectorized backtesting with `pandas`"
   ]
  },
  {
   "cell_type": "markdown",
   "metadata": {},
   "source": [
    "### How to do it..."
   ]
  },
  {
   "cell_type": "markdown",
   "metadata": {},
   "source": [
    "1. Import the libraries:"
   ]
  },
  {
   "cell_type": "code",
   "execution_count": null,
   "metadata": {},
   "outputs": [],
   "source": [
    "# FIX: Use conda-forge to install a working version of TA-Lib\n",
    "!conda install -c conda-forge ta-lib --yes"
   ]
  },
  {
   "cell_type": "code",
   "execution_count": null,
   "metadata": {},
   "outputs": [],
   "source": [
    "import pandas as pd \n",
    "import yfinance as yf\n",
    "import numpy as np\n",
    "import talib"
   ]
  },
  {
   "cell_type": "markdown",
   "metadata": {},
   "source": [
    "2. Download Apple's stock prices from the years 2016-2021 and keep only the adjusted close price:"
   ]
  },
  {
   "cell_type": "code",
   "execution_count": null,
   "metadata": {},
   "outputs": [],
   "source": [
    "df = yf.download(\"AAPL\", \n",
    "                 start=\"2016-01-01\",\n",
    "                 end=\"2021-12-31\",\n",
    "                 progress=False)\n",
    "df = df[[\"Adj Close\"]]\n"
   ]
  },
  {
   "cell_type": "markdown",
   "metadata": {},
   "source": [
    "3. Calculate the log returns and the 20-day SMA of the close prices:"
   ]
  },
  {
   "cell_type": "code",
   "execution_count": null,
   "metadata": {},
   "outputs": [],
   "source": [
    "df[\"log_rtn\"] = df[\"Adj Close\"].apply(np.log).diff(1)\n",
    "df[\"sma_20\"] = df[\"Adj Close\"].rolling(window=20).mean()\n",
    "# df[\"sma_20\"] = talib.SMA(df[\"Adj Close\"], timeperiod=20)\n",
    "df"
   ]
  },
  {
   "cell_type": "markdown",
   "metadata": {},
   "source": [
    "4. Create a position indicator:"
   ]
  },
  {
   "cell_type": "code",
   "execution_count": null,
   "metadata": {},
   "outputs": [],
   "source": [
    "df[\"position\"] = (df[\"Adj Close\"] > df[\"sma_20\"]).astype(int)"
   ]
  },
  {
   "cell_type": "markdown",
   "metadata": {},
   "source": [
    "Using the following snippet, we count how many times we entered a long position:"
   ]
  },
  {
   "cell_type": "code",
   "execution_count": null,
   "metadata": {},
   "outputs": [],
   "source": [
    "sum((df[\"position\"] == 1) & (df[\"position\"].shift(1) == 0))"
   ]
  },
  {
   "cell_type": "markdown",
   "metadata": {},
   "source": [
    "5. Visualize the strategy over 2021:"
   ]
  },
  {
   "cell_type": "code",
   "execution_count": null,
   "metadata": {},
   "outputs": [],
   "source": [
    "fig, ax = plt.subplots(2, sharex=True)\n",
    "df.loc[\"2021\", [\"Adj Close\", \"sma_20\"]].plot(ax=ax[0])\n",
    "df.loc[\"2021\", \"position\"].plot(ax=ax[1])\n",
    "ax[0].set_title(\"Preview of our strategy in 2021\")\n",
    "\n",
    "sns.despine()\n",
    "plt.tight_layout()\n",
    "# plt.savefig(\"images/figure_12_1\", dpi=200)"
   ]
  },
  {
   "cell_type": "markdown",
   "metadata": {},
   "source": [
    "6. Calculate the strategy's daily and cumulative returns:"
   ]
  },
  {
   "cell_type": "code",
   "execution_count": null,
   "metadata": {},
   "outputs": [],
   "source": [
    "df[\"strategy_rtn\"] = df[\"position\"].shift(1) * df[\"log_rtn\"]\n",
    "df[\"strategy_rtn_cum\"] = df[\"strategy_rtn\"].cumsum().apply(np.exp)\n",
    "df"
   ]
  },
  {
   "cell_type": "markdown",
   "metadata": {},
   "source": [
    "7. Add the buy-and-hold strategy for comparison:"
   ]
  },
  {
   "cell_type": "code",
   "execution_count": null,
   "metadata": {},
   "outputs": [],
   "source": [
    "df[\"bh_rtn_cum\"] = df[\"log_rtn\"].cumsum().apply(np.exp)"
   ]
  },
  {
   "cell_type": "markdown",
   "metadata": {},
   "source": [
    "8. Plot the strategies' cumulative returns:"
   ]
  },
  {
   "cell_type": "code",
   "execution_count": null,
   "metadata": {},
   "outputs": [],
   "source": [
    "df[[\"bh_rtn_cum\", \"strategy_rtn_cum\"]].plot(title=\"Cumulative returns\")\n",
    "\n",
    "sns.despine()\n",
    "plt.tight_layout()\n",
    "# plt.savefig(\"images/figure_12_2\", dpi=200)"
   ]
  },
  {
   "cell_type": "markdown",
   "metadata": {},
   "source": [
    "### There's more"
   ]
  },
  {
   "cell_type": "markdown",
   "metadata": {},
   "source": [
    "1. Calculate daily transaction costs:"
   ]
  },
  {
   "cell_type": "code",
   "execution_count": null,
   "metadata": {},
   "outputs": [],
   "source": [
    "TRANSACTION_COST = 0.01 \n",
    "df[\"tc\"] = df[\"position\"].diff(1).abs() * TRANSACTION_COST"
   ]
  },
  {
   "cell_type": "markdown",
   "metadata": {},
   "source": [
    "2. Calculate the strategy's performance accounting for transaction costs:"
   ]
  },
  {
   "cell_type": "code",
   "execution_count": null,
   "metadata": {},
   "outputs": [],
   "source": [
    "df[\"strategy_rtn_cum_tc\"] = (\n",
    "    (df[\"strategy_rtn\"] - df[\"tc\"]).cumsum().apply(np.exp)\n",
    ")"
   ]
  },
  {
   "cell_type": "markdown",
   "metadata": {},
   "source": [
    "3. Plot the cumulative returns of all the strategies:"
   ]
  },
  {
   "cell_type": "code",
   "execution_count": null,
   "metadata": {},
   "outputs": [],
   "source": [
    "(\n",
    "    df\n",
    "    .loc[:, [\"bh_rtn_cum\", \"strategy_rtn_cum\", \"strategy_rtn_cum_tc\"]]\n",
    "    .plot(title=\"Cumulative returns\")\n",
    ")\n",
    "\n",
    "sns.despine()\n",
    "plt.tight_layout()\n",
    "# plt.savefig(\"images/figure_12_3\", dpi=200)"
   ]
  },
  {
   "cell_type": "markdown",
   "metadata": {},
   "source": [
    "## 12.2 Event-driven backtesting with `backtrader`"
   ]
  },
  {
   "cell_type": "markdown",
   "metadata": {},
   "source": [
    "### How to do it..."
   ]
  },
  {
   "cell_type": "markdown",
   "metadata": {},
   "source": [
    "1. Import the libraries:"
   ]
  },
  {
   "cell_type": "code",
   "execution_count": null,
   "metadata": {
    "ExecuteTime": {
     "end_time": "2020-01-24T12:37:32.830028Z",
     "start_time": "2020-01-24T12:37:31.936086Z"
    }
   },
   "outputs": [],
   "source": [
    "from datetime import datetime\n",
    "import backtrader as bt\n",
    "from backtrader_strategies.strategy_utils import *"
   ]
  },
  {
   "cell_type": "markdown",
   "metadata": {},
   "source": [
    "2. Download data from Yahoo Finance:"
   ]
  },
  {
   "cell_type": "code",
   "execution_count": null,
   "metadata": {
    "ExecuteTime": {
     "end_time": "2020-01-24T12:37:33.131394Z",
     "start_time": "2020-01-24T12:37:33.127520Z"
    }
   },
   "outputs": [],
   "source": [
    "data = bt.feeds.YahooFinanceData(dataname=\"AAPL\", \n",
    "                                 fromdate=datetime(2021, 1, 1),\n",
    "                                 todate=datetime(2021, 12, 31))"
   ]
  },
  {
   "cell_type": "markdown",
   "metadata": {},
   "source": [
    "3. Define the strategy:"
   ]
  },
  {
   "cell_type": "code",
   "execution_count": null,
   "metadata": {
    "ExecuteTime": {
     "end_time": "2020-01-24T12:42:30.854108Z",
     "start_time": "2020-01-24T12:42:30.842306Z"
    }
   },
   "outputs": [],
   "source": [
    "class SmaStrategy(bt.Strategy):\n",
    "    params = ((\"ma_period\", 20), )\n",
    "\n",
    "    def __init__(self):\n",
    "        # keep track of close price in the series\n",
    "        self.data_close = self.datas[0].close\n",
    "\n",
    "        # keep track of pending orders\n",
    "        self.order = None\n",
    "\n",
    "        # add a simple moving average indicator\n",
    "        self.sma = bt.ind.SMA(self.datas[0],\n",
    "                              period=self.params.ma_period)\n",
    "        \n",
    "    def log(self, txt):\n",
    "        dt = self.datas[0].datetime.date(0).isoformat()\n",
    "        print(f\"{dt}: {txt}\")\n",
    "\n",
    "    def notify_order(self, order):\n",
    "        if order.status in [order.Submitted, order.Accepted]:\n",
    "            # order already submitted/accepted\n",
    "            # no action required\n",
    "            return\n",
    "\n",
    "        # report executed order\n",
    "        if order.status in [order.Completed]:\n",
    "\n",
    "            direction = \"b\" if order.isbuy() else \"s\"\n",
    "            log_str = get_action_log_string(\n",
    "                dir=direction, \n",
    "                action=\"e\", \n",
    "                price=order.executed.price,\n",
    "                size=order.executed.size,\n",
    "                cost=order.executed.value, \n",
    "                commission=order.executed.comm\n",
    "            )\n",
    "            self.log(log_str)\n",
    "\n",
    "        # report failed order\n",
    "        elif order.status in [order.Canceled, order.Margin, \n",
    "                              order.Rejected]:\n",
    "            self.log(\"Order Failed\")\n",
    "\n",
    "        # reset order -> no pending order\n",
    "        self.order = None\n",
    "\n",
    "    def notify_trade(self, trade):\n",
    "        if not trade.isclosed:\n",
    "            return\n",
    "\n",
    "        self.log(\n",
    "            get_result_log_string(gross=trade.pnl, net=trade.pnlcomm)\n",
    "        )\n",
    "\n",
    "    def next(self):\n",
    "        # do nothing if an order is pending\n",
    "        if self.order:\n",
    "            return\n",
    "\n",
    "        # check if there is already a position\n",
    "        if not self.position:\n",
    "            # buy condition\n",
    "            if self.data_close[0] > self.sma[0]:\n",
    "                self.log(\n",
    "                    get_action_log_string(\"b\", \"c\", self.data_close[0], 1)\n",
    "                )\n",
    "                self.order = self.buy()\n",
    "        else:\n",
    "            # sell condition\n",
    "            if self.data_close[0] < self.sma[0]:      \n",
    "                self.log(\n",
    "                    get_action_log_string(\"s\", \"c\", self.data_close[0], 1)\n",
    "                )      \n",
    "                self.order = self.sell()\n",
    "\n",
    "    def start(self):\n",
    "        print(f\"Initial Portfolio Value: {self.broker.get_value():.2f}\")\n",
    "\n",
    "    def stop(self):\n",
    "        print(f\"Final Portfolio Value: {self.broker.get_value():.2f}\")"
   ]
  },
  {
   "cell_type": "markdown",
   "metadata": {},
   "source": [
    "4. Set up the backtest:"
   ]
  },
  {
   "cell_type": "code",
   "execution_count": null,
   "metadata": {
    "ExecuteTime": {
     "end_time": "2020-01-24T12:42:31.911442Z",
     "start_time": "2020-01-24T12:42:31.907316Z"
    }
   },
   "outputs": [],
   "source": [
    "cerebro = bt.Cerebro(stdstats = False)\n",
    "\n",
    "cerebro.adddata(data)\n",
    "cerebro.broker.setcash(1000.0)\n",
    "cerebro.addstrategy(SmaStrategy)\n",
    "cerebro.addobserver(MyBuySell)\n",
    "cerebro.addobserver(bt.observers.Value)"
   ]
  },
  {
   "cell_type": "markdown",
   "metadata": {},
   "source": [
    "5. Run the backtest:"
   ]
  },
  {
   "cell_type": "code",
   "execution_count": null,
   "metadata": {},
   "outputs": [],
   "source": [
    "cerebro.run()"
   ]
  },
  {
   "cell_type": "markdown",
   "metadata": {},
   "source": [
    "6. Plot the results:"
   ]
  },
  {
   "cell_type": "code",
   "execution_count": null,
   "metadata": {},
   "outputs": [],
   "source": [
    "cerebro.plot(iplot=True, volume=False)"
   ]
  },
  {
   "cell_type": "markdown",
   "metadata": {},
   "source": [
    "### There's more"
   ]
  },
  {
   "cell_type": "markdown",
   "metadata": {},
   "source": [
    "Instead of running the cell below, we recommend running the script `sma_strategy_optimization.py`, as it contains the variant of the strategy without that much logging. The outputs are the same."
   ]
  },
  {
   "cell_type": "code",
   "execution_count": null,
   "metadata": {
    "ExecuteTime": {
     "end_time": "2020-01-18T23:52:50.158229Z",
     "start_time": "2020-01-18T23:52:49.339110Z"
    }
   },
   "outputs": [],
   "source": [
    "# create a Cerebro entity\n",
    "cerebro = bt.Cerebro(stdstats = False)\n",
    "\n",
    "# set up the backtest\n",
    "cerebro.adddata(data)\n",
    "cerebro.optstrategy(SmaStrategy, ma_period=range(10, 31))\n",
    "cerebro.broker.setcash(1000.0)\n",
    "cerebro.run(maxcpus=1)\n"
   ]
  },
  {
   "cell_type": "markdown",
   "metadata": {},
   "source": [
    "## 12.3 Backtesting a long/short strategy based on the RSI"
   ]
  },
  {
   "cell_type": "markdown",
   "metadata": {},
   "source": [
    "### How to do it..."
   ]
  },
  {
   "cell_type": "markdown",
   "metadata": {},
   "source": [
    "1. Import the libraries:"
   ]
  },
  {
   "cell_type": "code",
   "execution_count": null,
   "metadata": {},
   "outputs": [],
   "source": [
    "from datetime import datetime\n",
    "import backtrader as bt\n",
    "from backtrader_strategies.strategy_utils import *"
   ]
  },
  {
   "cell_type": "markdown",
   "metadata": {},
   "source": [
    "2. Define the signal strategy based on `bt.SignalStrategy`:"
   ]
  },
  {
   "cell_type": "code",
   "execution_count": null,
   "metadata": {},
   "outputs": [],
   "source": [
    "class RsiSignalStrategy(bt.SignalStrategy):\n",
    "    params = dict(rsi_periods=14, rsi_upper=70, \n",
    "                  rsi_lower=30, rsi_mid=50)\n",
    "\n",
    "    def __init__(self):\n",
    "        \n",
    "        # add RSI indicator\n",
    "        rsi = bt.indicators.RSI(period=self.p.rsi_periods,\n",
    "                                upperband=self.p.rsi_upper,\n",
    "                                lowerband=self.p.rsi_lower)\n",
    "\n",
    "        # add RSI from TA-lib just for reference \n",
    "        bt.talib.RSI(self.data, plotname=\"TA_RSI\")\n",
    "    \n",
    "        # long condition (with exit)\n",
    "        rsi_signal_long = bt.ind.CrossUp(rsi, self.p.rsi_lower, plot=False)\n",
    "        self.signal_add(bt.SIGNAL_LONG, rsi_signal_long)\n",
    "        self.signal_add(bt.SIGNAL_LONGEXIT, -(rsi > self.p.rsi_mid))\n",
    "\n",
    "        # short condition (with exit)\n",
    "        rsi_signal_short = -bt.ind.CrossDown(rsi, self.p.rsi_upper, plot=False)\n",
    "        self.signal_add(bt.SIGNAL_SHORT, rsi_signal_short)\n",
    "        self.signal_add(bt.SIGNAL_SHORTEXIT, rsi < self.p.rsi_mid)"
   ]
  },
  {
   "cell_type": "markdown",
   "metadata": {},
   "source": [
    "3. Download data:"
   ]
  },
  {
   "cell_type": "code",
   "execution_count": null,
   "metadata": {},
   "outputs": [],
   "source": [
    "data = bt.feeds.YahooFinanceData(dataname=\"META\", \n",
    "                                 fromdate=datetime(2021, 1, 1),\n",
    "                                 todate=datetime(2021, 12, 31))"
   ]
  },
  {
   "cell_type": "markdown",
   "metadata": {},
   "source": [
    "4. Set up and run the backtest:"
   ]
  },
  {
   "cell_type": "code",
   "execution_count": null,
   "metadata": {},
   "outputs": [],
   "source": [
    "cerebro = bt.Cerebro(stdstats = False)\n",
    "\n",
    "cerebro.addstrategy(RsiSignalStrategy)\n",
    "cerebro.adddata(data)\n",
    "cerebro.addsizer(bt.sizers.SizerFix, stake=1)\n",
    "cerebro.broker.setcash(1000.0)\n",
    "cerebro.broker.setcommission(commission=0.001)\n",
    "cerebro.addobserver(MyBuySell)\n",
    "cerebro.addobserver(bt.observers.Value)\n",
    "\n",
    "print(f\"Starting Portfolio Value: {cerebro.broker.getvalue():.2f}\")\n",
    "cerebro.run()\n",
    "print(f\"Final Portfolio Value: {cerebro.broker.getvalue():.2f}\")\n"
   ]
  },
  {
   "cell_type": "markdown",
   "metadata": {},
   "source": [
    "5. Plot the results:"
   ]
  },
  {
   "cell_type": "code",
   "execution_count": null,
   "metadata": {},
   "outputs": [],
   "source": [
    "cerebro.plot(iplot=True, volume=False)"
   ]
  },
  {
   "cell_type": "markdown",
   "metadata": {},
   "source": [
    "### There's more"
   ]
  },
  {
   "cell_type": "markdown",
   "metadata": {},
   "source": [
    "1. Go \"all-in\" with the RSI strategy:"
   ]
  },
  {
   "cell_type": "code",
   "execution_count": null,
   "metadata": {},
   "outputs": [],
   "source": [
    "cerebro = bt.Cerebro(stdstats = False)\n",
    "\n",
    "cerebro.addstrategy(RsiSignalStrategy)\n",
    "cerebro.adddata(data)\n",
    "cerebro.addsizer(bt.sizers.AllInSizer)\n",
    "cerebro.broker.setcash(1000.0)\n",
    "cerebro.broker.setcommission(commission=0.001)\n",
    "cerebro.addobserver(bt.observers.Value)\n",
    "\n",
    "print(f\"Starting Portfolio Value: {cerebro.broker.getvalue():.2f}\")\n",
    "cerebro.run()\n",
    "print(f\"Final Portfolio Value: {cerebro.broker.getvalue():.2f}\")"
   ]
  },
  {
   "cell_type": "markdown",
   "metadata": {},
   "source": [
    "2. Definte a fixed commission scheme per share and run the backtest:"
   ]
  },
  {
   "cell_type": "code",
   "execution_count": null,
   "metadata": {},
   "outputs": [],
   "source": [
    "class FixedCommisionShare(bt.CommInfoBase):\n",
    "    \"\"\"\n",
    "    Scheme with fixed commission per share\n",
    "    \"\"\"\n",
    "    params = (\n",
    "        (\"commission\", 0.03),\n",
    "        (\"stocklike\", True),\n",
    "        (\"commtype\", bt.CommInfoBase.COMM_FIXED),\n",
    "    )\n",
    "\n",
    "    def _getcommission(self, size, price, pseudoexec):\n",
    "        return abs(size) * self.p.commission"
   ]
  },
  {
   "cell_type": "code",
   "execution_count": null,
   "metadata": {},
   "outputs": [],
   "source": [
    "cerebro = bt.Cerebro(stdstats = False)\n",
    "\n",
    "cerebro.addstrategy(RsiSignalStrategy)\n",
    "cerebro.adddata(data)\n",
    "cerebro.addsizer(bt.sizers.AllInSizer)\n",
    "cerebro.broker.setcash(1000.0)\n",
    "cerebro.broker.addcommissioninfo(FixedCommisionShare())\n",
    "cerebro.addobserver(bt.observers.Value)\n",
    "\n",
    "print(f\"Starting Portfolio Value: {cerebro.broker.getvalue():.2f}\")\n",
    "cerebro.run()\n",
    "print(f\"Final Portfolio Value: {cerebro.broker.getvalue():.2f}\")\n"
   ]
  },
  {
   "cell_type": "markdown",
   "metadata": {},
   "source": [
    "3. Definte a fixed commission scheme per order and run the backtest:"
   ]
  },
  {
   "cell_type": "code",
   "execution_count": null,
   "metadata": {},
   "outputs": [],
   "source": [
    "class FixedCommisionOrder(bt.CommInfoBase):\n",
    "    \"\"\"\n",
    "    Scheme with fixed commission per order\n",
    "    \"\"\"\n",
    "    params = (\n",
    "        (\"commission\", 2.5),\n",
    "        (\"stocklike\", True),\n",
    "        (\"commtype\", bt.CommInfoBase.COMM_FIXED),\n",
    "    )\n",
    "\n",
    "    def _getcommission(self, size, price, pseudoexec):\n",
    "        return self.p.commission"
   ]
  },
  {
   "cell_type": "code",
   "execution_count": null,
   "metadata": {},
   "outputs": [],
   "source": [
    "cerebro = bt.Cerebro(stdstats = False)\n",
    "\n",
    "cerebro.addstrategy(RsiSignalStrategy)\n",
    "cerebro.adddata(data)\n",
    "cerebro.addsizer(bt.sizers.AllInSizer)\n",
    "cerebro.broker.setcash(1000.0)\n",
    "cerebro.broker.addcommissioninfo(FixedCommisionOrder())\n",
    "cerebro.addobserver(bt.observers.Value)\n",
    "\n",
    "print(f\"Starting Portfolio Value: {cerebro.broker.getvalue():.2f}\")\n",
    "cerebro.run()\n",
    "print(f\"Final Portfolio Value: {cerebro.broker.getvalue():.2f}\")\n"
   ]
  },
  {
   "cell_type": "markdown",
   "metadata": {},
   "source": [
    "## 12.4 Backtesting a buy/sell strategy based on Bollinger bands"
   ]
  },
  {
   "cell_type": "markdown",
   "metadata": {},
   "source": [
    "### How to do it..."
   ]
  },
  {
   "cell_type": "markdown",
   "metadata": {},
   "source": [
    "1. Import the libraries:"
   ]
  },
  {
   "cell_type": "code",
   "execution_count": null,
   "metadata": {
    "ExecuteTime": {
     "end_time": "2020-01-23T11:58:22.148872Z",
     "start_time": "2020-01-23T11:58:21.654243Z"
    }
   },
   "outputs": [],
   "source": [
    "import backtrader as bt\n",
    "import datetime\n",
    "import pandas as pd\n",
    "from backtrader_strategies.strategy_utils import *"
   ]
  },
  {
   "cell_type": "markdown",
   "metadata": {},
   "source": [
    "2. Define the strategy based on the Bollinger Bands:"
   ]
  },
  {
   "cell_type": "code",
   "execution_count": null,
   "metadata": {
    "ExecuteTime": {
     "end_time": "2020-01-23T11:58:22.706139Z",
     "start_time": "2020-01-23T11:58:22.690993Z"
    }
   },
   "outputs": [],
   "source": [
    "class BollingerBandStrategy(bt.Strategy):\n",
    "    params = ((\"period\", 20),\n",
    "              (\"devfactor\", 2.0),)\n",
    "\n",
    "    def __init__(self):\n",
    "        # keep track of prices\n",
    "        self.data_close = self.datas[0].close\n",
    "        self.data_open = self.datas[0].open\n",
    "\n",
    "        # keep track of pending orders\n",
    "        self.order = None\n",
    "\n",
    "        # add Bollinger Bands indicator and track the buy/sell signals\n",
    "        self.b_band = bt.ind.BollingerBands(self.datas[0], \n",
    "                                            period=self.p.period, \n",
    "                                            devfactor=self.p.devfactor)\n",
    "        self.buy_signal = bt.ind.CrossOver(self.datas[0], \n",
    "                                           self.b_band.lines.bot,\n",
    "                                           plotname=\"buy_signal\")\n",
    "        self.sell_signal = bt.ind.CrossOver(self.datas[0], \n",
    "                                            self.b_band.lines.top,\n",
    "                                            plotname=\"sell_signal\")\n",
    "\n",
    "    def log(self, txt):\n",
    "        dt = self.datas[0].datetime.date(0).isoformat()\n",
    "        print(f\"{dt}: {txt}\")\n",
    "\n",
    "    def notify_order(self, order):\n",
    "        if order.status in [order.Submitted, order.Accepted]:\n",
    "            # order already submitted/accepted - no action required\n",
    "            return\n",
    "\n",
    "        # report executed order\n",
    "        if order.status in [order.Completed]:\n",
    "\n",
    "            direction = \"b\" if order.isbuy() else \"s\"\n",
    "            log_str = get_action_log_string(\n",
    "                    dir=direction, \n",
    "                    action=\"e\", \n",
    "                    price=order.executed.price,\n",
    "                    size=order.executed.size,\n",
    "                    cost=order.executed.value, \n",
    "                    commission=order.executed.comm\n",
    "                )\n",
    "            self.log(log_str)\n",
    "\n",
    "        # report failed order\n",
    "        elif order.status in [order.Canceled, order.Margin, \n",
    "                              order.Rejected]:\n",
    "            self.log(\"Order Failed\")\n",
    "\n",
    "        # reset order -> no pending order\n",
    "        self.order = None\n",
    "\n",
    "    def notify_trade(self, trade):\n",
    "        if not trade.isclosed:\n",
    "            return\n",
    "\n",
    "        self.log(get_result_log_string(gross=trade.pnl, net=trade.pnlcomm))\n",
    "\n",
    "    def next_open(self):\n",
    "        if not self.position:\n",
    "            if self.buy_signal > 0:\n",
    "                # calculate the max number of shares (\"all-in\")\n",
    "                size = int(self.broker.getcash() / self.datas[0].open)\n",
    "                # buy order\n",
    "                log_str = get_action_log_string(\"b\", \"c\", \n",
    "                                                price=self.data_close[0], \n",
    "                                                size=size,\n",
    "                                                cash=self.broker.getcash(),\n",
    "                                                open=self.data_open[0],\n",
    "                                                close=self.data_close[0])\n",
    "                self.log(log_str)\n",
    "                self.order = self.buy(size=size)\n",
    "        else:\n",
    "            if self.sell_signal < 0:\n",
    "                # sell order\n",
    "                log_str = get_action_log_string(\"s\", \"c\", self.data_close[0], \n",
    "                                                self.position.size)\n",
    "                self.log(log_str)\n",
    "                self.order = self.sell(size=self.position.size)\n",
    "\n",
    "    def start(self):\n",
    "        print(f\"Initial Portfolio Value: {self.broker.get_value():.2f}\")\n",
    "\n",
    "    def stop(self):\n",
    "        print(f\"Final Portfolio Value: {self.broker.get_value():.2f}\")"
   ]
  },
  {
   "cell_type": "markdown",
   "metadata": {},
   "source": [
    "3. Download data:"
   ]
  },
  {
   "cell_type": "code",
   "execution_count": null,
   "metadata": {
    "ExecuteTime": {
     "end_time": "2020-01-23T11:58:24.382259Z",
     "start_time": "2020-01-23T11:58:24.377930Z"
    }
   },
   "outputs": [],
   "source": [
    "data = bt.feeds.YahooFinanceData(\n",
    "    dataname=\"MSFT\",\n",
    "    fromdate=datetime.datetime(2021, 1, 1),\n",
    "    todate=datetime.datetime(2021, 12, 31)\n",
    ")"
   ]
  },
  {
   "cell_type": "markdown",
   "metadata": {},
   "source": [
    "4. Set up the backtest:"
   ]
  },
  {
   "cell_type": "code",
   "execution_count": null,
   "metadata": {
    "ExecuteTime": {
     "end_time": "2020-01-23T11:58:25.890793Z",
     "start_time": "2020-01-23T11:58:25.884408Z"
    }
   },
   "outputs": [],
   "source": [
    "cerebro = bt.Cerebro(stdstats = False, cheat_on_open=True)\n",
    "\n",
    "cerebro.addstrategy(BollingerBandStrategy)\n",
    "cerebro.adddata(data)\n",
    "cerebro.broker.setcash(10000.0)\n",
    "cerebro.broker.setcommission(commission=0.001)\n",
    "cerebro.addobserver(MyBuySell)\n",
    "cerebro.addobserver(bt.observers.Value)\n",
    "cerebro.addanalyzer(bt.analyzers.Returns, _name=\"returns\")\n",
    "cerebro.addanalyzer(bt.analyzers.TimeReturn, _name=\"time_return\")"
   ]
  },
  {
   "cell_type": "markdown",
   "metadata": {},
   "source": [
    "5. Run the backtest:"
   ]
  },
  {
   "cell_type": "code",
   "execution_count": null,
   "metadata": {
    "ExecuteTime": {
     "end_time": "2020-01-23T11:58:28.109747Z",
     "start_time": "2020-01-23T11:58:26.989239Z"
    }
   },
   "outputs": [],
   "source": [
    "backtest_result = cerebro.run()"
   ]
  },
  {
   "cell_type": "markdown",
   "metadata": {},
   "source": [
    "6. Plot the results:"
   ]
  },
  {
   "cell_type": "code",
   "execution_count": null,
   "metadata": {
    "ExecuteTime": {
     "end_time": "2020-01-23T11:54:09.424806Z",
     "start_time": "2020-01-23T11:54:09.309910Z"
    }
   },
   "outputs": [],
   "source": [
    "cerebro.plot(iplot=True, volume=False)"
   ]
  },
  {
   "cell_type": "markdown",
   "metadata": {},
   "source": [
    "7. Investigate different returns metrics:"
   ]
  },
  {
   "cell_type": "code",
   "execution_count": null,
   "metadata": {
    "ExecuteTime": {
     "end_time": "2020-01-23T11:58:31.805950Z",
     "start_time": "2020-01-23T11:58:31.802411Z"
    }
   },
   "outputs": [],
   "source": [
    "backtest_result[0].analyzers.returns.get_analysis()"
   ]
  },
  {
   "cell_type": "markdown",
   "metadata": {},
   "source": [
    "8. Extract daily portfolio returns and plot them:"
   ]
  },
  {
   "cell_type": "code",
   "execution_count": null,
   "metadata": {
    "ExecuteTime": {
     "end_time": "2020-01-23T11:59:34.277912Z",
     "start_time": "2020-01-23T11:59:29.486970Z"
    }
   },
   "outputs": [],
   "source": [
    "returns_dict = backtest_result[0].analyzers.time_return.get_analysis()\n",
    "returns_df = (\n",
    "    pd.DataFrame(list(returns_dict.items()), \n",
    "                 columns = [\"date\", \"return\"])\n",
    "    .set_index(\"date\")\n",
    ")\n",
    "returns_df.plot(title=\"Strategy's daily returns\")\n",
    "\n",
    "sns.despine()\n",
    "plt.tight_layout()\n",
    "# plt.savefig(\"images/figure_12_7\", dpi=200)"
   ]
  },
  {
   "cell_type": "markdown",
   "metadata": {},
   "source": [
    "### There's more"
   ]
  },
  {
   "cell_type": "markdown",
   "metadata": {},
   "source": [
    "Compare the performance of our strategy to a \"buy-and-hold\" strategy:"
   ]
  },
  {
   "cell_type": "code",
   "execution_count": null,
   "metadata": {},
   "outputs": [],
   "source": [
    "import quantstats as qs\n",
    "qs.reports.metrics(returns_df, \n",
    "                   benchmark=\"MSFT\", \n",
    "                   mode=\"basic\")"
   ]
  },
  {
   "cell_type": "markdown",
   "metadata": {},
   "source": [
    "## 12.5 Backtesting a moving average crossover strategy using crypto data"
   ]
  },
  {
   "cell_type": "markdown",
   "metadata": {},
   "source": [
    "### How to do it..."
   ]
  },
  {
   "cell_type": "markdown",
   "metadata": {},
   "source": [
    "1. Import the libraries:"
   ]
  },
  {
   "cell_type": "code",
   "execution_count": null,
   "metadata": {
    "ExecuteTime": {
     "end_time": "2020-01-23T11:58:22.148872Z",
     "start_time": "2020-01-23T11:58:21.654243Z"
    }
   },
   "outputs": [],
   "source": [
    "import backtrader as bt\n",
    "import datetime\n",
    "import pandas as pd\n",
    "from backtrader_strategies.strategy_utils import *"
   ]
  },
  {
   "cell_type": "markdown",
   "metadata": {},
   "source": [
    "2. Define the commission scheme allowing for fractional trades:"
   ]
  },
  {
   "cell_type": "code",
   "execution_count": null,
   "metadata": {},
   "outputs": [],
   "source": [
    "class FractionalTradesCommission(bt.CommissionInfo):\n",
    "    def getsize(self, price, cash):\n",
    "        \"\"\"Returns the fractional size\"\"\"\n",
    "        return self.p.leverage * (cash / price)"
   ]
  },
  {
   "cell_type": "markdown",
   "metadata": {},
   "source": [
    "3. Define the SMA crossover strategy:"
   ]
  },
  {
   "cell_type": "code",
   "execution_count": null,
   "metadata": {
    "ExecuteTime": {
     "end_time": "2020-01-23T11:58:22.706139Z",
     "start_time": "2020-01-23T11:58:22.690993Z"
    }
   },
   "outputs": [],
   "source": [
    "class SMACrossoverStrategy(bt.Strategy):\n",
    "    params = (\n",
    "        (\"ma_fast\", 20),\n",
    "        (\"ma_slow\", 50),\n",
    "        (\"target_perc\", 0.7)\n",
    "    )\n",
    "\n",
    "    def __init__(self):\n",
    "        # keep track of close price in the series\n",
    "        self.data_close = self.datas[0].close\n",
    "        \n",
    "        # keep track of pending orders\n",
    "        self.order = None\n",
    "\n",
    "        # calculate the SMAs and get the crossover signal        \n",
    "        self.fast_ma = bt.indicators.MovingAverageSimple(\n",
    "            self.datas[0], \n",
    "            period=self.params.ma_fast\n",
    "        )\n",
    "        self.slow_ma = bt.indicators.MovingAverageSimple(\n",
    "            self.datas[0], \n",
    "            period=self.params.ma_slow\n",
    "        )\n",
    "        self.ma_crossover = bt.indicators.CrossOver(self.fast_ma, \n",
    "                                                    self.slow_ma)\n",
    "        \n",
    "    def log(self, txt):\n",
    "        dt = self.datas[0].datetime.date(0).isoformat()\n",
    "        print(f\"{dt}: {txt}\")\n",
    "\n",
    "    def notify_order(self, order):\n",
    "        if order.status in [order.Submitted, order.Accepted]:\n",
    "            # order already submitted/accepted - no action required\n",
    "            return\n",
    "\n",
    "        # report executed order\n",
    "        if order.status in [order.Completed]:\n",
    "\n",
    "            direction = \"b\" if order.isbuy() else \"s\"\n",
    "            log_str = get_action_log_string(\n",
    "                    dir=direction, \n",
    "                    action=\"e\", \n",
    "                    price=order.executed.price,\n",
    "                    size=order.executed.size,\n",
    "                    cost=order.executed.value, \n",
    "                    commission=order.executed.comm\n",
    "                )\n",
    "            self.log(log_str)\n",
    "\n",
    "        # report failed order\n",
    "        elif order.status in [order.Canceled, order.Margin, \n",
    "                              order.Rejected]:\n",
    "            self.log(\"Order Failed\")\n",
    "\n",
    "        # reset order -> no pending order\n",
    "        self.order = None\n",
    "\n",
    "    def notify_trade(self, trade):\n",
    "        if not trade.isclosed:\n",
    "            return\n",
    "\n",
    "        self.log(get_result_log_string(gross=trade.pnl, net=trade.pnlcomm))\n",
    "\n",
    "    def next(self):\n",
    "\n",
    "        if self.order:\n",
    "            return  # pending order execution. Waiting in orderbook\n",
    "\n",
    "        if not self.position:\n",
    "            if self.ma_crossover > 0:\n",
    "                self.order = self.order_target_percent(\n",
    "                    target=self.params.target_perc\n",
    "                )\n",
    "                log_str = get_action_log_string(\"b\", \"c\", \n",
    "                                                price=self.data_close[0], \n",
    "                                                size=self.order.size,\n",
    "                                                cash=self.broker.getcash(),\n",
    "                                                open=self.data_open[0],\n",
    "                                                close=self.data_close[0])\n",
    "                self.log(log_str)\n",
    "\n",
    "        else:\n",
    "            if self.ma_crossover < 0:\n",
    "                # sell order\n",
    "                log_str = get_action_log_string(\"s\", \"c\", self.data_close[0], \n",
    "                                                self.position.size)\n",
    "                self.log(log_str)\n",
    "                self.order = (\n",
    "                    self.order_target_percent(target=0)\n",
    "                )\n",
    "\n",
    "    def start(self):\n",
    "        print(f\"Initial Portfolio Value: {self.broker.get_value():.2f}\")\n",
    "\n",
    "    def stop(self):\n",
    "        print(f\"Final Portfolio Value: {self.broker.get_value():.2f}\")\n"
   ]
  },
  {
   "cell_type": "markdown",
   "metadata": {},
   "source": [
    "4. Download the `BTC-USD` data:"
   ]
  },
  {
   "cell_type": "code",
   "execution_count": null,
   "metadata": {
    "ExecuteTime": {
     "end_time": "2020-01-23T11:58:24.382259Z",
     "start_time": "2020-01-23T11:58:24.377930Z"
    }
   },
   "outputs": [],
   "source": [
    "data = bt.feeds.YahooFinanceData(\n",
    "    dataname=\"BTC-USD\",\n",
    "    fromdate=datetime.datetime(2020, 1, 1),\n",
    "    todate=datetime.datetime(2021, 12, 31)\n",
    ")"
   ]
  },
  {
   "cell_type": "markdown",
   "metadata": {},
   "source": [
    "5. Set up the backtest:"
   ]
  },
  {
   "cell_type": "code",
   "execution_count": null,
   "metadata": {
    "ExecuteTime": {
     "end_time": "2020-01-23T11:58:25.890793Z",
     "start_time": "2020-01-23T11:58:25.884408Z"
    }
   },
   "outputs": [],
   "source": [
    "cerebro = bt.Cerebro(stdstats = False, cheat_on_open=False)\n",
    "\n",
    "cerebro.addstrategy(SMACrossoverStrategy)\n",
    "cerebro.adddata(data)\n",
    "cerebro.broker.setcash(10000.0)\n",
    "cerebro.broker.addcommissioninfo(\n",
    "    FractionalTradesCommission(commission=0.001)\n",
    ")\n",
    "cerebro.addobserver(MyBuySell)\n",
    "cerebro.addobserver(bt.observers.Value)\n",
    "cerebro.addanalyzer(\n",
    "    bt.analyzers.TimeReturn, _name=\"time_return\"\n",
    ")"
   ]
  },
  {
   "cell_type": "markdown",
   "metadata": {},
   "source": [
    "6. Run the backtest:"
   ]
  },
  {
   "cell_type": "code",
   "execution_count": null,
   "metadata": {
    "ExecuteTime": {
     "end_time": "2020-01-23T11:58:28.109747Z",
     "start_time": "2020-01-23T11:58:26.989239Z"
    }
   },
   "outputs": [],
   "source": [
    "backtest_result = cerebro.run()"
   ]
  },
  {
   "cell_type": "markdown",
   "metadata": {},
   "source": [
    "7. Plot the results:"
   ]
  },
  {
   "cell_type": "code",
   "execution_count": null,
   "metadata": {
    "ExecuteTime": {
     "end_time": "2020-01-23T11:54:09.424806Z",
     "start_time": "2020-01-23T11:54:09.309910Z"
    }
   },
   "outputs": [],
   "source": [
    "cerebro.plot(iplot=True, volume=False)"
   ]
  },
  {
   "cell_type": "markdown",
   "metadata": {},
   "source": [
    "Get the strategy's performance as compared to a buy-and-hold strategy:"
   ]
  },
  {
   "cell_type": "code",
   "execution_count": null,
   "metadata": {
    "ExecuteTime": {
     "end_time": "2020-01-23T11:59:34.277912Z",
     "start_time": "2020-01-23T11:59:29.486970Z"
    }
   },
   "outputs": [],
   "source": [
    "import quantstats as qs\n",
    "\n",
    "# get the returns of the strategy as a DataFrame\n",
    "returns_dict = backtest_result[0].analyzers.time_return.get_analysis()\n",
    "returns_df = pd.DataFrame(list(returns_dict.items()), \n",
    "                          columns = [\"date\", \"return\"]) \\\n",
    "               .set_index(\"date\")\n",
    "\n",
    "# calculate the perf as compared to buy-and-hold\n",
    "qs.reports.metrics(returns_df, \n",
    "                   benchmark=\"BTC-USD\", \n",
    "                   mode=\"basic\")"
   ]
  },
  {
   "cell_type": "markdown",
   "metadata": {},
   "source": [
    "### There's more"
   ]
  },
  {
   "cell_type": "markdown",
   "metadata": {},
   "source": [
    "1. Define the same strategy, this time, manually calculating the amount of BTC to buy:"
   ]
  },
  {
   "cell_type": "code",
   "execution_count": null,
   "metadata": {},
   "outputs": [],
   "source": [
    "class SMACrossoverStrategyAlt(bt.Strategy):\n",
    "    params = (\n",
    "        (\"ma_fast\", 20),\n",
    "        (\"ma_slow\", 50),\n",
    "        (\"target_perc\", 0.7)\n",
    "    )\n",
    "\n",
    "    def __init__(self):\n",
    "        # keep track of close price in the series\n",
    "        self.data_close = self.datas[0].close\n",
    "        \n",
    "        # keep track of pending orders\n",
    "        self.order = None\n",
    "\n",
    "        # calculate the SMAs and get the crossover signal        \n",
    "        self.fast_ma = bt.indicators.MovingAverageSimple(self.datas[0], \n",
    "                       period=self.params.ma_fast)\n",
    "        self.slow_ma = bt.indicators.MovingAverageSimple(self.datas[0], \n",
    "                       period=self.params.ma_slow)\n",
    "        self.ma_crossover = bt.indicators.CrossOver(self.fast_ma, \n",
    "                                                    self.slow_ma)\n",
    "        \n",
    "    def log(self, txt):\n",
    "        dt = self.datas[0].datetime.date(0).isoformat()\n",
    "        print(f\"{dt}: {txt}\")\n",
    "\n",
    "    def notify_order(self, order):\n",
    "        if order.status in [order.Submitted, order.Accepted]:\n",
    "            # order already submitted/accepted - no action required\n",
    "            return\n",
    "\n",
    "        # report executed order\n",
    "        if order.status in [order.Completed]:\n",
    "\n",
    "            direction = \"b\" if order.isbuy() else \"s\"\n",
    "            log_str = get_action_log_string(\n",
    "                    dir=direction, \n",
    "                    action=\"e\", \n",
    "                    price=order.executed.price,\n",
    "                    size=order.executed.size,\n",
    "                    cost=order.executed.value, \n",
    "                    commission=order.executed.comm\n",
    "                )\n",
    "            self.log(log_str)\n",
    "\n",
    "        # report failed order\n",
    "        elif order.status in [order.Canceled, order.Margin, \n",
    "                              order.Rejected]:\n",
    "            self.log(\"Order Failed\")\n",
    "\n",
    "        # reset order -> no pending order\n",
    "        self.order = None\n",
    "\n",
    "    def notify_trade(self, trade):\n",
    "        if not trade.isclosed:\n",
    "            return\n",
    "\n",
    "        self.log(get_result_log_string(gross=trade.pnl, net=trade.pnlcomm))\n",
    "\n",
    "    def next(self):\n",
    "\n",
    "        if self.order:\n",
    "            return  # pending order execution. Waiting in orderbook\n",
    "\n",
    "        if not self.position:\n",
    "            if self.ma_crossover > 0:\n",
    "                size = self.broker.getcash() / self.datas[0].close * self.params.target_perc\n",
    "                log_str = get_action_log_string(\"b\", \"c\", \n",
    "                                                price=self.data_close[0], \n",
    "                                                size=size,\n",
    "                                                cash=self.broker.getcash(),\n",
    "                                                open=self.data_open[0],\n",
    "                                                close=self.data_close[0])\n",
    "                self.log(log_str)\n",
    "                self.order = self.buy(size=size)\n",
    "        else:\n",
    "            if self.ma_crossover < 0:\n",
    "                # sell order\n",
    "                log_str = get_action_log_string(\"s\", \"c\", self.data_close[0], \n",
    "                                                self.position.size)\n",
    "                self.log(log_str)\n",
    "                # self.order = self.sell(size=self.position.size)\n",
    "                self.order = self.order_target_percent(target=0)\n",
    "\n",
    "    def start(self):\n",
    "        print(f\"Initial Portfolio Value: {self.broker.get_value():.2f}\")\n",
    "\n",
    "    def stop(self):\n",
    "        print(f\"Final Portfolio Value: {self.broker.get_value():.2f}\")\n"
   ]
  },
  {
   "cell_type": "markdown",
   "metadata": {},
   "source": [
    "2. Set up the backtest, this time without the fractional commission scheme:"
   ]
  },
  {
   "cell_type": "code",
   "execution_count": null,
   "metadata": {
    "ExecuteTime": {
     "end_time": "2020-01-23T11:58:25.890793Z",
     "start_time": "2020-01-23T11:58:25.884408Z"
    }
   },
   "outputs": [],
   "source": [
    "cerebro = bt.Cerebro(stdstats = False, cheat_on_open=True)\n",
    "\n",
    "cerebro.addstrategy(SMACrossoverStrategyAlt)\n",
    "cerebro.adddata(data)\n",
    "cerebro.broker.setcash(10000.0)\n",
    "cerebro.broker.setcommission(commission=0.001)\n",
    "cerebro.addobserver(MyBuySell)\n",
    "cerebro.addobserver(bt.observers.Value)"
   ]
  },
  {
   "cell_type": "markdown",
   "metadata": {},
   "source": [
    "3. Run the backtest:"
   ]
  },
  {
   "cell_type": "code",
   "execution_count": null,
   "metadata": {
    "ExecuteTime": {
     "end_time": "2020-01-23T11:58:28.109747Z",
     "start_time": "2020-01-23T11:58:26.989239Z"
    }
   },
   "outputs": [],
   "source": [
    "backtest_result = cerebro.run()"
   ]
  },
  {
   "cell_type": "markdown",
   "metadata": {},
   "source": [
    "## 12.6 Backtesting a mean-variance portfolio optimization"
   ]
  },
  {
   "cell_type": "markdown",
   "metadata": {},
   "source": [
    "### Getting ready"
   ]
  },
  {
   "cell_type": "code",
   "execution_count": null,
   "metadata": {},
   "outputs": [],
   "source": [
    "import backtrader as bt\n",
    "\n",
    "class FractionalTradesCommission(bt.CommissionInfo):\n",
    "    def getsize(self, price, cash):\n",
    "        \"\"\"Returns the fractional size\"\"\"\n",
    "        return self.p.leverage * (cash / price)"
   ]
  },
  {
   "cell_type": "markdown",
   "metadata": {},
   "source": [
    "### How to do it..."
   ]
  },
  {
   "cell_type": "markdown",
   "metadata": {},
   "source": [
    "1. Import the libraries:"
   ]
  },
  {
   "cell_type": "code",
   "execution_count": null,
   "metadata": {
    "ExecuteTime": {
     "end_time": "2020-01-23T11:58:22.148872Z",
     "start_time": "2020-01-23T11:58:21.654243Z"
    }
   },
   "outputs": [],
   "source": [
    "from datetime import datetime\n",
    "import backtrader as bt\n",
    "import pandas as pd\n",
    "from pypfopt.expected_returns import mean_historical_return\n",
    "from pypfopt.risk_models import CovarianceShrinkage\n",
    "from pypfopt.efficient_frontier import EfficientFrontier\n",
    "from backtrader_strategies.strategy_utils import *"
   ]
  },
  {
   "cell_type": "markdown",
   "metadata": {},
   "source": [
    "2. Define the strategy:"
   ]
  },
  {
   "cell_type": "code",
   "execution_count": null,
   "metadata": {
    "ExecuteTime": {
     "end_time": "2020-01-23T11:58:22.706139Z",
     "start_time": "2020-01-23T11:58:22.690993Z"
    }
   },
   "outputs": [],
   "source": [
    "class MeanVariancePortfStrategy(bt.Strategy):\n",
    "    params = ((\"n_periods\", 252), )\n",
    "\n",
    "    def __init__(self):  \n",
    "        # track number of days\n",
    "        self.day_counter = 0\n",
    "               \n",
    "    def log(self, txt):\n",
    "        dt = self.datas[0].datetime.date(0).isoformat()\n",
    "        print(f\"{dt}: {txt}\")\n",
    "\n",
    "    def notify_order(self, order):\n",
    "        if order.status in [order.Submitted, order.Accepted]:\n",
    "            # order already submitted/accepted - no action required\n",
    "            return\n",
    "\n",
    "        # report executed order\n",
    "        if order.status in [order.Completed]:\n",
    "\n",
    "            direction = \"b\" if order.isbuy() else \"s\"\n",
    "            log_str = get_action_log_string(\n",
    "                    asset=order.data._name,\n",
    "                    dir=direction, \n",
    "                    action=\"e\", \n",
    "                    price=order.executed.price,\n",
    "                    size=order.executed.size,\n",
    "                    cost=order.executed.value, \n",
    "                    commission=order.executed.comm\n",
    "                )\n",
    "            self.log(log_str)\n",
    "\n",
    "        # report failed order\n",
    "        elif order.status in [order.Canceled, order.Margin, \n",
    "                              order.Rejected]:\n",
    "            self.log(f\"Order Failed: {order.data._name}\")\n",
    "\n",
    "        # reset order -> no pending order\n",
    "        self.order = None\n",
    "\n",
    "    def notify_trade(self, trade):\n",
    "        if not trade.isclosed:\n",
    "            return\n",
    "\n",
    "        self.log(get_result_log_string(gross=trade.pnl, net=trade.pnlcomm))\n",
    "\n",
    "    def next(self):\n",
    "\n",
    "        # check if we have enough data points\n",
    "        self.day_counter += 1\n",
    "        if self.day_counter < self.p.n_periods:\n",
    "            return\n",
    "\n",
    "        # check if the date is a Friday\n",
    "        today = self.datas[0].datetime.date()\n",
    "        if today.weekday() != 4: \n",
    "            return\n",
    "\n",
    "        # find and print the current allocation\n",
    "        current_portf = {}\n",
    "        for data in self.datas:\n",
    "            current_portf[data._name] = (\n",
    "                self.positions[data].size * data.close[0]\n",
    "            )\n",
    "        portf_df = pd.DataFrame(current_portf, index=[0])\n",
    "        print(f\"Current allocation as of {today}\")\n",
    "        print(portf_df / portf_df.sum(axis=1).squeeze())\n",
    "\n",
    "        # extract the past price data for each asset\n",
    "        price_dict = {}\n",
    "        for data in self.datas:\n",
    "            price_dict[data._name] = data.close.get(0, self.p.n_periods+1)\n",
    "        prices_df = pd.DataFrame(price_dict)\n",
    "\n",
    "        # find the optimal portfolio weights\n",
    "        mu = mean_historical_return(prices_df)\n",
    "        S = CovarianceShrinkage(prices_df).ledoit_wolf()\n",
    "        ef = EfficientFrontier(mu, S)\n",
    "        weights = ef.max_sharpe(risk_free_rate=0)\n",
    "        print(f\"Optimal allocation identified on {today}\")\n",
    "        print(pd.DataFrame(ef.clean_weights(), index=[0]))\n",
    "\n",
    "        # create orders\n",
    "        for allocation in list(ef.clean_weights().items()):\n",
    "            self.order_target_percent(data=allocation[0],\n",
    "                                      target=allocation[1])\n",
    "\n",
    "    def start(self):\n",
    "        print(f\"Initial Portfolio Value: {self.broker.get_value():.2f}\")\n",
    "\n",
    "    def stop(self):\n",
    "        print(f\"Final Portfolio Value: {self.broker.get_value():.2f}\")"
   ]
  },
  {
   "cell_type": "markdown",
   "metadata": {},
   "source": [
    "3. Download the prices of the FAANG stocks and store the data feeds in a list:"
   ]
  },
  {
   "cell_type": "code",
   "execution_count": null,
   "metadata": {
    "ExecuteTime": {
     "end_time": "2020-01-23T11:58:24.382259Z",
     "start_time": "2020-01-23T11:58:24.377930Z"
    }
   },
   "outputs": [],
   "source": [
    "TICKERS = [\"META\", \"AMZN\", \"AAPL\", \"NFLX\", \"GOOG\"]\n",
    "data_list = []\n",
    "\n",
    "for ticker in TICKERS:\n",
    "    data = bt.feeds.YahooFinanceData(\n",
    "        dataname=ticker,\n",
    "        fromdate=datetime(2020, 1, 1),\n",
    "        todate=datetime(2021, 12, 31)\n",
    "    )\n",
    "    data_list.append(data)"
   ]
  },
  {
   "cell_type": "markdown",
   "metadata": {},
   "source": [
    "4. Set up the backtest:"
   ]
  },
  {
   "cell_type": "code",
   "execution_count": null,
   "metadata": {
    "ExecuteTime": {
     "end_time": "2020-01-23T11:58:25.890793Z",
     "start_time": "2020-01-23T11:58:25.884408Z"
    }
   },
   "outputs": [],
   "source": [
    "cerebro = bt.Cerebro(stdstats = False)\n",
    "\n",
    "cerebro.addstrategy(MeanVariancePortfStrategy)\n",
    "\n",
    "for ind, ticker in enumerate(TICKERS):\n",
    "    cerebro.adddata(data_list[ind], name=ticker)\n",
    "\n",
    "cerebro.broker.setcash(1000.0)\n",
    "cerebro.broker.addcommissioninfo(\n",
    "    FractionalTradesCommission(commission=0)\n",
    ")\n",
    "cerebro.addobserver(MyBuySell)\n",
    "cerebro.addobserver(bt.observers.Value)"
   ]
  },
  {
   "cell_type": "markdown",
   "metadata": {},
   "source": [
    "5. Run the backtest:"
   ]
  },
  {
   "cell_type": "code",
   "execution_count": null,
   "metadata": {
    "ExecuteTime": {
     "end_time": "2020-01-23T11:58:28.109747Z",
     "start_time": "2020-01-23T11:58:26.989239Z"
    }
   },
   "outputs": [],
   "source": [
    "backtest_result = cerebro.run()"
   ]
  }
 ],
 "metadata": {
  "kernelspec": {
   "display_name": "Python [conda env:base] *",
   "language": "python",
   "name": "conda-base-py"
  },
  "language_info": {
   "codemirror_mode": {
    "name": "ipython",
    "version": 3
   },
   "file_extension": ".py",
   "mimetype": "text/x-python",
   "name": "python",
   "nbconvert_exporter": "python",
   "pygments_lexer": "ipython3",
   "version": "3.12.3"
  },
  "toc": {
   "base_numbering": 1,
   "nav_menu": {},
   "number_sections": true,
   "sideBar": true,
   "skip_h1_title": false,
   "title_cell": "Table of Contents",
   "title_sidebar": "Contents",
   "toc_cell": false,
   "toc_position": {
    "height": "calc(100% - 180px)",
    "left": "10px",
    "top": "150px",
    "width": "336px"
   },
   "toc_section_display": true,
   "toc_window_display": true
  },
  "varInspector": {
   "cols": {
    "lenName": 16,
    "lenType": 16,
    "lenVar": 40
   },
   "kernels_config": {
    "python": {
     "delete_cmd_postfix": "",
     "delete_cmd_prefix": "del ",
     "library": "var_list.py",
     "varRefreshCmd": "print(var_dic_list())"
    },
    "r": {
     "delete_cmd_postfix": ") ",
     "delete_cmd_prefix": "rm(",
     "library": "var_list.r",
     "varRefreshCmd": "cat(var_dic_list()) "
    }
   },
   "types_to_exclude": [
    "module",
    "function",
    "builtin_function_or_method",
    "instance",
    "_Feature"
   ],
   "window_display": false
  },
  "vscode": {
   "interpreter": {
    "hash": "0117835dafdb051235b33d006a7ad155411608685e1d44af6fb551f6db3e7774"
   }
  }
 },
 "nbformat": 4,
 "nbformat_minor": 4
}
