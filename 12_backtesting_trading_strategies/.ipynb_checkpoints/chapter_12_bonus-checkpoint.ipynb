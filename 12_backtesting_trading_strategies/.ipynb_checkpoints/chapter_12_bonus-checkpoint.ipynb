{
 "cells": [
  {
   "cell_type": "markdown",
   "metadata": {},
   "source": [
    "# Chapter 12 - Backtesting Trading Strategies"
   ]
  },
  {
   "cell_type": "markdown",
   "metadata": {},
   "source": [
    "In this Notebook you can find additional content that did not make it to the book."
   ]
  },
  {
   "cell_type": "markdown",
   "metadata": {},
   "source": [
    "## B.1 Event-driven Backtesting with `backtrader`"
   ]
  },
  {
   "cell_type": "markdown",
   "metadata": {},
   "source": [
    "This recipe below contains the same trading strategy (based on the simple moving average) as the one in the book, however, implemented using `backtrader`'s `Signal` approach."
   ]
  },
  {
   "cell_type": "markdown",
   "metadata": {},
   "source": [
    "### How to do it..."
   ]
  },
  {
   "cell_type": "markdown",
   "metadata": {},
   "source": [
    "1. Import the libraries:"
   ]
  },
  {
   "cell_type": "code",
   "execution_count": 8,
   "metadata": {},
   "outputs": [
    {
     "name": "stdout",
     "output_type": "stream",
     "text": [
      "Requirement already satisfied: backtrader in c:\\users\\lenovo\\anaconda3\\lib\\site-packages (1.9.78.123)\n"
     ]
    }
   ],
   "source": [
    "# FIX: Install the backtrader library\n",
    "!pip install backtrader\n"
   ]
  },
  {
   "cell_type": "code",
   "execution_count": null,
   "metadata": {},
   "outputs": [],
   "source": [
    "# FIX: Use conda-forge to install a pre-compiled version of TA-Lib, which avoids the C++ error\n",
    "!conda install -c conda-forge ta-lib --yes"
   ]
  },
  {
   "cell_type": "code",
   "execution_count": null,
   "metadata": {
    "ExecuteTime": {
     "end_time": "2020-01-24T12:37:32.830028Z",
     "start_time": "2020-01-24T12:37:31.936086Z"
    }
   },
   "outputs": [],
   "source": [
    "from datetime import datetime\n",
    "import backtrader as bt"
   ]
  },
  {
   "cell_type": "markdown",
   "metadata": {},
   "source": [
    "2. Define a class representing the trading strategy:"
   ]
  },
  {
   "cell_type": "code",
   "execution_count": null,
   "metadata": {
    "ExecuteTime": {
     "end_time": "2020-01-24T12:37:32.843242Z",
     "start_time": "2020-01-24T12:37:32.838010Z"
    }
   },
   "outputs": [],
   "source": [
    "class SmaSignal(bt.Signal):\n",
    "    params = ((\"period\", 20), )\n",
    "    \n",
    "    def __init__(self):\n",
    "        self.lines.signal = self.data - bt.ind.SMA(period=self.p.period)"
   ]
  },
  {
   "cell_type": "markdown",
   "metadata": {},
   "source": [
    "3. Download data from Yahoo Finance:"
   ]
  },
  {
   "cell_type": "code",
   "execution_count": null,
   "metadata": {
    "ExecuteTime": {
     "end_time": "2020-01-24T12:37:33.131394Z",
     "start_time": "2020-01-24T12:37:33.127520Z"
    }
   },
   "outputs": [],
   "source": [
    "data = bt.feeds.YahooFinanceData(dataname=\"AAPL\", \n",
    "                                 fromdate=datetime(2021, 1, 1),\n",
    "                                 todate=datetime(2021, 12, 31))"
   ]
  },
  {
   "cell_type": "markdown",
   "metadata": {},
   "source": [
    "4. Set up the backtest:"
   ]
  },
  {
   "cell_type": "code",
   "execution_count": null,
   "metadata": {
    "ExecuteTime": {
     "end_time": "2020-01-24T12:37:33.987802Z",
     "start_time": "2020-01-24T12:37:33.983588Z"
    }
   },
   "outputs": [],
   "source": [
    "cerebro = bt.Cerebro(stdstats = False)\n",
    "\n",
    "cerebro.adddata(data)\n",
    "cerebro.broker.setcash(1000.0)\n",
    "cerebro.add_signal(bt.SIGNAL_LONG, SmaSignal)\n",
    "cerebro.addobserver(bt.observers.BuySell)\n",
    "cerebro.addobserver(bt.observers.Value)"
   ]
  },
  {
   "cell_type": "markdown",
   "metadata": {},
   "source": [
    "5. Run the backtest:"
   ]
  },
  {
   "cell_type": "code",
   "execution_count": null,
   "metadata": {
    "ExecuteTime": {
     "end_time": "2020-01-24T12:37:40.073189Z",
     "start_time": "2020-01-24T12:37:39.259380Z"
    }
   },
   "outputs": [],
   "source": [
    "print(f\"Starting Portfolio Value: {cerebro.broker.getvalue():.2f}\")\n",
    "cerebro.run()\n",
    "print(f\"Final Portfolio Value: {cerebro.broker.getvalue():.2f}\")"
   ]
  },
  {
   "cell_type": "markdown",
   "metadata": {},
   "source": [
    "6. Plot the results:"
   ]
  },
  {
   "cell_type": "code",
   "execution_count": null,
   "metadata": {
    "ExecuteTime": {
     "end_time": "2020-01-24T12:37:45.365804Z",
     "start_time": "2020-01-24T12:37:45.154668Z"
    }
   },
   "outputs": [],
   "source": [
    "cerebro.plot(iplot=True, volume=False)"
   ]
  },
  {
   "cell_type": "markdown",
   "metadata": {},
   "source": [
    "## B.2 Loading custom data to `backtrader`"
   ]
  },
  {
   "cell_type": "markdown",
   "metadata": {},
   "source": [
    "Below, you can see how to backtest the same strategy, this time using manually downloaded data from Yahoo Finance (using the `yfinance` library). After downloading the data and storing it in a `pandas` DataFrame, we feed it into the backtesting framework.\n",
    "\n",
    "The same example can be inspected in `backtrader_strategies/sma_signal.py`."
   ]
  },
  {
   "cell_type": "markdown",
   "metadata": {},
   "source": [
    "### How to do it..."
   ]
  },
  {
   "cell_type": "markdown",
   "metadata": {},
   "source": [
    "1. Import the libraries:"
   ]
  },
  {
   "cell_type": "code",
   "execution_count": null,
   "metadata": {
    "ExecuteTime": {
     "end_time": "2020-03-20T19:48:06.087325Z",
     "start_time": "2020-03-20T19:48:05.490120Z"
    }
   },
   "outputs": [],
   "source": [
    "from datetime import datetime\n",
    "import backtrader as bt\n",
    "import yfinance as yf"
   ]
  },
  {
   "cell_type": "markdown",
   "metadata": {},
   "source": [
    "2. Define a class representing the trading strategy:"
   ]
  },
  {
   "cell_type": "code",
   "execution_count": null,
   "metadata": {
    "ExecuteTime": {
     "end_time": "2020-03-20T19:48:06.150301Z",
     "start_time": "2020-03-20T19:48:06.146170Z"
    }
   },
   "outputs": [],
   "source": [
    "class SmaSignal(bt.Signal):\n",
    "    params = ((\"period\", 20), )\n",
    "    \n",
    "    def __init__(self):\n",
    "        self.lines.signal = self.data - bt.ind.SMA(period=self.p.period)"
   ]
  },
  {
   "cell_type": "markdown",
   "metadata": {},
   "source": [
    "3. Download data from Yahoo Finance:"
   ]
  },
  {
   "cell_type": "markdown",
   "metadata": {},
   "source": [
    "First, we download the adjusted prices from Yahoo Finance using the `yfinance` library:"
   ]
  },
  {
   "cell_type": "code",
   "execution_count": null,
   "metadata": {
    "ExecuteTime": {
     "end_time": "2020-03-20T19:48:06.748824Z",
     "start_time": "2020-03-20T19:48:06.598040Z"
    }
   },
   "outputs": [],
   "source": [
    "aapl_df = yf.download(\"AAPL\", \n",
    "                      start=\"2021-01-01\", \n",
    "                      end=\"2021-12-31\",\n",
    "                      progress=False,\n",
    "                      auto_adjust=True)\n",
    "\n",
    "aapl_df.head()"
   ]
  },
  {
   "cell_type": "markdown",
   "metadata": {},
   "source": [
    "Then, we feed the DataFrame to `backtrader` using `bt.feeds.PandasData`. For more information, please refer to the [official documentation](https://www.backtrader.com/docu/pandas-datafeed/pandas-datafeed/)."
   ]
  },
  {
   "cell_type": "code",
   "execution_count": null,
   "metadata": {
    "ExecuteTime": {
     "end_time": "2020-03-20T19:48:06.872436Z",
     "start_time": "2020-03-20T19:48:06.867198Z"
    }
   },
   "outputs": [],
   "source": [
    "data = bt.feeds.PandasData(dataname=aapl_df)"
   ]
  },
  {
   "cell_type": "markdown",
   "metadata": {},
   "source": [
    "4. Set up the backtest:"
   ]
  },
  {
   "cell_type": "code",
   "execution_count": null,
   "metadata": {
    "ExecuteTime": {
     "end_time": "2020-03-20T19:48:07.305634Z",
     "start_time": "2020-03-20T19:48:07.301418Z"
    }
   },
   "outputs": [],
   "source": [
    "cerebro = bt.Cerebro(stdstats = False)\n",
    "\n",
    "cerebro.adddata(data)\n",
    "cerebro.broker.setcash(1000.0)\n",
    "cerebro.add_signal(bt.SIGNAL_LONG, SmaSignal)\n",
    "cerebro.addobserver(bt.observers.BuySell)\n",
    "cerebro.addobserver(bt.observers.Value)"
   ]
  },
  {
   "cell_type": "markdown",
   "metadata": {},
   "source": [
    "5. Run the backtest:"
   ]
  },
  {
   "cell_type": "code",
   "execution_count": null,
   "metadata": {
    "ExecuteTime": {
     "end_time": "2020-03-20T19:48:07.728432Z",
     "start_time": "2020-03-20T19:48:07.660318Z"
    }
   },
   "outputs": [],
   "source": [
    "print(f\"Starting Portfolio Value: {cerebro.broker.getvalue():.2f}\")\n",
    "cerebro.run()\n",
    "print(f\"Final Portfolio Value: {cerebro.broker.getvalue():.2f}\")"
   ]
  },
  {
   "cell_type": "markdown",
   "metadata": {},
   "source": [
    "The small difference in results can be easily caused by different approximation of the stock prices."
   ]
  },
  {
   "cell_type": "markdown",
   "metadata": {},
   "source": [
    "6. Plot the results:"
   ]
  },
  {
   "cell_type": "code",
   "execution_count": null,
   "metadata": {
    "ExecuteTime": {
     "end_time": "2020-03-20T19:48:08.741489Z",
     "start_time": "2020-03-20T19:48:08.532039Z"
    }
   },
   "outputs": [],
   "source": [
    "cerebro.plot(iplot=True, volume=False)"
   ]
  },
  {
   "cell_type": "markdown",
   "metadata": {},
   "source": [
    "## B.3 Analyzing the results with `pyfolio`"
   ]
  },
  {
   "cell_type": "markdown",
   "metadata": {},
   "source": [
    "### How to do it..."
   ]
  },
  {
   "cell_type": "markdown",
   "metadata": {},
   "source": [
    "1. Import the libraries:"
   ]
  },
  {
   "cell_type": "code",
   "execution_count": null,
   "metadata": {
    "ExecuteTime": {
     "end_time": "2020-01-24T12:37:32.830028Z",
     "start_time": "2020-01-24T12:37:31.936086Z"
    }
   },
   "outputs": [],
   "source": [
    "from datetime import datetime\n",
    "import backtrader as bt\n",
    "import pyfolio as pf"
   ]
  },
  {
   "cell_type": "markdown",
   "metadata": {},
   "source": [
    "2. Define a class representing the trading strategy:"
   ]
  },
  {
   "cell_type": "code",
   "execution_count": null,
   "metadata": {
    "ExecuteTime": {
     "end_time": "2020-01-24T12:37:32.843242Z",
     "start_time": "2020-01-24T12:37:32.838010Z"
    }
   },
   "outputs": [],
   "source": [
    "class SmaSignal(bt.Signal):\n",
    "    params = ((\"period\", 20), )\n",
    "    \n",
    "    def __init__(self):\n",
    "        self.lines.signal = self.data - bt.ind.SMA(period=self.p.period)"
   ]
  },
  {
   "cell_type": "markdown",
   "metadata": {},
   "source": [
    "3. Download data from Yahoo Finance:"
   ]
  },
  {
   "cell_type": "code",
   "execution_count": null,
   "metadata": {
    "ExecuteTime": {
     "end_time": "2020-01-24T12:37:33.131394Z",
     "start_time": "2020-01-24T12:37:33.127520Z"
    }
   },
   "outputs": [],
   "source": [
    "data = bt.feeds.YahooFinanceData(dataname=\"AAPL\", \n",
    "                                 fromdate=datetime(2021, 1, 1),\n",
    "                                 todate=datetime(2021, 12, 31))"
   ]
  },
  {
   "cell_type": "markdown",
   "metadata": {},
   "source": [
    "4. Set up the backtest:"
   ]
  },
  {
   "cell_type": "code",
   "execution_count": null,
   "metadata": {
    "ExecuteTime": {
     "end_time": "2020-01-24T12:37:33.987802Z",
     "start_time": "2020-01-24T12:37:33.983588Z"
    }
   },
   "outputs": [],
   "source": [
    "cerebro = bt.Cerebro(stdstats = False)\n",
    "\n",
    "cerebro.adddata(data)\n",
    "cerebro.broker.setcash(1000.0)\n",
    "cerebro.add_signal(bt.SIGNAL_LONG, SmaSignal)\n",
    "cerebro.addobserver(bt.observers.BuySell)\n",
    "cerebro.addobserver(bt.observers.Value)\n",
    "cerebro.addanalyzer(bt.analyzers.PyFolio, _name='pyfolio')"
   ]
  },
  {
   "cell_type": "markdown",
   "metadata": {},
   "source": [
    "5. Run the backtest:"
   ]
  },
  {
   "cell_type": "code",
   "execution_count": null,
   "metadata": {
    "ExecuteTime": {
     "end_time": "2020-01-24T12:37:40.073189Z",
     "start_time": "2020-01-24T12:37:39.259380Z"
    }
   },
   "outputs": [],
   "source": [
    "backtest_result = cerebro.run()\n"
   ]
  },
  {
   "cell_type": "markdown",
   "metadata": {},
   "source": [
    "6. Access the `pyfolio` analyzers:"
   ]
  },
  {
   "cell_type": "code",
   "execution_count": null,
   "metadata": {},
   "outputs": [],
   "source": [
    "pyfolio_analyzer = backtest_result[0].analyzers.getbyname('pyfolio')\n",
    "returns, positions, transactions, gross_lev = pyfolio_analyzer.get_pf_items()"
   ]
  },
  {
   "cell_type": "code",
   "execution_count": null,
   "metadata": {},
   "outputs": [],
   "source": [
    "transactions"
   ]
  },
  {
   "cell_type": "markdown",
   "metadata": {},
   "source": [
    "7. Print the tear sheet:"
   ]
  },
  {
   "cell_type": "code",
   "execution_count": null,
   "metadata": {},
   "outputs": [],
   "source": [
    "pf.create_full_tear_sheet(returns,\n",
    "                          transactions=transactions,\n",
    "                          positions=positions)"
   ]
  }
 ],
 "metadata": {
  "interpreter": {
   "hash": "0117835dafdb051235b33d006a7ad155411608685e1d44af6fb551f6db3e7774"
  },
  "kernelspec": {
   "display_name": "Python [conda env:base] *",
   "language": "python",
   "name": "conda-base-py"
  },
  "language_info": {
   "codemirror_mode": {
    "name": "ipython",
    "version": 3
   },
   "file_extension": ".py",
   "mimetype": "text/x-python",
   "name": "python",
   "nbconvert_exporter": "python",
   "pygments_lexer": "ipython3",
   "version": "3.12.3"
  }
 },
 "nbformat": 4,
 "nbformat_minor": 4
}
